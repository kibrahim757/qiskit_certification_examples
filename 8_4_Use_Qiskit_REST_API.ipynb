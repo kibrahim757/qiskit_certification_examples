{
 "cells": [
  {
   "cell_type": "markdown",
   "id": "c36ac191",
   "metadata": {},
   "source": [
    "# Task 8.4 Qiskit Runtime Rest API"
   ]
  },
  {
   "cell_type": "markdown",
   "id": "b0377882",
   "metadata": {},
   "source": [
    "## Objective 1 : Interact with the Qiskit IBM Runtime REST API"
   ]
  },
  {
   "cell_type": "markdown",
   "id": "10aa339f",
   "metadata": {},
   "source": [
    "API provides\n",
    "* run circuits on QPU\n",
    "* get information asbout QPU and instances"
   ]
  },
  {
   "cell_type": "markdown",
   "id": "ba415560",
   "metadata": {},
   "source": [
    "### Authentication"
   ]
  },
  {
   "cell_type": "code",
   "execution_count": null,
   "id": "f31f8d89",
   "metadata": {},
   "outputs": [],
   "source": [
    "curl -X POST 'https://iam.cloud.ibm.com/identity/token' \\\n",
    "-H 'Content-Type: application/x-www-form-urlencoded' \\\n",
    "-d 'grant_type=urn:ibm:params:oauth:grant-type:apikey&apikey=MY_APIKEY'"
   ]
  },
  {
   "cell_type": "markdown",
   "id": "cd1836ff",
   "metadata": {},
   "source": [
    "### Submit a Job"
   ]
  },
  {
   "cell_type": "code",
   "execution_count": null,
   "id": "d0c7b4fa",
   "metadata": {},
   "outputs": [],
   "source": [
    "curl -X 'POST' \\\n",
    "  'https://quantum.cloud.ibm.com/api/v1/jobs' \\\n",
    "  -H 'accept: application/json' \\\n",
    "  -H 'Authorization: Bearer <YOUR_BEARER_TOKEN>' \\\n",
    "  -H 'Service-CRN: <YOUR_INSTANCE_CRN>' \\\n",
    "  -H 'Content-Type: application/json' \\\n",
    "  --data-raw '{\n",
    "  \"program_id\": \"estimator\",\n",
    "  \"backend\": \"ibm_brisbane\",\n",
    "  \"params\": {\n",
    "    \"pubs\": [[\n",
    "      \"OPENQASM 3.0; include \\\"stdgates.inc\\\"; bit[1] c; x $0; c[0] = measure $0;\", \"Z\"\n",
    "    ]],\n",
    "    \"options\": {\"dynamical_decoupling\": {\"enable\": true}},\n",
    "    \"version\": 2,\n",
    "    \"resilience_level\": 1\n",
    "  }\n",
    "}'"
   ]
  },
  {
   "cell_type": "markdown",
   "id": "24a7f686",
   "metadata": {},
   "source": [
    "### Use a Session"
   ]
  },
  {
   "cell_type": "code",
   "execution_count": null,
   "id": "9c558fe1",
   "metadata": {},
   "outputs": [],
   "source": [
    "curl -X POST \\\n",
    "  'https://quantum.cloud.ibm.com/api/v1/sessions' \\\n",
    "  -H 'Accept: application/json' \\\n",
    "  -H 'Authorization: Bearer <YOUR_BEARER_TOKEN>' \\\n",
    "  -H 'Service-CRN: <YOUR_INSTANCE_CRN>' \\\n",
    "  -H 'Content-Type: application/json' \\\n",
    "  --data-raw '{\n",
    "  \"mode\": \"dedicated\",\n",
    "  \"max_ttl\": 28800\n",
    "}'"
   ]
  },
  {
   "cell_type": "markdown",
   "id": "f3a792dd",
   "metadata": {},
   "source": [
    "get session_id and use it in next job"
   ]
  },
  {
   "cell_type": "code",
   "execution_count": 1,
   "id": "1d77c582",
   "metadata": {},
   "outputs": [
    {
     "ename": "SyntaxError",
     "evalue": "unterminated string literal (detected at line 7) (1679404525.py, line 7)",
     "output_type": "error",
     "traceback": [
      "  \u001b[36mCell\u001b[39m\u001b[36m \u001b[39m\u001b[32mIn[1]\u001b[39m\u001b[32m, line 7\u001b[39m\n\u001b[31m    \u001b[39m\u001b[31m--data-raw '{\u001b[39m\n               ^\n\u001b[31mSyntaxError\u001b[39m\u001b[31m:\u001b[39m unterminated string literal (detected at line 7)\n"
     ]
    }
   ],
   "source": [
    "curl -X POST \\\n",
    "  'https://quantum.cloud.ibm.com/api/v1/jobs' \\\n",
    "  -H 'Accept: application/json' \\\n",
    "  -H 'Authorization: Bearer <YOUR_BEARER_TOKEN>' \\\n",
    "  -H 'Service-CRN: <YOUR_INSTANCE_CRN>' \\\n",
    "  -H 'Content-Type: application/json' \\\n",
    "  --data-raw '{\n",
    "  \"program_id\": \"sampler\",\n",
    "  \"backend\": \"ibm_brisbane\",\n",
    "  \"session_id\": \"session_id1\",\n",
    "  \"params\": {\n",
    "    \"pubs\": [[\n",
    "      \"OPENQASM 3.0; include \\\"stdgates.inc\\\"; bit[1] c; x $0; c[0] = measure $0;\"\n",
    "    ]],\n",
    "    \"options\": {},\n",
    "    \"version\": 2\n",
    "  }\n",
    "}'"
   ]
  }
 ],
 "metadata": {
  "kernelspec": {
   "display_name": "Python 3 (ipykernel)",
   "language": "python",
   "name": "python3"
  }
 },
 "nbformat": 4,
 "nbformat_minor": 5
}
