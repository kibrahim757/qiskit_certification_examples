{
 "cells": [
  {
   "cell_type": "markdown",
   "id": "744f9db2",
   "metadata": {},
   "source": [
    "# Task 1.3 Visualize Quantum Circuits"
   ]
  },
  {
   "cell_type": "code",
   "execution_count": null,
   "id": "f25037e1",
   "metadata": {},
   "outputs": [
    {
     "ename": "",
     "evalue": "",
     "output_type": "error",
     "traceback": [
      "\u001b[1;31mFailed to start the Kernel 'Python 3 (ipykernel) (1_2_Quantum_Operations.ipynb)'. \n",
      "\u001b[1;31mView Jupyter <a href='command:jupyter.viewOutput'>log</a> for further details. Unable to get resolved server information for ms-toolsai.jupyter:_builtin.jupyterServerUrlProvider:6f312d96-7983-4012-963c-90c41defe045"
     ]
    }
   ],
   "source": [
    "from qiskit import QuantumCircuit\n",
    "\n",
    "# Build a quantum circuit\n",
    "circuit = QuantumCircuit(3, 3)\n",
    "circuit.x(1)\n",
    "circuit.h(range(3))\n",
    "circuit.cx(0, 1)\n",
    "circuit.measure(range(3), range(3));\n",
    "\n",
    "print(circuit)"
   ]
  }
 ],
 "metadata": {
  "kernelspec": {
   "display_name": "Python 3 (ipykernel)",
   "language": "python",
   "name": "python3"
  }
 },
 "nbformat": 4,
 "nbformat_minor": 5
}
