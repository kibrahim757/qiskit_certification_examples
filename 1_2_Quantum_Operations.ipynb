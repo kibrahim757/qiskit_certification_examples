{
 "cells": [
  {
   "cell_type": "markdown",
   "id": "335f67c2",
   "metadata": {},
   "source": [
    "#Task 1.2 Apply Quantum Operations\n",
    "\n",
    "\n",
    "* Standard Gates\n",
    "    reversible Unitary Gates\n"
   ]
  },
  {
   "cell_type": "code",
   "execution_count": 10,
   "id": "9ea364bf",
   "metadata": {},
   "outputs": [
    {
     "name": "stdout",
     "output_type": "stream",
     "text": [
      "XGate Matrix:[[0.+0.j 1.+0.j]\n",
      " [1.+0.j 0.+0.j]]\n",
      "√X Matrix:[[0.5+0.5j 0.5-0.5j]\n",
      " [0.5-0.5j 0.5+0.5j]]\n",
      "CX Gate[[1.+0.j 0.+0.j 0.+0.j 0.+0.j]\n",
      " [0.+0.j 0.+0.j 0.+0.j 1.+0.j]\n",
      " [0.+0.j 0.+0.j 1.+0.j 0.+0.j]\n",
      " [0.+0.j 1.+0.j 0.+0.j 0.+0.j]]\n"
     ]
    }
   ],
   "source": [
    "from qiskit.circuit.library import XGate\n",
    "\n",
    "xgate = XGate()\n",
    "print (f\"XGate Matrix:{xgate.to_matrix()}\")\n",
    "print(f\"√X Matrix:{xgate.power(1/2).to_matrix()}\")\n",
    "print(f\"CX Gate{xgate.control(1).to_matrix()}\")\n"
   ]
  },
  {
   "cell_type": "code",
   "execution_count": 5,
   "id": "80c6428d",
   "metadata": {},
   "outputs": [
    {
     "name": "stdout",
     "output_type": "stream",
     "text": [
      "{'id': Instruction(name='id', num_qubits=1, num_clbits=0, params=[]), 'sx': Instruction(name='sx', num_qubits=1, num_clbits=0, params=[]), 'x': Instruction(name='x', num_qubits=1, num_clbits=0, params=[]), 'cx': Instruction(name='cx', num_qubits=2, num_clbits=0, params=[]), 'rz': Instruction(name='rz', num_qubits=1, num_clbits=0, params=[Parameter(λ)]), 'r': Instruction(name='r', num_qubits=1, num_clbits=0, params=[Parameter(ϴ), Parameter(φ)]), 'c3sx': Instruction(name='c3sx', num_qubits=4, num_clbits=0, params=[]), 'ccx': Instruction(name='ccx', num_qubits=3, num_clbits=0, params=[]), 'dcx': Instruction(name='dcx', num_qubits=2, num_clbits=0, params=[]), 'ch': Instruction(name='ch', num_qubits=2, num_clbits=0, params=[]), 'cp': Instruction(name='cp', num_qubits=2, num_clbits=0, params=[Parameter(ϴ)]), 'crx': Instruction(name='crx', num_qubits=2, num_clbits=0, params=[Parameter(ϴ)]), 'cry': Instruction(name='cry', num_qubits=2, num_clbits=0, params=[Parameter(ϴ)]), 'crz': Instruction(name='crz', num_qubits=2, num_clbits=0, params=[Parameter(ϴ)]), 'cswap': Instruction(name='cswap', num_qubits=3, num_clbits=0, params=[]), 'csx': Instruction(name='csx', num_qubits=2, num_clbits=0, params=[]), 'cu': Instruction(name='cu', num_qubits=2, num_clbits=0, params=[Parameter(ϴ), Parameter(φ), Parameter(λ), Parameter(γ)]), 'cu1': Instruction(name='cu1', num_qubits=2, num_clbits=0, params=[Parameter(λ)]), 'cu3': Instruction(name='cu3', num_qubits=2, num_clbits=0, params=[Parameter(ϴ), Parameter(φ), Parameter(λ)]), 'cy': Instruction(name='cy', num_qubits=2, num_clbits=0, params=[]), 'cz': Instruction(name='cz', num_qubits=2, num_clbits=0, params=[]), 'ccz': Instruction(name='ccz', num_qubits=3, num_clbits=0, params=[]), 'global_phase': Instruction(name='global_phase', num_qubits=0, num_clbits=0, params=[Parameter(ϴ)]), 'h': Instruction(name='h', num_qubits=1, num_clbits=0, params=[]), 'p': Instruction(name='p', num_qubits=1, num_clbits=0, params=[Parameter(ϴ)]), 'rccx': Instruction(name='rccx', num_qubits=3, num_clbits=0, params=[]), 'rcccx': Instruction(name='rcccx', num_qubits=4, num_clbits=0, params=[]), 'rx': Instruction(name='rx', num_qubits=1, num_clbits=0, params=[Parameter(ϴ)]), 'rxx': Instruction(name='rxx', num_qubits=2, num_clbits=0, params=[Parameter(ϴ)]), 'ry': Instruction(name='ry', num_qubits=1, num_clbits=0, params=[Parameter(ϴ)]), 'ryy': Instruction(name='ryy', num_qubits=2, num_clbits=0, params=[Parameter(ϴ)]), 'rzz': Instruction(name='rzz', num_qubits=2, num_clbits=0, params=[Parameter(ϴ)]), 'rzx': Instruction(name='rzx', num_qubits=2, num_clbits=0, params=[Parameter(ϴ)]), 'xx_minus_yy': Instruction(name='xx_minus_yy', num_qubits=2, num_clbits=0, params=[Parameter(ϴ), Parameter(β)]), 'xx_plus_yy': Instruction(name='xx_plus_yy', num_qubits=2, num_clbits=0, params=[Parameter(ϴ), Parameter(β)]), 'ecr': Instruction(name='ecr', num_qubits=2, num_clbits=0, params=[]), 's': Instruction(name='s', num_qubits=1, num_clbits=0, params=[]), 'sdg': Instruction(name='sdg', num_qubits=1, num_clbits=0, params=[]), 'cs': Instruction(name='cs', num_qubits=2, num_clbits=0, params=[]), 'csdg': Instruction(name='csdg', num_qubits=2, num_clbits=0, params=[]), 'swap': Instruction(name='swap', num_qubits=2, num_clbits=0, params=[]), 'iswap': Instruction(name='iswap', num_qubits=2, num_clbits=0, params=[]), 'sxdg': Instruction(name='sxdg', num_qubits=1, num_clbits=0, params=[]), 't': Instruction(name='t', num_qubits=1, num_clbits=0, params=[]), 'tdg': Instruction(name='tdg', num_qubits=1, num_clbits=0, params=[]), 'u': Instruction(name='u', num_qubits=1, num_clbits=0, params=[Parameter(ϴ), Parameter(φ), Parameter(λ)]), 'u1': Instruction(name='u1', num_qubits=1, num_clbits=0, params=[Parameter(λ)]), 'u2': Instruction(name='u2', num_qubits=1, num_clbits=0, params=[Parameter(φ), Parameter(λ)]), 'u3': Instruction(name='u3', num_qubits=1, num_clbits=0, params=[Parameter(ϴ), Parameter(φ), Parameter(λ)]), 'y': Instruction(name='y', num_qubits=1, num_clbits=0, params=[]), 'z': Instruction(name='z', num_qubits=1, num_clbits=0, params=[]), 'delay': Delay(duration=t[unit=dt]), 'reset': Instruction(name='reset', num_qubits=1, num_clbits=0, params=[]), 'measure': Instruction(name='measure', num_qubits=1, num_clbits=1, params=[])}\n"
     ]
    }
   ],
   "source": [
    "from qiskit.circuit.library import get_standard_gate_name_mapping\n",
    "\n",
    "print(get_standard_gate_name_mapping())"
   ]
  },
  {
   "cell_type": "markdown",
   "id": "2ae86ece",
   "metadata": {},
   "source": [
    "** 1 qubit Gate"
   ]
  },
  {
   "cell_type": "code",
   "execution_count": 6,
   "id": "12bb1aff",
   "metadata": {},
   "outputs": [
    {
     "name": "stdout",
     "output_type": "stream",
     "text": [
      "HGate Matrix:[[ 0.70710678+0.j  0.70710678+0.j]\n",
      " [ 0.70710678+0.j -0.70710678+0.j]]\n"
     ]
    }
   ],
   "source": [
    "from qiskit.circuit.library import HGate\n",
    "\n",
    "hgate=HGate()\n",
    "print (f\"HGate Matrix:{hgate.to_matrix()}\")"
   ]
  },
  {
   "cell_type": "markdown",
   "id": "48b21428",
   "metadata": {},
   "source": [
    "** 2 qubit Gates"
   ]
  },
  {
   "cell_type": "code",
   "execution_count": 7,
   "id": "1f988a1a",
   "metadata": {},
   "outputs": [
    {
     "name": "stdout",
     "output_type": "stream",
     "text": [
      "SwapGate Matrix:[[1.+0.j 0.+0.j 0.+0.j 0.+0.j]\n",
      " [0.+0.j 0.+0.j 1.+0.j 0.+0.j]\n",
      " [0.+0.j 1.+0.j 0.+0.j 0.+0.j]\n",
      " [0.+0.j 0.+0.j 0.+0.j 1.+0.j]]\n"
     ]
    }
   ],
   "source": [
    "from qiskit.circuit.library import SwapGate\n",
    "\n",
    "swapgate=SwapGate()\n",
    "print (f\"SwapGate Matrix:{swapgate.to_matrix()}\")"
   ]
  },
  {
   "cell_type": "markdown",
   "id": "be4ea63d",
   "metadata": {},
   "source": [
    "** 3+ qubit Gates "
   ]
  },
  {
   "cell_type": "code",
   "execution_count": 8,
   "id": "6273b06f",
   "metadata": {},
   "outputs": [
    {
     "name": "stdout",
     "output_type": "stream",
     "text": [
      "CCXGate Matrix:[[1.+0.j 0.+0.j 0.+0.j 0.+0.j 0.+0.j 0.+0.j 0.+0.j 0.+0.j]\n",
      " [0.+0.j 1.+0.j 0.+0.j 0.+0.j 0.+0.j 0.+0.j 0.+0.j 0.+0.j]\n",
      " [0.+0.j 0.+0.j 1.+0.j 0.+0.j 0.+0.j 0.+0.j 0.+0.j 0.+0.j]\n",
      " [0.+0.j 0.+0.j 0.+0.j 0.+0.j 0.+0.j 0.+0.j 0.+0.j 1.+0.j]\n",
      " [0.+0.j 0.+0.j 0.+0.j 0.+0.j 1.+0.j 0.+0.j 0.+0.j 0.+0.j]\n",
      " [0.+0.j 0.+0.j 0.+0.j 0.+0.j 0.+0.j 1.+0.j 0.+0.j 0.+0.j]\n",
      " [0.+0.j 0.+0.j 0.+0.j 0.+0.j 0.+0.j 0.+0.j 1.+0.j 0.+0.j]\n",
      " [0.+0.j 0.+0.j 0.+0.j 1.+0.j 0.+0.j 0.+0.j 0.+0.j 0.+0.j]]\n"
     ]
    }
   ],
   "source": [
    "from qiskit.circuit.library import CCXGate\n",
    "\n",
    "ccxgate=CCXGate()\n",
    "print (f\"CCXGate Matrix:{ccxgate.to_matrix()}\")"
   ]
  },
  {
   "cell_type": "markdown",
   "id": "b69ba916",
   "metadata": {},
   "source": [
    "** Global Gates "
   ]
  },
  {
   "cell_type": "code",
   "execution_count": 9,
   "id": "60314886",
   "metadata": {},
   "outputs": [
    {
     "name": "stdout",
     "output_type": "stream",
     "text": [
      "GPGat Matrix:[[1.+0.j 0.+0.j 0.+0.j 0.+0.j 0.+0.j 0.+0.j 0.+0.j 0.+0.j]\n",
      " [0.+0.j 1.+0.j 0.+0.j 0.+0.j 0.+0.j 0.+0.j 0.+0.j 0.+0.j]\n",
      " [0.+0.j 0.+0.j 1.+0.j 0.+0.j 0.+0.j 0.+0.j 0.+0.j 0.+0.j]\n",
      " [0.+0.j 0.+0.j 0.+0.j 0.+0.j 0.+0.j 0.+0.j 0.+0.j 1.+0.j]\n",
      " [0.+0.j 0.+0.j 0.+0.j 0.+0.j 1.+0.j 0.+0.j 0.+0.j 0.+0.j]\n",
      " [0.+0.j 0.+0.j 0.+0.j 0.+0.j 0.+0.j 1.+0.j 0.+0.j 0.+0.j]\n",
      " [0.+0.j 0.+0.j 0.+0.j 0.+0.j 0.+0.j 0.+0.j 1.+0.j 0.+0.j]\n",
      " [0.+0.j 0.+0.j 0.+0.j 1.+0.j 0.+0.j 0.+0.j 0.+0.j 0.+0.j]]\n"
     ]
    }
   ],
   "source": [
    "from qiskit.circuit.library import GlobalPhaseGate\n",
    "import numpy as py\n",
    "\n",
    "gpgate=GlobalPhaseGate(py.pi/2)\n",
    "print (f\"GPGat Matrix:{ccxgate.to_matrix()}\")"
   ]
  },
  {
   "cell_type": "markdown",
   "id": "16613728",
   "metadata": {},
   "source": [
    "** Directives"
   ]
  },
  {
   "cell_type": "code",
   "execution_count": 42,
   "id": "10690469",
   "metadata": {},
   "outputs": [
    {
     "data": {
      "image/png": "[encoded data removed]",
      "text/plain": [
       "<Figure size 287.496x367.889 with 1 Axes>"
      ]
     },
     "execution_count": 42,
     "metadata": {},
     "output_type": "execute_result"
    }
   ],
   "source": [
    "from qiskit.circuit import QuantumCircuit\n",
    "from qiskit.circuit.library import Barrier\n",
    "\n",
    "b=Barrier(1)\n",
    "qc= QuantumCircuit(3,3)\n",
    "qc.compose(xgate).compose(b).draw('mpl')"
   ]
  },
  {
   "cell_type": "markdown",
   "id": "9784e5d8",
   "metadata": {},
   "source": [
    "** Standard Operations\n",
    "\n",
    "Measure"
   ]
  },
  {
   "cell_type": "code",
   "execution_count": 43,
   "id": "e55516d8",
   "metadata": {},
   "outputs": [
    {
     "data": {
      "image/png": "[encoded data removed]",
      "text/plain": [
       "<Figure size 287.496x367.889 with 1 Axes>"
      ]
     },
     "execution_count": 43,
     "metadata": {},
     "output_type": "execute_result"
    }
   ],
   "source": [
    "from qiskit.circuit.library import Measure\n",
    "measure =Measure()\n",
    "qc.compose(hgate).compose(measure).draw('mpl')"
   ]
  },
  {
   "cell_type": "markdown",
   "id": "71a3cc5c",
   "metadata": {},
   "source": [
    "Reset"
   ]
  },
  {
   "cell_type": "code",
   "execution_count": 47,
   "id": "fa9b6d38",
   "metadata": {},
   "outputs": [
    {
     "data": {
      "image/png": "[encoded data removed]",
      "text/plain": [
       "<Figure size 287.496x367.889 with 1 Axes>"
      ]
     },
     "execution_count": 47,
     "metadata": {},
     "output_type": "execute_result"
    }
   ],
   "source": [
    "from qiskit.circuit.library import Reset\n",
    "reset =Reset()\n",
    "qc.compose(ccxgate).compose(reset).draw('mpl')"
   ]
  },
  {
   "cell_type": "markdown",
   "id": "0fa68987",
   "metadata": {},
   "source": [
    "** Generalized Gates"
   ]
  },
  {
   "cell_type": "code",
   "execution_count": 48,
   "id": "746cf5b6",
   "metadata": {},
   "outputs": [
    {
     "data": {
      "image/png": "[encoded data removed]",
      "text/plain": [
       "<Figure size 203.885x367.889 with 1 Axes>"
      ]
     },
     "execution_count": 48,
     "metadata": {},
     "output_type": "execute_result"
    }
   ],
   "source": [
    "from qiskit.circuit.library import MCXGate\n",
    "\n",
    "mcxgate = MCXGate(num_ctrl_qubits=2)\n",
    "qc.compose(mcxgate).draw('mpl')"
   ]
  },
  {
   "cell_type": "markdown",
   "id": "a7336fda",
   "metadata": {},
   "source": [
    "** Boolean Gates"
   ]
  },
  {
   "cell_type": "code",
   "execution_count": 50,
   "id": "d19ca563",
   "metadata": {},
   "outputs": [
    {
     "data": {
      "image/png": "[encoded data removed]",
      "text/plain": [
       "<Figure size 203.885x367.889 with 1 Axes>"
      ]
     },
     "execution_count": 50,
     "metadata": {},
     "output_type": "execute_result"
    }
   ],
   "source": [
    "from qiskit.circuit.library import AndGate\n",
    "\n",
    "andgate = AndGate(num_variable_qubits=2)\n",
    "qc.compose(andgate).draw('mpl')"
   ]
  },
  {
   "cell_type": "markdown",
   "id": "16522f21",
   "metadata": {},
   "source": [
    "** Basic Change Gates"
   ]
  },
  {
   "cell_type": "code",
   "execution_count": 53,
   "id": "cbd2ac70",
   "metadata": {},
   "outputs": [
    {
     "data": {
      "image/png": "[encoded data removed]",
      "text/plain": [
       "<Figure size 203.885x367.889 with 1 Axes>"
      ]
     },
     "execution_count": 53,
     "metadata": {},
     "output_type": "execute_result"
    }
   ],
   "source": [
    "from qiskit.circuit.library import QFTGate\n",
    "\n",
    "qftgate=QFTGate(2)\n",
    "qc.compose(qftgate).draw('mpl')"
   ]
  },
  {
   "cell_type": "markdown",
   "id": "f8f7847a",
   "metadata": {},
   "source": [
    "** Arithmetic Gates"
   ]
  },
  {
   "cell_type": "code",
   "execution_count": null,
   "id": "782a9b51",
   "metadata": {},
   "outputs": [],
   "source": []
  }
 ],
 "metadata": {
  "kernelspec": {
   "display_name": "Python 3 (ipykernel)",
   "language": "python",
   "name": "python3"
  },
  "language_info": {
   "codemirror_mode": {
    "name": "ipython",
    "version": 3
   },
   "file_extension": ".py",
   "mimetype": "text/x-python",
   "name": "python",
   "nbconvert_exporter": "python",
   "pygments_lexer": "ipython3",
   "version": "3.13.7"
  }
 },
 "nbformat": 4,
 "nbformat_minor": 5
}
