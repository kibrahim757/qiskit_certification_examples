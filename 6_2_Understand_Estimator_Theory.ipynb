{
 "cells": [
  {
   "cell_type": "markdown",
   "id": "c5bdf1b9",
   "metadata": {},
   "source": [
    "# Task 6.2 Understand Theortical Background behind Estimator\n",
    "\n",
    "## Objective 1: Primitives\n",
    "\n",
    "Check Task 5.1 Objective 1"
   ]
  },
  {
   "cell_type": "markdown",
   "id": "0c826b2a",
   "metadata": {},
   "source": [
    "## Objective 2 : Error Mitigation and Suppression\n",
    "\n",
    "Check Task 5.1 Objective 4"
   ]
  },
  {
   "cell_type": "markdown",
   "id": "84d558a3",
   "metadata": {},
   "source": [
    "## Estimator\n",
    "\n",
    "### Attributes\n",
    "\n",
    "* mode\n",
    "* options\n",
    "* version\n",
    "\n",
    "\n",
    "### Methods\n",
    "\n",
    "* backend()\n",
    "* run()"
   ]
  }
 ],
 "metadata": {
  "kernelspec": {
   "display_name": "Python 3 (ipykernel)",
   "language": "python",
   "name": "python3"
  }
 },
 "nbformat": 4,
 "nbformat_minor": 5
}
