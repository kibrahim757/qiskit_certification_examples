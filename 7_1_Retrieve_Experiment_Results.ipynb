{
 "cells": [
  {
   "cell_type": "markdown",
   "id": "5c362a42",
   "metadata": {},
   "source": [
    "# Task 7.1 Retrive Experiment Results\n",
    "\n",
    "## Objective 1: SamplerPubResults"
   ]
  },
  {
   "cell_type": "markdown",
   "id": "ad5e340d",
   "metadata": {},
   "source": [
    "### Attributes\n",
    "\n",
    "* data\n",
    "* metadata"
   ]
  },
  {
   "cell_type": "markdown",
   "id": "a4f522c2",
   "metadata": {},
   "source": [
    "### Methods\n",
    "\n",
    "* join_data"
   ]
  },
  {
   "cell_type": "markdown",
   "id": "909890f9",
   "metadata": {},
   "source": [
    "## Objective 2: Save and Retrieve Jobs\n",
    "\n",
    "### Retrieve Jobs"
   ]
  },
  {
   "cell_type": "code",
   "execution_count": 1,
   "id": "67e4c4c9",
   "metadata": {},
   "outputs": [
    {
     "data": {
      "text/plain": [
       "[<RuntimeJobV2('d337gou6pnbs739iac80', 'estimator')>,\n",
       " <RuntimeJobV2('d32q5je6dbus73d8gu30', 'sampler')>,\n",
       " <RuntimeJobV2('d32psie6dbus73d8gm2g', 'estimator')>]"
      ]
     },
     "execution_count": 1,
     "metadata": {},
     "output_type": "execute_result"
    }
   ],
   "source": [
    "import datetime\n",
    "from qiskit_ibm_runtime import QiskitRuntimeService\n",
    " \n",
    "three_months_ago = datetime.datetime.now() - datetime.timedelta(days=90)\n",
    " \n",
    "service = QiskitRuntimeService()\n",
    "jobs_in_last_three_months = service.jobs(created_after=three_months_ago)\n",
    "jobs_in_last_three_months[:3]  # show first three jobs"
   ]
  },
  {
   "cell_type": "code",
   "execution_count": 2,
   "id": "8884bda1",
   "metadata": {},
   "outputs": [
    {
     "name": "stdout",
     "output_type": "stream",
     "text": [
      "d337gou6pnbs739iac80\n"
     ]
    }
   ],
   "source": [
    "# Get ID of most recent successful job for demonstration.\n",
    "# This will not work if you've never successfully run a job.\n",
    "successful_job = next(\n",
    "    j for j in service.jobs(limit=1000) if j.status() == \"DONE\"\n",
    ")\n",
    "job_id = successful_job.job_id()\n",
    "print(job_id)"
   ]
  },
  {
   "cell_type": "code",
   "execution_count": 3,
   "id": "ebd07630",
   "metadata": {},
   "outputs": [
    {
     "data": {
      "text/plain": [
       "PrimitiveResult([PubResult(data=DataBin(evs=np.ndarray(<shape=(3, 100), dtype=float64>), stds=np.ndarray(<shape=(3, 100), dtype=float64>), ensemble_standard_error=np.ndarray(<shape=(3, 100), dtype=float64>), shape=(3, 100)), metadata={'shots': 4096, 'target_precision': 0.015625, 'circuit_metadata': {}, 'resilience': {}, 'num_randomizations': 32})], metadata={'dynamical_decoupling': {'enable': False, 'sequence_type': 'XX', 'extra_slack_distribution': 'middle', 'scheduling_method': 'alap'}, 'twirling': {'enable_gates': False, 'enable_measure': True, 'num_randomizations': 'auto', 'shots_per_randomization': 'auto', 'interleave_randomizations': True, 'strategy': 'active-accum'}, 'resilience': {'measure_mitigation': True, 'zne_mitigation': False, 'pec_mitigation': False}, 'version': 2})"
      ]
     },
     "execution_count": 3,
     "metadata": {},
     "output_type": "execute_result"
    }
   ],
   "source": [
    "retrieved_job = service.job(job_id)\n",
    "retrieved_job.result()"
   ]
  },
  {
   "cell_type": "markdown",
   "id": "85236aab",
   "metadata": {},
   "source": [
    "Qiskit Code Assistant Prompt\n",
    "\n",
    "<code>\n",
    "# Retrieve job JOB_ID from IBM Runtime and print the result\n",
    "</code>"
   ]
  },
  {
   "cell_type": "markdown",
   "id": "e4fc4c23",
   "metadata": {},
   "source": [
    "### Save Jesults to disk"
   ]
  },
  {
   "cell_type": "code",
   "execution_count": 4,
   "id": "4b64f3b1",
   "metadata": {},
   "outputs": [],
   "source": [
    "import json\n",
    "from qiskit_ibm_runtime import RuntimeEncoder\n",
    " \n",
    "with open(\"result.json\", \"w\") as file:\n",
    "    json.dump(retrieved_job.result(), file, cls=RuntimeEncoder)"
   ]
  },
  {
   "cell_type": "code",
   "execution_count": 5,
   "id": "b16147d9",
   "metadata": {},
   "outputs": [
    {
     "data": {
      "text/plain": [
       "PrimitiveResult([PubResult(data=DataBin(evs=np.ndarray(<shape=(3, 100), dtype=float64>), stds=np.ndarray(<shape=(3, 100), dtype=float64>), ensemble_standard_error=np.ndarray(<shape=(3, 100), dtype=float64>), shape=(3, 100)), metadata={'shots': 4096, 'target_precision': 0.015625, 'circuit_metadata': {}, 'resilience': {}, 'num_randomizations': 32})], metadata={'dynamical_decoupling': {'enable': False, 'sequence_type': 'XX', 'extra_slack_distribution': 'middle', 'scheduling_method': 'alap'}, 'twirling': {'enable_gates': False, 'enable_measure': True, 'num_randomizations': 'auto', 'shots_per_randomization': 'auto', 'interleave_randomizations': True, 'strategy': 'active-accum'}, 'resilience': {'measure_mitigation': True, 'zne_mitigation': False, 'pec_mitigation': False}, 'version': 2})"
      ]
     },
     "execution_count": 5,
     "metadata": {},
     "output_type": "execute_result"
    }
   ],
   "source": [
    "from qiskit_ibm_runtime import RuntimeDecoder\n",
    " \n",
    "with open(\"result.json\", \"r\") as file:\n",
    "    result = json.load(file, cls=RuntimeDecoder)\n",
    " \n",
    "result"
   ]
  }
 ],
 "metadata": {
  "kernelspec": {
   "display_name": "Python 3 (ipykernel)",
   "language": "python",
   "name": "python3"
  },
  "language_info": {
   "codemirror_mode": {
    "name": "ipython",
    "version": 3
   },
   "file_extension": ".py",
   "mimetype": "text/x-python",
   "name": "python",
   "nbconvert_exporter": "python",
   "pygments_lexer": "ipython3",
   "version": "3.13.7"
  }
 },
 "nbformat": 4,
 "nbformat_minor": 5
}
