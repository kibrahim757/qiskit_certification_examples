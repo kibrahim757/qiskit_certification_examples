{
 "cells": [
  {
   "cell_type": "markdown",
   "id": "2fe0eaa5",
   "metadata": {},
   "source": [
    "# Task 5.2 Understand Theortical Background behind Sampler\n",
    "\n",
    "## Objective 1: Get Started with Primitives\n",
    "\n",
    "Check Task 5.1 objective 1"
   ]
  },
  {
   "cell_type": "markdown",
   "id": "7f3469e0",
   "metadata": {},
   "source": [
    "## Objective 2: Sampler\n",
    "\n",
    "\n",
    "### Attributes\n",
    "\n",
    "* mode\n",
    "* options\n",
    "* version\n",
    "\n",
    "\n",
    "### Methods\n",
    "\n",
    "* backend()\n",
    "* run()"
   ]
  }
 ],
 "metadata": {
  "kernelspec": {
   "display_name": "Python 3 (ipykernel)",
   "language": "python",
   "name": "python3"
  }
 },
 "nbformat": 4,
 "nbformat_minor": 5
}
