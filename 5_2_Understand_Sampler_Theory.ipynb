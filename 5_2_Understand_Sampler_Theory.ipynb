{
 "cells": [
  {
   "cell_type": "markdown",
   "id": "2fe0eaa5",
   "metadata": {},
   "source": [
    "# Task 5.2 Understand Theortical Background behind Sampler\n",
    "\n",
    "## Objective 1: Get Started with Primitives\n",
    "\n",
    "Check Task 5.1 objective 1"
   ]
  },
  {
   "cell_type": "markdown",
   "id": "7f3469e0",
   "metadata": {},
   "source": [
    "## Objective 2: Sampler\n",
    "\n",
    "\n",
    "### Attributes\n",
    "\n",
    "* mode\n",
    "* options\n",
    "* version\n",
    "\n",
    "\n",
    "### Methods\n",
    "\n",
    "* backend()\n",
    "* run()"
   ]
  },
  {
   "cell_type": "markdown",
   "id": "27a58ed5",
   "metadata": {},
   "source": [
    "## Objective 3: Migrate to Qiskit V2 primitives\n",
    "\n",
    "\n",
    "### Changes from V1 to V2\n",
    "\n",
    "* Import\n",
    "    * import is different \n",
    "\n",
    "<code>\n",
    "from qiskit_ibm_runtime import EstimatorV2 as Estimator\n",
    "\n",
    "from qiskit_ibm_runtime import SamplerV2 as Sampler\n",
    "</code>\n",
    "\n",
    "* Input\n",
    "\n",
    "    * Sampler V2 PUB format: (circuit, parameter values, shots), where parameter values and shots are optional.\n",
    "    * Estimator V2 PUB format: (circuit, observables, parameter values, precision), where parameter values and precision are optional."
   ]
  },
  {
   "cell_type": "code",
   "execution_count": null,
   "id": "e069a61b",
   "metadata": {},
   "outputs": [],
   "source": [
    "# Estimate expectation values for two PUBs, both with 0.05 precision.\n",
    "estimator.run([(circuit1, obs_array1), (circuit2, obs_array_2)], precision=0.05)"
   ]
  },
  {
   "cell_type": "code",
   "execution_count": null,
   "id": "f6533d2c",
   "metadata": {},
   "outputs": [],
   "source": [
    "# Sample two circuits at 128 shots each.\n",
    "sampler.run([circuit1, circuit2], shots=128)\n",
    " \n",
    "# Sample two circuits at different amounts of shots.\n",
    "# The \"None\"s are necessary as placeholders\n",
    "# for the lack of parameter values in this example.\n",
    "sampler.run([\n",
    "  (circuit1, None, 123),\n",
    "  (circuit2, None, 456),\n",
    "])"
   ]
  },
  {
   "cell_type": "markdown",
   "id": "a7d0a93c",
   "metadata": {},
   "source": [
    "* Output\n",
    "\n",
    "    * ouput is PubResult\n",
    "    * Estimator contains expectation_values and standard_errors\n",
    "    * Sampler containts per_shot measurments as bitstrings"
   ]
  },
  {
   "cell_type": "code",
   "execution_count": null,
   "id": "93cfb3f5",
   "metadata": {},
   "outputs": [],
   "source": [
    "# Estimator V1: Execute 1 circuit with 4 observables\n",
    "job = estimator_v1.run([circuit] * 4, [obs1, obs2, obs3, obs4])\n",
    "evs = job.result().values\n",
    "\n",
    "# Estimator V2: Execute 1 circuit with 4 observables\n",
    "job = estimator_v2.run([(circuit, [obs1, obs2, obs3, obs4])])\n",
    "evs = job.result()[0].data.evs\n",
    "##############################################################################################\n",
    "# Estimator V1: Execute 1 circuit with 4 observables and 2 parameter sets\n",
    "job = estimator_v1.run([circuit] * 8, [obs1, obs2, obs3, obs4] * 2, [vals1, vals2] * 4)\n",
    "evs = job.result().values\n",
    "\n",
    "# Estimator V2: Execute 1 circuit with 4 observables and 2 parameter sets\n",
    "\n",
    "job = estimator_v2.run([(circuit, [[obs1], [obs2], [obs3], [obs4]], [[vals1], [vals2]])])\n",
    "evs = job.result()[0].data.evs\n",
    "#############################################################################################\n",
    "# Estimator V1: Cannot execute 2 circuits with different observables\n",
    "\n",
    "# Estimator V2: Execute 2 circuits with 2 different observables.  There are\n",
    "# two PUBs because each PUB can have only one circuit.\n",
    "job = estimator_v2.run([(circuit1, obs1), (circuit2, obs2)])\n",
    "evs1 = job.result()[0].data.evs  # result for pub 1 (circuit 1)\n",
    "evs2 = job.result()[1].data.evs  # result for pub 2 (circuit 2)"
   ]
  },
  {
   "cell_type": "code",
   "execution_count": null,
   "id": "eaa199cb",
   "metadata": {},
   "outputs": [],
   "source": [
    "# Sampler V1: Execute 1 circuit with 3 parameter sets\n",
    "job = sampler_v1.run([circuit] * 3, [vals1, vals2, vals3])\n",
    "dists = job.result().quasi_dists\n",
    "\n",
    "# Sampler V2: Executing 1 circuit with 3 parameter sets\n",
    "job = sampler_v2.run([(circuit, [vals1, vals2, vals3])])\n",
    "counts = job.result()[0].data.meas.get_counts()\n",
    "#############################################################################################\n",
    "# Sampler V1: Execute 2 circuits with 1 parameter set\n",
    "job = sampler_v1.run([circuit1, circuit2], [vals1] * 2)\n",
    "dists = job.result().quasi_dists\n",
    "\n",
    "# Sampler V2: Execute 2 circuits with 1 parameter set\n",
    "job = sampler_v2.run([(circuit1, vals1), (circuit2, vals1)])\n",
    "counts1 = job.result()[0].data.meas.get_counts()  # result for pub 1 (circuit 1)\n",
    "counts2 = job.result()[1].data.meas.get_counts()  # result for pub 2 (circuit 2)\n",
    "\n",
    "#############################################################################################\n",
    "v2_result = sampler_v2_job.result()\n",
    "v1_format = []\n",
    "for pub_result in v2_result:\n",
    "  counts = pub_result.data.meas.get_counts()\n",
    "  v1_format.append( {int(key, 2): val/shots for key, val in counts.items()} )"
   ]
  },
  {
   "cell_type": "markdown",
   "id": "f01e783e",
   "metadata": {},
   "source": [
    "* Options\n",
    "\n",
    "    * V2 have their Options class\n",
    "    * use update method "
   ]
  },
  {
   "cell_type": "code",
   "execution_count": null,
   "id": "15685598",
   "metadata": {},
   "outputs": [],
   "source": [
    "########################################### V2\n",
    "from dataclasses import asdict\n",
    "from qiskit_ibm_runtime import QiskitRuntimeService\n",
    "from qiskit_ibm_runtime import EstimatorV2 as Estimator\n",
    " \n",
    "service = QiskitRuntimeService()\n",
    "backend = service.least_busy(operational=True, simulator=False)\n",
    " \n",
    "# Setting options during primitive initialization\n",
    "estimator = Estimator(backend, options={\"resilience_level\": 2})\n",
    " \n",
    "# Setting options after primitive initialization\n",
    "# This uses auto complete.\n",
    "estimator.options.default_shots = 4000\n",
    "# This does bulk update.\n",
    "estimator.options.update(default_shots=4000, resilience_level=2)\n",
    " \n",
    "# Print the dictionary format.\n",
    "# Server defaults are used for unset options.\n",
    "print(asdict(estimator.options))\n",
    "\n",
    "########################################### V1\n",
    "from qiskit_ibm_runtime import QiskitRuntimeService, Sampler, Options\n",
    " \n",
    "service = QiskitRuntimeService()\n",
    "backend = service.least_busy(operational=True, simulator=False)\n",
    " \n",
    "# Setting options during primitive initialization\n",
    "options = Options()\n",
    "# This uses auto complete.\n",
    "options.resilience_level = 2\n",
    "estimator = Estimator(backend=backend, options=options)\n",
    " \n",
    "# Setting options after primitive initialization.\n",
    "# This does bulk update.\n",
    "estimator.set_options(shots=4000)"
   ]
  },
  {
   "cell_type": "code",
   "execution_count": null,
   "id": "7d6c94e7",
   "metadata": {},
   "outputs": [],
   "source": [
    "########################################### V2\n",
    "from dataclasses import asdict\n",
    "from qiskit_ibm_runtime import QiskitRuntimeService\n",
    "from qiskit_ibm_runtime import SamplerV2 as Sampler\n",
    " \n",
    "service = QiskitRuntimeService()\n",
    "backend = service.least_busy(operational=True, simulator=False)\n",
    " \n",
    "# Setting options during primitive initialization\n",
    "sampler = Sampler(backend, options={\"default_shots\": 4096})\n",
    " \n",
    "# Setting options after primitive initialization\n",
    "# This uses auto complete.\n",
    "sampler.options.dynamical_decoupling.enable = True\n",
    "# Turn on gate twirling. Requires qiskit_ibm_runtime 0.23.0 or later.\n",
    "sampler.options.twirling.enable_gates = True\n",
    " \n",
    "# This does bulk update.  The value for default_shots is overridden if you specify shots with run() or in the PUB.\n",
    "sampler.options.update(default_shots=1024, dynamical_decoupling={\"sequence_type\": \"XpXm\"})\n",
    " \n",
    "# Print the dictionary format.\n",
    "# Server defaults are used for unset options.\n",
    "print(asdict(sampler.options))\n",
    "########################################### V1\n",
    "from qiskit_ibm_runtime import QiskitRuntimeService, Sampler, Options\n",
    " \n",
    "service = QiskitRuntimeService()\n",
    "backend = service.least_busy(operational=True, simulator=False)\n",
    " \n",
    "# Setting options during primitive initialization\n",
    "options = Options()\n",
    "# This uses auto complete.\n",
    "options.resilience_level = 2\n",
    "sampler = Sampler(backend=backend, options=options)\n",
    " \n",
    "# Setting options after primitive initialization.\n",
    "# This does bulk update.\n",
    "sampler.set_options(shots=2000)\n"
   ]
  },
  {
   "cell_type": "markdown",
   "id": "18fdb90f",
   "metadata": {},
   "source": [
    "* Error Mitigation\n",
    "\n",
    "    * Sampler doesn't support resilience level\n",
    "    * Estimator doesn't support resilience level 3 using PEC, it support levels 0,1,2\n"
   ]
  },
  {
   "cell_type": "code",
   "execution_count": 1,
   "id": "fbf8aab9",
   "metadata": {},
   "outputs": [
    {
     "ename": "NameError",
     "evalue": "name 'options' is not defined",
     "output_type": "error",
     "traceback": [
      "\u001b[31m---------------------------------------------------------------------------\u001b[39m",
      "\u001b[31mNameError\u001b[39m                                 Traceback (most recent call last)",
      "\u001b[36mCell\u001b[39m\u001b[36m \u001b[39m\u001b[32mIn[1]\u001b[39m\u001b[32m, line 21\u001b[39m\n\u001b[32m     18\u001b[39m \u001b[38;5;66;03m########################################### V1\u001b[39;00m\n\u001b[32m     19\u001b[39m \u001b[38;5;28;01mfrom\u001b[39;00m\u001b[38;5;250m \u001b[39m\u001b[34;01mqiskit_ibm_runtime\u001b[39;00m\u001b[38;5;250m \u001b[39m\u001b[38;5;28;01mimport\u001b[39;00m Estimator, Options\n\u001b[32m---> \u001b[39m\u001b[32m21\u001b[39m estimator = Estimator(backend, options=\u001b[43moptions\u001b[49m)\n\u001b[32m     23\u001b[39m options = Options()\n\u001b[32m     25\u001b[39m options.resilience_level = \u001b[32m2\u001b[39m\n",
      "\u001b[31mNameError\u001b[39m: name 'options' is not defined"
     ]
    }
   ],
   "source": [
    "########################################### V2\n",
    "from dataclasses import asdict\n",
    "from qiskit_ibm_runtime import QiskitRuntimeService\n",
    "from qiskit_ibm_runtime import EstimatorV2 as Estimator\n",
    " \n",
    "service = QiskitRuntimeService()\n",
    "backend = service.least_busy(operational=True, simulator=False)\n",
    " \n",
    "# Setting options during primitive initialization\n",
    "estimator = Estimator(backend)\n",
    " \n",
    "# Set resilience_level to 0\n",
    "estimator.options.resilience_level = 0\n",
    " \n",
    "# Turn on measurement error mitigation\n",
    "estimator.options.resilience.measure_mitigation = True\n",
    "\n",
    "########################################### V1\n",
    "from qiskit_ibm_runtime import Estimator, Options\n",
    " \n",
    "estimator = Estimator(backend, options=options)\n",
    " \n",
    "options = Options()\n",
    " \n",
    "options.resilience_level = 2"
   ]
  },
  {
   "cell_type": "code",
   "execution_count": null,
   "id": "3f776240",
   "metadata": {},
   "outputs": [],
   "source": [
    "########################################### V2\n",
    "from qiskit_ibm_runtime import SamplerV2 as Sampler\n",
    " \n",
    "sampler = Sampler(backend)\n",
    "# Turn on dynamical decoupling with sequence XpXm.\n",
    "sampler.options.dynamical_decoupling.enable = True\n",
    "sampler.options.dynamical_decoupling.sequence_type = \"XpXm\"\n",
    " \n",
    "print(f\">> dynamical decoupling sequence to use: {sampler.options.dynamical_decoupling.sequence_type}\")\n",
    "\n",
    "########################################### V1\n",
    "from qiskit_ibm_runtime import Sampler, Options\n",
    " \n",
    "sampler = Sampler(backend, options=options)\n",
    " \n",
    "options = Options()\n",
    " \n",
    "options.resilience_level = 2"
   ]
  },
  {
   "cell_type": "markdown",
   "id": "b579a08f",
   "metadata": {},
   "source": [
    "* Transpilation\n",
    "    * V2 supporrt circuits that adhere to ISA of a prticular backend\n",
    "* Job Status\n",
    "    * new RunttimeJobv2"
   ]
  },
  {
   "cell_type": "code",
   "execution_count": null,
   "id": "47569a48",
   "metadata": {},
   "outputs": [],
   "source": [
    "########################################### V2\n",
    "job = estimator.run(...)\n",
    " \n",
    "# check if a job is still running\n",
    "print(f\"Job {job.job_id()} is still running: {job.status() == \"RUNNING\"}\")\n",
    "\n",
    "\n",
    "########################################### V1\n",
    "from qiskit.providers.jobstatus import JobStatus\n",
    " \n",
    "job = estimator.run(...)\n",
    " \n",
    "#check if a job is still running\n",
    "print(f\"Job {job.job_id()} is still running: {job.status() is JobStatus.RUNNING}\")"
   ]
  },
  {
   "cell_type": "markdown",
   "id": "68291a02",
   "metadata": {},
   "source": [
    "### Steps to migrate to Esimtator V2\n",
    "\n",
    "1. change import to EstimatorV2\n",
    "2. remove import options \n",
    "3. update options\n",
    "4. group circuit with observables and parameter values in a PUB\n",
    "5. reshape your arrays form observables and pparameter values\n",
    "6. specify precision\n",
    "7. update run method\n",
    "8. use index to get results from pub_result"
   ]
  },
  {
   "cell_type": "markdown",
   "id": "c5fbebe1",
   "metadata": {},
   "source": [
    "Steps to mmigrate to Sampler V2\n",
    "\n",
    "1. change import to SamplerV2\n",
    "2. remove import options \n",
    "3. update options\n",
    "4. group circuit with observables and parameter values in a PUB\n",
    "5. update run method\n",
    "6. use index to get results from pub_result"
   ]
  }
 ],
 "metadata": {
  "kernelspec": {
   "display_name": "Python 3 (ipykernel)",
   "language": "python",
   "name": "python3"
  },
  "language_info": {
   "codemirror_mode": {
    "name": "ipython",
    "version": 3
   },
   "file_extension": ".py",
   "mimetype": "text/x-python",
   "name": "python",
   "nbconvert_exporter": "python",
   "pygments_lexer": "ipython3",
   "version": "3.13.7"
  }
 },
 "nbformat": 4,
 "nbformat_minor": 5
}
