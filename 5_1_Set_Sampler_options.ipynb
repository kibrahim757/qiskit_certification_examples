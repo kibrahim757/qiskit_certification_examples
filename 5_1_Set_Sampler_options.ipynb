{
 "cells": [
  {
   "cell_type": "markdown",
   "id": "9ea38567",
   "metadata": {},
   "source": [
    "# Task 5.1 Set Sampler Options\n",
    "\n",
    "## Objective 1 : Get Started with Primitives"
   ]
  },
  {
   "cell_type": "markdown",
   "id": "44bbb0ec",
   "metadata": {},
   "source": [
    "### Estimator\n",
    "\n"
   ]
  },
  {
   "cell_type": "code",
   "execution_count": 1,
   "id": "013c6689",
   "metadata": {},
   "outputs": [
    {
     "name": "stdout",
     "output_type": "stream",
     "text": [
      "ibm_torino\n"
     ]
    }
   ],
   "source": [
    "from qiskit_ibm_runtime import QiskitRuntimeService\n",
    " \n",
    "service = QiskitRuntimeService()\n",
    "backend = service.least_busy(\n",
    "    operational=True, simulator=False, min_num_qubits=127\n",
    ")\n",
    " \n",
    "print(backend.name)"
   ]
  },
  {
   "cell_type": "code",
   "execution_count": 2,
   "id": "73380480",
   "metadata": {},
   "outputs": [
    {
     "name": "stdout",
     "output_type": "stream",
     "text": [
      ">>> Observable: ['IIIIIIIIIIIIIIIIIIIIIIIIIIIIIIIIIIIIIIIIIIIIIIIIII...',\n",
      " 'IIIIIIIIIIIIIIIIIIIIIIIIIIIIIIIIIIIIIIIIIIIIIIIIII...',\n",
      " 'IIIIIIIIIIIIIIIIIIIIIIIIIIIIIIIIIIIIIIIIIIIIIIIIII...',\n",
      " 'IIIIIIIIIIIIIIIIIIIIIIIIIIIIIIIIIIIIIIIIIIIIIIIIII...',\n",
      " 'IIIIIIIIIIIIIIIIIIIIIIIIIIIIIIIIIIIIIIIIIIIIIIIIII...',\n",
      " 'IIIIIIIIIIIIIIIIIIIIIIIIIIIIIIIIIIIIIIIIIIIIIIIIII...',\n",
      " 'IIIIIIIIIIIIIIIIIIIIIIIIIIIIIIIIIIIIIIIIIIIIIIIIII...',\n",
      " 'IIIIIIIIIIIIIIIIIIIIIIIIIIIIIIIIIIIIIIIIIIIIIIIIII...',\n",
      " 'IIIIIIIIIIIIIIIIIIIIIIIIIIIIIIIIIIIIIIIIIIIIIIIIII...',\n",
      " 'IIIIIIIIIIIIIIIIIIIIIIIIIIIIIIIIIIIIIIIIIIIIIIIIII...',\n",
      " 'IIIIIIIIIIIIIIIIIIIIIIIIIIIIIIIIIIIIIIIIIIIIIIIIII...',\n",
      " 'IIIIIIIIIIIIIIIIIIIIIIIIIIIIIIIIIIIIIIIIIIIIIIIIII...',\n",
      " 'IIIIIIIIIIIIIIIIIIIIIIIIIIIIIIIIIIIIIIIIIIIIIIIIII...',\n",
      " 'IIIIIIIIIIIIIIIIIIIIIIIIIIIIIIIIIIIIIIIIIIIIIIIIII...',\n",
      " 'IIIIIIIIIIIIIIIIIIIIIIIIIIIIIIIIIIIIIIIIIIIIIIIIII...', ...]\n"
     ]
    }
   ],
   "source": [
    "from qiskit.circuit.library import qaoa_ansatz\n",
    "from qiskit.quantum_info import SparsePauliOp\n",
    " \n",
    "entanglement = [tuple(edge) for edge in backend.coupling_map.get_edges()]\n",
    "observable = SparsePauliOp.from_sparse_list(\n",
    "    [(\"ZZ\", [i, j], 0.5) for i, j in entanglement],\n",
    "    num_qubits=backend.num_qubits,\n",
    ")\n",
    "circuit = qaoa_ansatz(observable, reps=2)\n",
    "# the circuit is parametrized, so we will define the parameter values for execution\n",
    "param_values = [0.1, 0.2, 0.3, 0.4]\n",
    " \n",
    "print(f\">>> Observable: {observable.paulis}\")"
   ]
  },
  {
   "cell_type": "code",
   "execution_count": 3,
   "id": "5b738d4b",
   "metadata": {},
   "outputs": [
    {
     "name": "stdout",
     "output_type": "stream",
     "text": [
      ">>> Circuit ops (ISA): OrderedDict({'rz': 3826, 'sx': 1601, 'cz': 968})\n"
     ]
    }
   ],
   "source": [
    "from qiskit.transpiler import generate_preset_pass_manager\n",
    " \n",
    "pm = generate_preset_pass_manager(optimization_level=1, backend=backend)\n",
    "isa_circuit = pm.run(circuit)\n",
    "isa_observable = observable.apply_layout(isa_circuit.layout)\n",
    "print(f\">>> Circuit ops (ISA): {isa_circuit.count_ops()}\")"
   ]
  },
  {
   "cell_type": "code",
   "execution_count": null,
   "id": "625cebe8",
   "metadata": {},
   "outputs": [],
   "source": [
    "from qiskit_ibm_runtime import EstimatorV2 as Estimator\n",
    " \n",
    "estimator = Estimator(mode=backend)\n",
    "\n",
    "job = estimator.run([(isa_circuit, isa_observable, param_values)])\n",
    "print(f\">>> Job ID: {job.job_id()}\")\n",
    "print(f\">>> Job Status: {job.status()}\")"
   ]
  },
  {
   "cell_type": "code",
   "execution_count": null,
   "id": "0a7f24a9",
   "metadata": {},
   "outputs": [],
   "source": [
    "result = job.result()\n",
    "print(f\">>> {result}\")\n",
    "print(f\"  > Expectation value: {result[0].data.evs}\")\n",
    "print(f\"  > Metadata: {result[0].metadata}\")"
   ]
  },
  {
   "cell_type": "markdown",
   "id": "c471b74e",
   "metadata": {},
   "source": [
    "### Sampler"
   ]
  },
  {
   "cell_type": "code",
   "execution_count": null,
   "id": "ce835fe8",
   "metadata": {},
   "outputs": [],
   "source": [
    "from qiskit_ibm_runtime import QiskitRuntimeService\n",
    " \n",
    "service = QiskitRuntimeService()\n",
    "backend = service.least_busy(\n",
    "    operational=True, simulator=False, min_num_qubits=127\n",
    ")"
   ]
  },
  {
   "cell_type": "code",
   "execution_count": 4,
   "id": "5e12aab6",
   "metadata": {},
   "outputs": [],
   "source": [
    "import numpy as np\n",
    "from qiskit.circuit.library import efficient_su2\n",
    " \n",
    "circuit = efficient_su2(127, entanglement=\"linear\")\n",
    "circuit.measure_all()\n",
    "# The circuit is parametrized, so we will define the parameter values for execution\n",
    "param_values = np.random.rand(circuit.num_parameters)"
   ]
  },
  {
   "cell_type": "code",
   "execution_count": 5,
   "id": "58826fe4",
   "metadata": {},
   "outputs": [
    {
     "name": "stdout",
     "output_type": "stream",
     "text": [
      ">>> Circuit ops (ISA): OrderedDict({'sx': 3383, 'rz': 3036, 'cz': 1245, 'measure': 127, 'barrier': 1})\n"
     ]
    }
   ],
   "source": [
    "from qiskit.transpiler import generate_preset_pass_manager\n",
    " \n",
    "pm = generate_preset_pass_manager(optimization_level=1, backend=backend)\n",
    "isa_circuit = pm.run(circuit)\n",
    "print(f\">>> Circuit ops (ISA): {isa_circuit.count_ops()}\")"
   ]
  },
  {
   "cell_type": "code",
   "execution_count": null,
   "id": "d7fe3d9d",
   "metadata": {},
   "outputs": [],
   "source": [
    "from qiskit_ibm_runtime import SamplerV2 as Sampler\n",
    " \n",
    "sampler = Sampler(mode=backend)\n",
    "\n",
    "job = sampler.run([(isa_circuit, param_values)])\n",
    "print(f\">>> Job ID: {job.job_id()}\")\n",
    "print(f\">>> Job Status: {job.status()}\")"
   ]
  },
  {
   "cell_type": "code",
   "execution_count": null,
   "id": "23480161",
   "metadata": {},
   "outputs": [],
   "source": [
    "result = job.result()\n",
    " \n",
    "# Get results for the first (and only) PUB\n",
    "pub_result = result[0]\n",
    "print(\n",
    "    f\"First ten results for the 'meas' output register: {pub_result.data.meas.get_bitstrings()[:10]}\"\n",
    ")"
   ]
  },
  {
   "cell_type": "markdown",
   "id": "1f63c531",
   "metadata": {},
   "source": [
    "### Getting Started with Backend Primitives\n",
    "\n",
    "can be used with any Backend object as long as it implements <code>Backend</code> interface\n",
    "* BackendSamplerV2\n",
    "* BackendEstimatorV2"
   ]
  },
  {
   "cell_type": "code",
   "execution_count": null,
   "id": "b78a390c",
   "metadata": {},
   "outputs": [
    {
     "ename": "SyntaxError",
     "evalue": "invalid syntax (3765205645.py, line 2)",
     "output_type": "error",
     "traceback": [
      "  \u001b[36mCell\u001b[39m\u001b[36m \u001b[39m\u001b[32mIn[6]\u001b[39m\u001b[32m, line 2\u001b[39m\n\u001b[31m    \u001b[39m\u001b[31mfrom <some_qiskit_provider> import QiskitProvider\u001b[39m\n         ^\n\u001b[31mSyntaxError\u001b[39m\u001b[31m:\u001b[39m invalid syntax\n"
     ]
    }
   ],
   "source": [
    "from qiskit.primitives import BackendEstimatorV2\n",
    "from <QISKIT_PROVIDER> import QiskitProvider\n",
    " \n",
    "provider = QiskitProvider()\n",
    "backend = provider.get_backend('backend_name')\n",
    "estimator = BackendEstimatorV2(backend)"
   ]
  },
  {
   "cell_type": "code",
   "execution_count": null,
   "id": "6f875e9f",
   "metadata": {},
   "outputs": [],
   "source": [
    "from qiskit.primitives import BackendSamplerV2\n",
    "from <QISKIT_PROVIDER> import QiskitProvider\n",
    " \n",
    "provider = QiskitProvider()\n",
    "backend = provider.get_backend('backend_name')\n",
    "sampler = BackendSamplerV2(backend)"
   ]
  },
  {
   "cell_type": "markdown",
   "id": "fc1bc7d5",
   "metadata": {},
   "source": [
    "## Objective 2 : Sampler Options"
   ]
  },
  {
   "cell_type": "markdown",
   "id": "6044ee4a",
   "metadata": {},
   "source": [
    "### Attributes\n",
    "\n",
    "* default_shots\n",
    "* dynamical_decoupling\n",
    "* environment\n",
    "* execution\n",
    "* experimental\n",
    "* max_execution_time\n",
    "* simulator\n",
    "* twirling"
   ]
  },
  {
   "cell_type": "markdown",
   "id": "463cfc81",
   "metadata": {},
   "source": [
    "### Methods\n",
    "\n",
    "* update"
   ]
  },
  {
   "cell_type": "markdown",
   "id": "ef0776ff",
   "metadata": {},
   "source": [
    "## Objective 3: Twirling Options"
   ]
  },
  {
   "cell_type": "markdown",
   "id": "32e472fe",
   "metadata": {},
   "source": [
    "### Attributes\n",
    "\n",
    "* enable_gates\n",
    "* enable_measure\n",
    "* num_randomizations\n",
    "* shots_per_randmoization\n",
    "* strategy --> active , active-circuit, active-accum, all"
   ]
  },
  {
   "cell_type": "markdown",
   "id": "da4afddc",
   "metadata": {},
   "source": [
    "## Objective 4: Error Mitigation and Suppression"
   ]
  },
  {
   "cell_type": "markdown",
   "id": "e14f6ebf",
   "metadata": {},
   "source": [
    "### Dynamic Decoupling\n",
    "\n",
    "* Errors on Idle qubits in circuit can be canceled by adding pulse sequences that amount to identity operations"
   ]
  },
  {
   "cell_type": "code",
   "execution_count": 8,
   "id": "3fbf39bd",
   "metadata": {},
   "outputs": [],
   "source": [
    "from qiskit_ibm_runtime import EstimatorV2 as Estimator\n",
    "estimator = Estimator(mode=backend)\n",
    "estimator.options.dynamical_decoupling.enable = True\n",
    "estimator.options.dynamical_decoupling.sequence_type = \"XpXm\""
   ]
  },
  {
   "cell_type": "markdown",
   "id": "19859916",
   "metadata": {},
   "source": [
    "### Pauli Twirling \n",
    "\n",
    "* sandwiching chosen set of gates with pauli gates so that ideal effect of teh gates remain the same\n",
    "* applied to 2 qubit gates\n"
   ]
  },
  {
   "cell_type": "code",
   "execution_count": 9,
   "id": "7716ef50",
   "metadata": {},
   "outputs": [],
   "source": [
    "estimator = Estimator(mode=backend)\n",
    "estimator.options.twirling.enable_gates = True\n",
    "estimator.options.twirling.num_randomizations = 32\n",
    "estimator.options.twirling.shots_per_randomization = 100"
   ]
  },
  {
   "cell_type": "markdown",
   "id": "03b2bb93",
   "metadata": {},
   "source": [
    "### Twirling Readout Error Extinction TREX\n",
    "\n",
    "* replace measurment gates with X gates , measurment , classicsal bit flip"
   ]
  },
  {
   "cell_type": "code",
   "execution_count": 10,
   "id": "6408d11c",
   "metadata": {},
   "outputs": [],
   "source": [
    "estimator = Estimator(mode=backend)\n",
    "estimator.options.resilience.measure_mitigation = True\n",
    "estimator.options.resilience.measure_noise_learning.num_randomizations = 32\n",
    "estimator.options.resilience.measure_noise_learning.shots_per_randomization = 100"
   ]
  },
  {
   "cell_type": "markdown",
   "id": "de2ea0d4",
   "metadata": {},
   "source": [
    "### Zero Noise Extrapolation ZNE\n",
    "\n",
    "* Noise Amplification\n",
    "* Extrapolation"
   ]
  },
  {
   "cell_type": "code",
   "execution_count": 11,
   "id": "1b73fadf",
   "metadata": {},
   "outputs": [],
   "source": [
    "estimator = Estimator(mode=backend)\n",
    "estimator.options.resilience.zne_mitigation = True\n",
    "estimator.options.resilience.zne.noise_factors = (1, 3, 5)\n",
    "estimator.options.resilience.zne.extrapolator = \"exponential\""
   ]
  },
  {
   "cell_type": "markdown",
   "id": "a889731d",
   "metadata": {},
   "source": [
    "### Probabilistic Error Amplification  PEA\n",
    "\n",
    "Same as ZNE but with a learning phase first"
   ]
  },
  {
   "cell_type": "code",
   "execution_count": 12,
   "id": "38b4f5f6",
   "metadata": {},
   "outputs": [],
   "source": [
    "estimator = Estimator(mode=backend)\n",
    "estimator.options.resilience.zne_mitigation = True\n",
    "estimator.options.resilience.zne.amplifier = \"pea\""
   ]
  },
  {
   "cell_type": "markdown",
   "id": "d8ea82fe",
   "metadata": {},
   "source": [
    "### Probabilistic error cancellation PEC\n",
    "\n"
   ]
  },
  {
   "cell_type": "code",
   "execution_count": null,
   "id": "cd5328ea",
   "metadata": {},
   "outputs": [],
   "source": [
    "estimator = Estimator(mode=backend)\n",
    "estimator.options.resilience.pec_mitigation = True\n",
    "estimator.options.resilience.pec.max_overhead = 100"
   ]
  }
 ],
 "metadata": {
  "kernelspec": {
   "display_name": "Python 3 (ipykernel)",
   "language": "python",
   "name": "python3"
  },
  "language_info": {
   "codemirror_mode": {
    "name": "ipython",
    "version": 3
   },
   "file_extension": ".py",
   "mimetype": "text/x-python",
   "name": "python",
   "nbconvert_exporter": "python",
   "pygments_lexer": "ipython3",
   "version": "3.13.7"
  }
 },
 "nbformat": 4,
 "nbformat_minor": 5
}
