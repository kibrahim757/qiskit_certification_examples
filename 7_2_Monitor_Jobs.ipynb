{
 "cells": [
  {
   "cell_type": "markdown",
   "id": "69a13b3d",
   "metadata": {},
   "source": [
    "# Task 7.2 Monitor Jobs"
   ]
  },
  {
   "cell_type": "markdown",
   "id": "b1d8f59f",
   "metadata": {},
   "source": [
    "## Objective 1: Providers"
   ]
  },
  {
   "cell_type": "markdown",
   "id": "7ad6945d",
   "metadata": {},
   "source": [
    "qiskit.provoiders module contains classes that can be used to build external providers for qiskit like Backend\n",
    "\n",
    "Version Support : \n",
    "3 minor releases or 6 months then deprecation policy"
   ]
  },
  {
   "cell_type": "markdown",
   "id": "4f311833",
   "metadata": {},
   "source": [
    "### Abstract Classes\n",
    "\n",
    "\n",
    "* Backend\n",
    "* BackendV2\n",
    "* QubitProperties\n",
    "* Options\n",
    "* Job\n",
    "* JobV1\n",
    "* JobStatus\n",
    "* QiskitBackendNotFoundError\n",
    "* JobError\n",
    "* JobTimeoutError"
   ]
  },
  {
   "cell_type": "markdown",
   "id": "80c1704e",
   "metadata": {},
   "source": [
    "### Writing a new backend\n",
    "\n",
    "* provide qiskit with a method to get available backends \n",
    "* BackendV2 provide information describing backend and its operation to transpiler to compile circuits , optimize and execute\n",
    "* provide run method \n",
    "\n",
    "Steps\n",
    "\n",
    "1) Implement provider class to handle access\n",
    "2) Implement BackendV2 and its run method\n",
    "3) Implement JobV1 to handle jobs\n",
    "\n",
    "example: qiskit-aqt-provider"
   ]
  },
  {
   "cell_type": "code",
   "execution_count": null,
   "id": "5d5497c8",
   "metadata": {},
   "outputs": [
    {
     "ename": "ModuleNotFoundError",
     "evalue": "No module named 'MyBackend'",
     "output_type": "error",
     "traceback": [
      "\u001b[31m---------------------------------------------------------------------------\u001b[39m",
      "\u001b[31mModuleNotFoundError\u001b[39m                       Traceback (most recent call last)",
      "\u001b[36mCell\u001b[39m\u001b[36m \u001b[39m\u001b[32mIn[5]\u001b[39m\u001b[32m, line 4\u001b[39m\n\u001b[32m      1\u001b[39m \u001b[38;5;66;03m## Provider \u001b[39;00m\n\u001b[32m      2\u001b[39m \u001b[38;5;28;01mfrom\u001b[39;00m\u001b[38;5;250m \u001b[39m\u001b[34;01mqiskit\u001b[39;00m\u001b[34;01m.\u001b[39;00m\u001b[34;01mproviders\u001b[39;00m\u001b[34;01m.\u001b[39;00m\u001b[34;01mproviderutils\u001b[39;00m\u001b[38;5;250m \u001b[39m\u001b[38;5;28;01mimport\u001b[39;00m filter_backends\n\u001b[32m----> \u001b[39m\u001b[32m4\u001b[39m \u001b[38;5;28;01mimport\u001b[39;00m\u001b[38;5;250m \u001b[39m\u001b[34;01mMyBackend\u001b[39;00m\n\u001b[32m      6\u001b[39m \u001b[38;5;28;01mclass\u001b[39;00m\u001b[38;5;250m \u001b[39m\u001b[34;01mMyProvider\u001b[39;00m:\n\u001b[32m      8\u001b[39m     \u001b[38;5;28;01mdef\u001b[39;00m\u001b[38;5;250m \u001b[39m\u001b[34m__init__\u001b[39m(\u001b[38;5;28mself\u001b[39m, token=\u001b[38;5;28;01mNone\u001b[39;00m):\n",
      "\u001b[31mModuleNotFoundError\u001b[39m: No module named 'MyBackend'"
     ]
    }
   ],
   "source": [
    "## Provider \n",
    "from qiskit.providers.providerutils import filter_backends\n",
    " \n",
    "from .backend import MyBackend\n",
    " \n",
    "class MyProvider:\n",
    " \n",
    "    def __init__(self, token=None):\n",
    "        super().__init__()\n",
    "        self.token = token\n",
    "        self.backends = [MyBackend(provider=self)]\n",
    " \n",
    "    def backends(self, name=None, **kwargs):\n",
    "        if name:\n",
    "            backends = [\n",
    "                backend for backend in backends if backend.name() == name]\n",
    "        return filter_backends(backends, filters=filters, **kwargs)"
   ]
  },
  {
   "cell_type": "code",
   "execution_count": 3,
   "id": "3af4cedb",
   "metadata": {},
   "outputs": [],
   "source": [
    "from qiskit.providers import BackendV2 as Backend\n",
    "from qiskit.transpiler import Target\n",
    "from qiskit.providers import Options\n",
    "from qiskit.circuit import Parameter, Measure\n",
    "from qiskit.circuit.library import PhaseGate, SXGate, UGate, CXGate, IGate\n",
    " \n",
    " \n",
    "class Mybackend(Backend):\n",
    " \n",
    "    def __init__(self):\n",
    "        super().__init__()\n",
    " \n",
    "        # Create Target\n",
    "        self._target = Target(\"Target for My Backend\")\n",
    "        # Instead of None for this and below instructions you can define\n",
    "        # a qiskit.transpiler.InstructionProperties object to define properties\n",
    "        # for an instruction.\n",
    "        lam = Parameter(\"λ\")\n",
    "        p_props = {(qubit,): None for qubit in range(5)}\n",
    "        self._target.add_instruction(PhaseGate(lam), p_props)\n",
    "        sx_props = {(qubit,): None for qubit in range(5)}\n",
    "        self._target.add_instruction(SXGate(), sx_props)\n",
    "        phi = Parameter(\"φ\")\n",
    "        theta = Parameter(\"ϴ\")\n",
    "        u_props = {(qubit,): None for qubit in range(5)}\n",
    "        self._target.add_instruction(UGate(theta, phi, lam), u_props)\n",
    "        cx_props = {edge: None for edge in [(0, 1), (1, 2), (2, 3), (3, 4)]}\n",
    "        self._target.add_instruction(CXGate(), cx_props)\n",
    "        meas_props = {(qubit,): None for qubit in range(5)}\n",
    "        self._target.add_instruction(Measure(), meas_props)\n",
    "        id_props = {(qubit,): None for qubit in range(5)}\n",
    "        self._target.add_instruction(IGate(), id_props)\n",
    " \n",
    "        # Set option validators\n",
    "        self.options.set_validator(\"shots\", (1, 4096))\n",
    "        self.options.set_validator(\"memory\", bool)\n",
    " \n",
    "    @property\n",
    "    def target(self):\n",
    "        return self._target\n",
    " \n",
    "    @property\n",
    "    def max_circuits(self):\n",
    "        return 1024\n",
    " \n",
    "    @classmethod\n",
    "    def _default_options(cls):\n",
    "        return Options(shots=1024, memory=False)\n",
    " \n",
    "    def run(circuits, **kwargs):\n",
    "        # serialize circuits submit to backend and create a job\n",
    "        for kwarg in kwargs:\n",
    "            if not hasattr(kwarg, self.options):\n",
    "                warnings.warn(\n",
    "                    \"Option %s is not used by this backend\" % kwarg,\n",
    "                    UserWarning, stacklevel=2)\n",
    "        options = {\n",
    "            'shots': kwargs.get('shots', self.options.shots),\n",
    "            'memory': kwargs.get('memory', self.options.shots),\n",
    "        }\n",
    "        job_json = convert_to_wire_format(circuit, options)\n",
    "        job_handle = submit_to_backend(job_jsonb)\n",
    "        return MyJob(self. job_handle, job_json, circuit)"
   ]
  },
  {
   "cell_type": "code",
   "execution_count": 6,
   "id": "4059b5ce",
   "metadata": {},
   "outputs": [],
   "source": [
    "import numpy as np\n",
    " \n",
    "from qiskit.circuit import Gate\n",
    "from qiskit.circuit import QuantumCircuit\n",
    " \n",
    "class SYGate(Gate):\n",
    "    def __init__(self, label=None):\n",
    "        super().__init__(\"sy\", 1, [], label=label)\n",
    " \n",
    "    def _define(self):\n",
    "        qc = QuantumCircuit(1)\n",
    "        qc.ry(np.pi / 2, 0)\n",
    "        self.definition = qc"
   ]
  },
  {
   "cell_type": "code",
   "execution_count": 7,
   "id": "b0db1b40",
   "metadata": {},
   "outputs": [
    {
     "ename": "SyntaxError",
     "evalue": "invalid syntax (2032806156.py, line 5)",
     "output_type": "error",
     "traceback": [
      "  \u001b[36mCell\u001b[39m\u001b[36m \u001b[39m\u001b[32mIn[7]\u001b[39m\u001b[32m, line 5\u001b[39m\n\u001b[31m    \u001b[39m\u001b[31m(1,): InstructionProperties(duration=2.1e-6, error=0.0001)\u001b[39m\n        ^\n\u001b[31mSyntaxError\u001b[39m\u001b[31m:\u001b[39m invalid syntax\n"
     ]
    }
   ],
   "source": [
    "from qiskit.transpiler import InstructionProperties\n",
    " \n",
    "sy_props = {\n",
    "    (0,): InstructionProperties(duration=2.3e-6, error=0.0002)\n",
    "    (1,): InstructionProperties(duration=2.1e-6, error=0.0001)\n",
    "    (2,): InstructionProperties(duration=2.5e-6, error=0.0003)\n",
    "    (3,): InstructionProperties(duration=2.2e-6, error=0.0004)\n",
    "}\n",
    "self.target.add_instruction(SYGate(), sy_props)"
   ]
  },
  {
   "cell_type": "code",
   "execution_count": 8,
   "id": "464c2c3a",
   "metadata": {},
   "outputs": [
    {
     "ename": "NameError",
     "evalue": "name 'qiskit' is not defined",
     "output_type": "error",
     "traceback": [
      "\u001b[31m---------------------------------------------------------------------------\u001b[39m",
      "\u001b[31mNameError\u001b[39m                                 Traceback (most recent call last)",
      "\u001b[36mCell\u001b[39m\u001b[36m \u001b[39m\u001b[32mIn[8]\u001b[39m\u001b[32m, line 9\u001b[39m\n\u001b[32m      5\u001b[39m \u001b[38;5;28;01mfrom\u001b[39;00m\u001b[38;5;250m \u001b[39m\u001b[34;01mqiskit\u001b[39;00m\u001b[34;01m.\u001b[39;00m\u001b[34;01mcircuit\u001b[39;00m\u001b[34;01m.\u001b[39;00m\u001b[34;01mlibrary\u001b[39;00m\u001b[38;5;250m \u001b[39m\u001b[38;5;28;01mimport\u001b[39;00m U2Gate\n\u001b[32m      8\u001b[39m \u001b[38;5;66;03m# H => Z SY\u001b[39;00m\n\u001b[32m----> \u001b[39m\u001b[32m9\u001b[39m q = \u001b[43mqiskit\u001b[49m.QuantumRegister(\u001b[32m1\u001b[39m, \u001b[33m\"\u001b[39m\u001b[33mq\u001b[39m\u001b[33m\"\u001b[39m)\n\u001b[32m     10\u001b[39m def_sy_h = qiskit.QuantumCircuit(q)\n\u001b[32m     11\u001b[39m def_sy_h.append(ZGate(), [q[\u001b[32m0\u001b[39m]], [])\n",
      "\u001b[31mNameError\u001b[39m: name 'qiskit' is not defined"
     ]
    }
   ],
   "source": [
    "from qiskit.circuit.equivalence_library import SessionEquivalenceLibrary\n",
    "from qiskit.circuit.library import HGate\n",
    "from qiskit.circuit.library import ZGate\n",
    "from qiskit.circuit.library import RZGate\n",
    "from qiskit.circuit.library import U2Gate\n",
    " \n",
    " \n",
    "# H => Z SY\n",
    "q = qiskit.QuantumRegister(1, \"q\")\n",
    "def_sy_h = qiskit.QuantumCircuit(q)\n",
    "def_sy_h.append(ZGate(), [q[0]], [])\n",
    "def_sy_h.append(SYGate(), [q[0]], [])\n",
    "SessionEquivalenceLibrary.add_equivalence(\n",
    "    HGate(), def_sy_h)\n",
    " \n",
    "# u2 => Z SY Z\n",
    "phi = qiskit.circuit.Parameter('phi')\n",
    "lam = qiskit.circuit.Parameter('lambda')\n",
    "q = qiskit.QuantumRegister(1, \"q\")\n",
    "def_sy_u2 = qiskit.QuantumCircuit(q)\n",
    "def_sy_u2.append(RZGate(lam), [q[0]], [])\n",
    "def_sy_u2.append(SYGate(), [q[0]], [])\n",
    "def_sy_u2.append(RZGate(phi), [q[0]], [])\n",
    "SessionEquivalenceLibrary.add_equivalence(\n",
    "    U2Gate(phi, lam), def_sy_u2)"
   ]
  },
  {
   "cell_type": "code",
   "execution_count": 9,
   "id": "8409698f",
   "metadata": {},
   "outputs": [
    {
     "ename": "SyntaxError",
     "evalue": "invalid syntax (735798674.py, line 1)",
     "output_type": "error",
     "traceback": [
      "  \u001b[36mCell\u001b[39m\u001b[36m \u001b[39m\u001b[32mIn[9]\u001b[39m\u001b[32m, line 1\u001b[39m\n\u001b[31m    \u001b[39m\u001b[31mdef run(self, circuits. **kwargs):\u001b[39m\n                          ^\n\u001b[31mSyntaxError\u001b[39m\u001b[31m:\u001b[39m invalid syntax\n"
     ]
    }
   ],
   "source": [
    "def run(self, circuits. **kwargs):\n",
    "    for kwarg in kwargs:\n",
    "        if not hasattr(kwarg, self.options):\n",
    "            warnings.warn(\n",
    "                \"Option %s is not used by this backend\" % kwarg,\n",
    "                UserWarning, stacklevel=2)\n",
    "    options = {\n",
    "        'shots': kwargs.get('shots', self.options.shots)\n",
    "        'memory': kwargs.get('memory', self.options.shots),\n",
    "    }\n",
    "    job_json = convert_to_wire_format(circuit, options)\n",
    "    job_handle = submit_to_backend(job_jsonb)\n",
    "    return MyJob(self. job_handle, job_json, circuit)"
   ]
  },
  {
   "cell_type": "code",
   "execution_count": 10,
   "id": "93f4daea",
   "metadata": {},
   "outputs": [],
   "source": [
    "@classmethod\n",
    "def _default_options(cls):\n",
    "    return Options(shots=1024)"
   ]
  },
  {
   "cell_type": "code",
   "execution_count": 11,
   "id": "54c6f803",
   "metadata": {},
   "outputs": [],
   "source": [
    "from qiskit.providers import JobV1 as Job\n",
    "from qiskit.providers import JobError\n",
    "from qiskit.providers import JobTimeoutError\n",
    "from qiskit.providers.jobstatus import JobStatus\n",
    "from qiskit.result import Result\n",
    " \n",
    " \n",
    "class MyJob(Job):\n",
    "    def __init__(self, backend, job_id, job_json, circuits):\n",
    "        super().__init__(backend, job_id)\n",
    "        self._backend = backend\n",
    "        self.job_json = job_json\n",
    "        self.circuits = circuits\n",
    " \n",
    "    def _wait_for_result(self, timeout=None, wait=5):\n",
    "        start_time = time.time()\n",
    "        result = None\n",
    "        while True:\n",
    "            elapsed = time.time() - start_time\n",
    "            if timeout and elapsed >= timeout:\n",
    "                raise JobTimeoutError('Timed out waiting for result')\n",
    "            result = get_job_status(self._job_id)\n",
    "            if result['status'] == 'complete':\n",
    "                break\n",
    "            if result['status'] == 'error':\n",
    "                raise JobError('Job error')\n",
    "            time.sleep(wait)\n",
    "        return result\n",
    " \n",
    "    def result(self, timeout=None, wait=5):\n",
    "        result = self._wait_for_result(timeout, wait)\n",
    "        results = [{'success': True, 'shots': len(result['counts']),\n",
    "                    'data': result['counts']}]\n",
    "        return Result.from_dict({\n",
    "            'results': results,\n",
    "            'backend_name': self._backend.configuration().backend_name,\n",
    "            'backend_version': self._backend.configuration().backend_version,\n",
    "            'job_id': self._job_id,\n",
    "            'success': True,\n",
    "        })\n",
    " \n",
    "    def status(self):\n",
    "        result = get_job_status(self._job_id)\n",
    "        if result['status'] == 'running':\n",
    "            status = JobStatus.RUNNING\n",
    "        elif result['status'] == 'complete':\n",
    "            status = JobStatus.DONE\n",
    "        else:\n",
    "            status = JobStatus.ERROR\n",
    "        return status\n",
    " \n",
    "def submit(self):\n",
    "    raise NotImplementedError"
   ]
  },
  {
   "cell_type": "markdown",
   "id": "b1b71e6a",
   "metadata": {},
   "source": [
    "## Objective 2 : JobStatus"
   ]
  },
  {
   "cell_type": "markdown",
   "id": "8dea5ae3",
   "metadata": {},
   "source": [
    "### Attributes\n",
    "\n",
    "* INITIALIZING\n",
    "* QUEUED\n",
    "* VALIDATING\n",
    "* RUNNING\n",
    "* CANCELLED\n",
    "* DONE\n",
    "* ERROR"
   ]
  },
  {
   "cell_type": "markdown",
   "id": "f9dae2b6",
   "metadata": {},
   "source": [
    "## Objective 3 : Session"
   ]
  },
  {
   "cell_type": "markdown",
   "id": "c83286d3",
   "metadata": {},
   "source": [
    "### Attributes\n",
    "\n",
    "* service\n",
    "* session_id"
   ]
  },
  {
   "cell_type": "markdown",
   "id": "502bd851",
   "metadata": {},
   "source": [
    "### Methods\n",
    "\n",
    "* backend\n",
    "* cancel\n",
    "* close\n",
    "* details\n",
    "* from_id\n",
    "* status\n",
    "* usage"
   ]
  }
 ],
 "metadata": {
  "kernelspec": {
   "display_name": "Python 3 (ipykernel)",
   "language": "python",
   "name": "python3"
  },
  "language_info": {
   "codemirror_mode": {
    "name": "ipython",
    "version": 3
   },
   "file_extension": ".py",
   "mimetype": "text/x-python",
   "name": "python",
   "nbconvert_exporter": "python",
   "pygments_lexer": "ipython3",
   "version": "3.13.7"
  }
 },
 "nbformat": 4,
 "nbformat_minor": 5
}
