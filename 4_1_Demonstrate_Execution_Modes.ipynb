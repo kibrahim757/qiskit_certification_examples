{
 "cells": [
  {
   "cell_type": "markdown",
   "id": "dee37e7a",
   "metadata": {},
   "source": [
    "# Task 4.1 Demonstrate execution Mode\n",
    "\n",
    "## Objective 1 Execute on hardware"
   ]
  },
  {
   "cell_type": "markdown",
   "id": "045f7a61",
   "metadata": {},
   "source": [
    "run your circuits on hardware and produce the outputs of the quantum computation\n",
    "\n",
    "Guide:\n",
    "* Run with Primitives\n",
    "* Configure runtime options\n",
    "* execution modes\n",
    "* manage jobs\n",
    "* qpu and platform information"
   ]
  },
  {
   "cell_type": "markdown",
   "id": "40de0493",
   "metadata": {},
   "source": [
    "## Objective 2 execution modes"
   ]
  },
  {
   "cell_type": "markdown",
   "id": "a0215e9b",
   "metadata": {},
   "source": [
    "* Job mode : single request of sampler or estimator, specify mode=backend when you initialize the primitive\n",
    "* Batch mode: multi-job workload made up of independently executable jobs, specify mode=batch\n",
    "* Session mode: dedicated window to run a multi-job workload , used for variational algorithms, specify mode=session"
   ]
  }
 ],
 "metadata": {
  "kernelspec": {
   "display_name": "Python 3 (ipykernel)",
   "language": "python",
   "name": "python3"
  }
 },
 "nbformat": 4,
 "nbformat_minor": 5
}
