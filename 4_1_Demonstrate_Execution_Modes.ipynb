{
 "cells": [
  {
   "cell_type": "markdown",
   "id": "dee37e7a",
   "metadata": {},
   "source": [
    "# Task 4.1 Demonstrate execution Modes\n",
    "\n",
    "## Objective 1 Execute on hardware"
   ]
  },
  {
   "cell_type": "markdown",
   "id": "045f7a61",
   "metadata": {},
   "source": [
    "run your circuits on hardware and produce the outputs of the quantum computation\n",
    "\n",
    "Guide:\n",
    "* Run with Primitives\n",
    "* Configure runtime options\n",
    "* execution modes\n",
    "* manage jobs\n",
    "* qpu and platform information"
   ]
  },
  {
   "cell_type": "markdown",
   "id": "40de0493",
   "metadata": {},
   "source": [
    "## Objective 2 execution modes"
   ]
  },
  {
   "cell_type": "markdown",
   "id": "a0215e9b",
   "metadata": {},
   "source": [
    "* Job mode : single request of sampler or estimator, specify mode=backend when you initialize the primitive\n",
    "* Batch mode: multi-job workload made up of independently executable jobs, specify mode=batch\n",
    "* Session mode: dedicated window to run a multi-job workload , used for variational algorithms, specify mode=session"
   ]
  },
  {
   "cell_type": "markdown",
   "id": "3c83f595",
   "metadata": {},
   "source": [
    "## Objective 3: Choose execution mode\n",
    "\n",
    "\n",
    "* Batch\n",
    "    * the entire batch is scheduled together\n",
    "    * classicasl computation is run in parallel , signficantly faster than running them serially\n",
    "    * minimal delay between jobs\n",
    "    * more flexible to work with , you can cancel remaining jobs if result doesn't meet your expectations\n",
    "    * less expensive than sessions\n",
    "* Session\n",
    "    * all functionality from batch mode\n",
    "    * dedicated access to qpu\n",
    "    * useful for workloads than don't have all inputs\n",
    "* Job\n",
    "    * easiest when running a small experiment\n",
    "    * might run sooner than batch"
   ]
  },
  {
   "cell_type": "markdown",
   "id": "1ed847b9",
   "metadata": {},
   "source": [
    "## Objective 4 : Run Jobs in Batch"
   ]
  },
  {
   "cell_type": "code",
   "execution_count": 7,
   "id": "3ba428c1",
   "metadata": {},
   "outputs": [],
   "source": [
    "from qiskit_ibm_runtime import (\n",
    "    QiskitRuntimeService,\n",
    "    Batch,\n",
    "    SamplerV2 as Sampler,\n",
    "    EstimatorV2 as Estimator,\n",
    ")\n",
    " \n",
    "service = QiskitRuntimeService()"
   ]
  },
  {
   "cell_type": "code",
   "execution_count": 2,
   "id": "34a57983",
   "metadata": {},
   "outputs": [],
   "source": [
    "backend = service.least_busy(operational=True, simulator=False)\n",
    "batch = Batch(backend=backend)\n",
    "estimator = Estimator(mode=batch)\n",
    "sampler = Sampler(mode=batch)\n",
    "# Close the batch because no context manager was used.\n",
    "batch.close()"
   ]
  },
  {
   "cell_type": "code",
   "execution_count": 12,
   "id": "86c87ed3",
   "metadata": {},
   "outputs": [],
   "source": [
    "from qiskit_ibm_runtime import (\n",
    "    Batch,\n",
    "    SamplerV2 as Sampler,\n",
    "    EstimatorV2 as Estimator,\n",
    ")\n",
    " \n",
    "backend = service.least_busy(operational=True, simulator=False)\n",
    "with Batch(backend=backend):\n",
    "    estimator = Estimator()\n",
    "    sampler = Sampler()"
   ]
  },
  {
   "cell_type": "markdown",
   "id": "4a020e85",
   "metadata": {},
   "source": [
    "Batch Length is 10 minutes for open plan , 8 hours for paid plans"
   ]
  },
  {
   "cell_type": "code",
   "execution_count": null,
   "id": "c99bf914",
   "metadata": {},
   "outputs": [
    {
     "name": "stdout",
     "output_type": "stream",
     "text": [
      "[<qiskit.circuit.quantumcircuit.QuantumCircuit object at 0x0000016FC6E69C50>, <qiskit.circuit.quantumcircuit.QuantumCircuit object at 0x0000016FC6E69C50>]\n"
     ]
    },
    {
     "ename": "TypeError",
     "evalue": "Invalid observable type: <class 'qiskit.circuit.quantumcircuit.QuantumCircuit'>",
     "output_type": "error",
     "traceback": [
      "\u001b[31m---------------------------------------------------------------------------\u001b[39m",
      "\u001b[31mTypeError\u001b[39m                                 Traceback (most recent call last)",
      "\u001b[36mCell\u001b[39m\u001b[36m \u001b[39m\u001b[32mIn[15]\u001b[39m\u001b[32m, line 5\u001b[39m\n\u001b[32m      3\u001b[39m     sampler = Sampler()\n\u001b[32m      4\u001b[39m     \u001b[38;5;28mprint\u001b[39m(sampler_pub)\n\u001b[32m----> \u001b[39m\u001b[32m5\u001b[39m     job1 = \u001b[43mestimator\u001b[49m\u001b[43m.\u001b[49m\u001b[43mrun\u001b[49m\u001b[43m(\u001b[49m\u001b[43m[\u001b[49m\u001b[43mestimator_pub\u001b[49m\u001b[43m]\u001b[49m\u001b[43m)\u001b[49m\n\u001b[32m      6\u001b[39m     job2 = sampler.run([sampler_pub])\n\u001b[32m      8\u001b[39m \u001b[38;5;66;03m# The batch is no longer accepting jobs but the submitted job will run to completion.\u001b[39;00m\n",
      "\u001b[36mFile \u001b[39m\u001b[32mC:\\QC\\venvs\\sandbox\\.venv\\Lib\\site-packages\\qiskit_ibm_runtime\\estimator.py:147\u001b[39m, in \u001b[36mEstimatorV2.run\u001b[39m\u001b[34m(self, pubs, precision)\u001b[39m\n\u001b[32m    145\u001b[39m     \u001b[38;5;28;01mif\u001b[39;00m precision <= \u001b[32m0\u001b[39m:\n\u001b[32m    146\u001b[39m         \u001b[38;5;28;01mraise\u001b[39;00m \u001b[38;5;167;01mValueError\u001b[39;00m(\u001b[33m\"\u001b[39m\u001b[33mThe precision value must be strictly greater than 0.\u001b[39m\u001b[33m\"\u001b[39m)\n\u001b[32m--> \u001b[39m\u001b[32m147\u001b[39m coerced_pubs = [\u001b[43mEstimatorPub\u001b[49m\u001b[43m.\u001b[49m\u001b[43mcoerce\u001b[49m\u001b[43m(\u001b[49m\u001b[43mpub\u001b[49m\u001b[43m,\u001b[49m\u001b[43m \u001b[49m\u001b[43mprecision\u001b[49m\u001b[43m)\u001b[49m \u001b[38;5;28;01mfor\u001b[39;00m pub \u001b[38;5;129;01min\u001b[39;00m pubs]\n\u001b[32m    148\u001b[39m validate_estimator_pubs(coerced_pubs)\n\u001b[32m    149\u001b[39m \u001b[38;5;28;01mreturn\u001b[39;00m \u001b[38;5;28mself\u001b[39m._run(coerced_pubs)\n",
      "\u001b[36mFile \u001b[39m\u001b[32mC:\\QC\\venvs\\sandbox\\.venv\\Lib\\site-packages\\qiskit\\primitives\\containers\\estimator_pub.py:149\u001b[39m, in \u001b[36mEstimatorPub.coerce\u001b[39m\u001b[34m(cls, pub, precision)\u001b[39m\n\u001b[32m    145\u001b[39m     \u001b[38;5;28;01mraise\u001b[39;00m \u001b[38;5;167;01mValueError\u001b[39;00m(\n\u001b[32m    146\u001b[39m         \u001b[33mf\u001b[39m\u001b[33m\"\u001b[39m\u001b[33mThe length of pub must be 2, 3 or 4, but length \u001b[39m\u001b[38;5;132;01m{\u001b[39;00m\u001b[38;5;28mlen\u001b[39m(pub)\u001b[38;5;132;01m}\u001b[39;00m\u001b[33m is given.\u001b[39m\u001b[33m\"\u001b[39m\n\u001b[32m    147\u001b[39m     )\n\u001b[32m    148\u001b[39m circuit = pub[\u001b[32m0\u001b[39m]\n\u001b[32m--> \u001b[39m\u001b[32m149\u001b[39m observables = \u001b[43mObservablesArray\u001b[49m\u001b[43m.\u001b[49m\u001b[43mcoerce\u001b[49m\u001b[43m(\u001b[49m\u001b[43mpub\u001b[49m\u001b[43m[\u001b[49m\u001b[32;43m1\u001b[39;49m\u001b[43m]\u001b[49m\u001b[43m)\u001b[49m\n\u001b[32m    151\u001b[39m \u001b[38;5;28;01mif\u001b[39;00m \u001b[38;5;28mlen\u001b[39m(pub) > \u001b[32m2\u001b[39m \u001b[38;5;129;01mand\u001b[39;00m pub[\u001b[32m2\u001b[39m] \u001b[38;5;129;01mis\u001b[39;00m \u001b[38;5;129;01mnot\u001b[39;00m \u001b[38;5;28;01mNone\u001b[39;00m:\n\u001b[32m    152\u001b[39m     values = pub[\u001b[32m2\u001b[39m]\n",
      "\u001b[36mFile \u001b[39m\u001b[32mC:\\QC\\venvs\\sandbox\\.venv\\Lib\\site-packages\\qiskit\\primitives\\containers\\observables_array.py:250\u001b[39m, in \u001b[36mObservablesArray.coerce\u001b[39m\u001b[34m(cls, observables)\u001b[39m\n\u001b[32m    248\u001b[39m \u001b[38;5;28;01mif\u001b[39;00m \u001b[38;5;28misinstance\u001b[39m(observables, ObservablesArray):\n\u001b[32m    249\u001b[39m     \u001b[38;5;28;01mreturn\u001b[39;00m observables\n\u001b[32m--> \u001b[39m\u001b[32m250\u001b[39m \u001b[38;5;28;01mreturn\u001b[39;00m \u001b[38;5;28;43mcls\u001b[39;49m\u001b[43m(\u001b[49m\u001b[43mobservables\u001b[49m\u001b[43m)\u001b[49m\n",
      "\u001b[36mFile \u001b[39m\u001b[32mC:\\QC\\venvs\\sandbox\\.venv\\Lib\\site-packages\\qiskit\\primitives\\containers\\observables_array.py:83\u001b[39m, in \u001b[36mObservablesArray.__init__\u001b[39m\u001b[34m(self, observables, copy, validate)\u001b[39m\n\u001b[32m     81\u001b[39m num_qubits = \u001b[38;5;28;01mNone\u001b[39;00m\n\u001b[32m     82\u001b[39m \u001b[38;5;28;01mfor\u001b[39;00m ndi, obs \u001b[38;5;129;01min\u001b[39;00m np.ndenumerate(\u001b[38;5;28mself\u001b[39m._array):\n\u001b[32m---> \u001b[39m\u001b[32m83\u001b[39m     basis_obs = \u001b[38;5;28;43mself\u001b[39;49m\u001b[43m.\u001b[49m\u001b[43mcoerce_observable\u001b[49m\u001b[43m(\u001b[49m\u001b[43mobs\u001b[49m\u001b[43m)\u001b[49m\n\u001b[32m     84\u001b[39m     basis_num_qubits = \u001b[38;5;28mlen\u001b[39m(\u001b[38;5;28mnext\u001b[39m(\u001b[38;5;28miter\u001b[39m(basis_obs)))\n\u001b[32m     85\u001b[39m     \u001b[38;5;28;01mif\u001b[39;00m num_qubits \u001b[38;5;129;01mis\u001b[39;00m \u001b[38;5;28;01mNone\u001b[39;00m:\n",
      "\u001b[36mFile \u001b[39m\u001b[32mC:\\QC\\venvs\\sandbox\\.venv\\Lib\\site-packages\\qiskit\\primitives\\containers\\observables_array.py:236\u001b[39m, in \u001b[36mObservablesArray.coerce_observable\u001b[39m\u001b[34m(cls, observable)\u001b[39m\n\u001b[32m    233\u001b[39m         unique[basis] += coeff\n\u001b[32m    234\u001b[39m     \u001b[38;5;28;01mreturn\u001b[39;00m \u001b[38;5;28mdict\u001b[39m(unique)\n\u001b[32m--> \u001b[39m\u001b[32m236\u001b[39m \u001b[38;5;28;01mraise\u001b[39;00m \u001b[38;5;167;01mTypeError\u001b[39;00m(\u001b[33mf\u001b[39m\u001b[33m\"\u001b[39m\u001b[33mInvalid observable type: \u001b[39m\u001b[38;5;132;01m{\u001b[39;00m\u001b[38;5;28mtype\u001b[39m(observable)\u001b[38;5;132;01m}\u001b[39;00m\u001b[33m\"\u001b[39m)\n",
      "\u001b[31mTypeError\u001b[39m: Invalid observable type: <class 'qiskit.circuit.quantumcircuit.QuantumCircuit'>"
     ]
    }
   ],
   "source": [
    "with Batch(backend=backend) as batch:\n",
    "    estimator = Estimator()\n",
    "    sampler = Sampler()\n",
    "    job1 = estimator.run([estimator_pub])\n",
    "    job2 = sampler.run([sampler_pub])\n",
    " \n",
    "# The batch is no longer accepting jobs but the submitted job will run to completion.\n",
    "result = job1.result()\n",
    "result2 = job2.result()"
   ]
  },
  {
   "cell_type": "code",
   "execution_count": null,
   "id": "85d561d4",
   "metadata": {},
   "outputs": [],
   "source": [
    "batch = Batch(backend=backend)\n",
    " \n",
    "# If using qiskit-ibm-runtime earlier than 0.24.0, change `mode=` to `batch=`\n",
    "estimator = Estimator(mode=batch)\n",
    "sampler = Sampler(mode=batch)\n",
    "job1 = estimator.run([estimator_pub])\n",
    "job2 = sampler.run([sampler_pub])\n",
    "print(f\"Result1: {job1.result()}\")\n",
    "print(f\"Result2: {job2.result()}\")\n",
    " \n",
    "# Manually close the batch. Running and queued jobs will run to completion.\n",
    "batch.close()"
   ]
  },
  {
   "cell_type": "code",
   "execution_count": 16,
   "id": "e86df8e0",
   "metadata": {},
   "outputs": [
    {
     "name": "stdout",
     "output_type": "stream",
     "text": [
      "{'id': '5773078b-dd45-40a2-9dd2-9ee1a50a8fd4', 'backend_name': 'ibm_torino', 'interactive_timeout': 1, 'max_time': 600, 'active_timeout': 600, 'state': 'open', 'accepting_jobs': True, 'last_job_started': None, 'last_job_completed': None, 'started_at': None, 'closed_at': None, 'activated_at': None, 'mode': 'batch', 'usage_time': None}\n"
     ]
    }
   ],
   "source": [
    "from qiskit_ibm_runtime import (\n",
    "    QiskitRuntimeService,\n",
    "    batch,\n",
    "    SamplerV2 as Sampler,\n",
    ")\n",
    " \n",
    "service = QiskitRuntimeService()\n",
    "backend = service.least_busy(operational=True, simulator=False)\n",
    " \n",
    "with Batch(backend=backend) as batch:\n",
    "    print(batch.details())"
   ]
  },
  {
   "cell_type": "code",
   "execution_count": 18,
   "id": "886c06d1",
   "metadata": {},
   "outputs": [
    {
     "ename": "IBMInputValueError",
     "evalue": "'The instruction rzz is supported only for angles in the range [0, pi/2], but an angle of 4.034560455146796 has been provided.'",
     "output_type": "error",
     "traceback": [
      "\u001b[31m---------------------------------------------------------------------------\u001b[39m",
      "\u001b[31mIBMInputValueError\u001b[39m                        Traceback (most recent call last)",
      "\u001b[36mCell\u001b[39m\u001b[36m \u001b[39m\u001b[32mIn[18]\u001b[39m\u001b[32m, line 15\u001b[39m\n\u001b[32m     13\u001b[39m sampler = Sampler()\n\u001b[32m     14\u001b[39m \u001b[38;5;28;01mfor\u001b[39;00m partitioned_circuits \u001b[38;5;129;01min\u001b[39;00m all_partitioned_circuits:\n\u001b[32m---> \u001b[39m\u001b[32m15\u001b[39m     job = \u001b[43msampler\u001b[49m\u001b[43m.\u001b[49m\u001b[43mrun\u001b[49m\u001b[43m(\u001b[49m\u001b[43mpartitioned_circuits\u001b[49m\u001b[43m)\u001b[49m\n\u001b[32m     16\u001b[39m     jobs.append(job)\n",
      "\u001b[36mFile \u001b[39m\u001b[32mC:\\QC\\venvs\\sandbox\\.venv\\Lib\\site-packages\\qiskit_ibm_runtime\\sampler.py:110\u001b[39m, in \u001b[36mSamplerV2.run\u001b[39m\u001b[34m(self, pubs, shots)\u001b[39m\n\u001b[32m    106\u001b[39m coerced_pubs = [SamplerPub.coerce(pub, shots) \u001b[38;5;28;01mfor\u001b[39;00m pub \u001b[38;5;129;01min\u001b[39;00m pubs]\n\u001b[32m    108\u001b[39m validate_classical_registers(coerced_pubs)\n\u001b[32m--> \u001b[39m\u001b[32m110\u001b[39m \u001b[38;5;28;01mreturn\u001b[39;00m \u001b[38;5;28;43mself\u001b[39;49m\u001b[43m.\u001b[49m\u001b[43m_run\u001b[49m\u001b[43m(\u001b[49m\u001b[43mcoerced_pubs\u001b[49m\u001b[43m)\u001b[49m\n",
      "\u001b[36mFile \u001b[39m\u001b[32mC:\\QC\\venvs\\sandbox\\.venv\\Lib\\site-packages\\qiskit_ibm_runtime\\base_primitive.py:155\u001b[39m, in \u001b[36mBasePrimitiveV2._run\u001b[39m\u001b[34m(self, pubs)\u001b[39m\n\u001b[32m    153\u001b[39m \u001b[38;5;28;01mif\u001b[39;00m \u001b[38;5;28mself\u001b[39m._backend:\n\u001b[32m    154\u001b[39m     \u001b[38;5;28;01mif\u001b[39;00m \u001b[38;5;129;01mnot\u001b[39;00m is_simulator(\u001b[38;5;28mself\u001b[39m._backend):\n\u001b[32m--> \u001b[39m\u001b[32m155\u001b[39m         \u001b[43mvalidate_rzz_pubs\u001b[49m\u001b[43m(\u001b[49m\u001b[43mpubs\u001b[49m\u001b[43m)\u001b[49m\n\u001b[32m    156\u001b[39m     \u001b[38;5;28;01mfor\u001b[39;00m pub \u001b[38;5;129;01min\u001b[39;00m pubs:\n\u001b[32m    157\u001b[39m         \u001b[38;5;28;01mif\u001b[39;00m \u001b[38;5;28mgetattr\u001b[39m(\u001b[38;5;28mself\u001b[39m._backend, \u001b[33m\"\u001b[39m\u001b[33mtarget\u001b[39m\u001b[33m\"\u001b[39m, \u001b[38;5;28;01mNone\u001b[39;00m) \u001b[38;5;129;01mand\u001b[39;00m \u001b[38;5;129;01mnot\u001b[39;00m is_simulator(\u001b[38;5;28mself\u001b[39m._backend):\n",
      "\u001b[36mFile \u001b[39m\u001b[32mC:\\QC\\venvs\\sandbox\\.venv\\Lib\\site-packages\\qiskit_ibm_runtime\\utils\\validations.py:116\u001b[39m, in \u001b[36mvalidate_rzz_pubs\u001b[39m\u001b[34m(pubs)\u001b[39m\n\u001b[32m    114\u001b[39m message = is_valid_rzz_pub(pub)\n\u001b[32m    115\u001b[39m \u001b[38;5;28;01mif\u001b[39;00m message:\n\u001b[32m--> \u001b[39m\u001b[32m116\u001b[39m     \u001b[38;5;28;01mraise\u001b[39;00m IBMInputValueError(message)\n",
      "\u001b[31mIBMInputValueError\u001b[39m: 'The instruction rzz is supported only for angles in the range [0, pi/2], but an angle of 4.034560455146796 has been provided.'"
     ]
    }
   ],
   "source": [
    "from qiskit_ibm_runtime import SamplerV2 as Sampler, Batch\n",
    "from qiskit.circuit.random import random_circuit\n",
    " \n",
    "max_circuits = 100\n",
    "circuits = [random_circuit(5, 5) for _ in range(5 * max_circuits)]\n",
    "all_partitioned_circuits = []\n",
    "for i in range(0, len(circuits), max_circuits):\n",
    "    all_partitioned_circuits.append(circuits[i : i + max_circuits])\n",
    "jobs = []\n",
    "start_idx = 0\n",
    " \n",
    "with Batch(backend=backend):\n",
    "    sampler = Sampler()\n",
    "    for partitioned_circuits in all_partitioned_circuits:\n",
    "        job = sampler.run(partitioned_circuits)\n",
    "        jobs.append(job)"
   ]
  }
 ],
 "metadata": {
  "kernelspec": {
   "display_name": "Python 3 (ipykernel)",
   "language": "python",
   "name": "python3"
  },
  "language_info": {
   "codemirror_mode": {
    "name": "ipython",
    "version": 3
   },
   "file_extension": ".py",
   "mimetype": "text/x-python",
   "name": "python",
   "nbconvert_exporter": "python",
   "pygments_lexer": "ipython3",
   "version": "3.13.7"
  }
 },
 "nbformat": 4,
 "nbformat_minor": 5
}
