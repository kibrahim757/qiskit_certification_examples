{
 "cells": [
  {
   "cell_type": "markdown",
   "id": "dee37e7a",
   "metadata": {},
   "source": [
    "# Task 4.1 Demonstrate execution Mode\n",
    "\n",
    "## Objective 1 Execute on hardware"
   ]
  },
  {
   "cell_type": "markdown",
   "id": "045f7a61",
   "metadata": {},
   "source": [
    "run your circuits on hardware and produce the outputs of the quantum computation\n",
    "\n",
    "Guide:\n",
    "* Run with Primitives\n",
    "* Configure runtime options\n",
    "* execution modes\n",
    "* manage jobs\n",
    "* qpu and platform information"
   ]
  },
  {
   "cell_type": "markdown",
   "id": "40de0493",
   "metadata": {},
   "source": [
    "## Objective 2 execution modes"
   ]
  },
  {
   "cell_type": "markdown",
   "id": "a0215e9b",
   "metadata": {},
   "source": [
    "* Job mode : single request of sampler or estimator, specify mode=backend when you initialize the primitive\n",
    "* Batch mode: multi-job workload made up of independently executable jobs, specify mode=batch\n",
    "* Session mode: dedicated window to run a multi-job workload , used for variational algorithms, specify mode=session"
   ]
  },
  {
   "cell_type": "markdown",
   "id": "3c83f595",
   "metadata": {},
   "source": [
    "## Objective 3: Choose execution mode\n",
    "\n",
    "\n",
    "* Batch\n",
    "    * the entire batch is scheduled together\n",
    "    * classicasl computation is run in parallel , signficantly faster than running them serially\n",
    "    * minimal delay between jobs\n",
    "    * more flexible to work with , you can cancel remaining jobs if result doesn't meet your expectations\n",
    "    * less expensive than sessions\n",
    "* Session\n",
    "    * all functionality from batch mode\n",
    "    * dedicated access to qpu\n",
    "    * useful for workloads than don't have all inputs\n",
    "* Job\n",
    "    * easiest when running a small experiment\n",
    "    * might run sooner than batch"
   ]
  }
 ],
 "metadata": {
  "kernelspec": {
   "display_name": "Python 3 (ipykernel)",
   "language": "python",
   "name": "python3"
  }
 },
 "nbformat": 4,
 "nbformat_minor": 5
}
