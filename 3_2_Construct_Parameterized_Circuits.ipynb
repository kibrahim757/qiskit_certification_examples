{
 "cells": [
  {
   "cell_type": "markdown",
   "id": "7671d08a",
   "metadata": {},
   "source": [
    "# Task 3.2 Construct Parametriezed Circuits\n",
    "\n",
    "\n",
    "## Objective 1: Parameter"
   ]
  },
  {
   "cell_type": "markdown",
   "id": "f254202c",
   "metadata": {},
   "source": [
    "use assign_parameters before circuit execution"
   ]
  },
  {
   "cell_type": "code",
   "execution_count": 2,
   "id": "7aff3331",
   "metadata": {},
   "outputs": [
    {
     "data": {
      "image/png": "[encoded data removed]",
      "text/plain": [
       "<Figure size 185.453x117.056 with 1 Axes>"
      ]
     },
     "execution_count": 2,
     "metadata": {},
     "output_type": "execute_result"
    }
   ],
   "source": [
    "from qiskit.circuit import QuantumCircuit, Parameter\n",
    "import numpy as np\n",
    " \n",
    "# create the parameter\n",
    "phi = Parameter('phi')\n",
    "qc = QuantumCircuit(1)\n",
    " \n",
    "# parameterize the rotation\n",
    "qc.rx(phi, 0)\n",
    "qc.draw('mpl')"
   ]
  },
  {
   "cell_type": "code",
   "execution_count": 3,
   "id": "4e46f1b1",
   "metadata": {},
   "outputs": [
    {
     "data": {
      "image/png": "[encoded data removed]",
      "text/plain": [
       "<Figure size 413.165x200.667 with 1 Axes>"
      ]
     },
     "execution_count": 3,
     "metadata": {},
     "output_type": "execute_result"
    }
   ],
   "source": [
    "# bind the parameters after circuit to create a bound circuit\n",
    "bc = qc.assign_parameters({phi: np.pi})\n",
    "bc.measure_all()\n",
    "bc.draw('mpl')"
   ]
  },
  {
   "cell_type": "markdown",
   "id": "8dcde6b4",
   "metadata": {},
   "source": [
    "### Attributes\n",
    "\n",
    "* name\n",
    "* uuid"
   ]
  },
  {
   "cell_type": "markdown",
   "id": "e04aec54",
   "metadata": {},
   "source": [
    "### Methods\n",
    "\n",
    "* abs\n",
    "* arccos\n",
    "* arcsin\n",
    "* arctan\n",
    "* assign\n",
    "* bind\n",
    "* conjugate\n",
    "* cos\n",
    "* exp\n",
    "* gradient\n",
    "* is_real\n",
    "* log\n",
    "* numeric\n",
    "* sign\n",
    "* sin\n",
    "* subs\n",
    "* sympify\n",
    "* tan"
   ]
  },
  {
   "cell_type": "code",
   "execution_count": 10,
   "id": "1a8abbbb",
   "metadata": {},
   "outputs": [
    {
     "name": "stdout",
     "output_type": "stream",
     "text": [
      "Abs(phi)\n",
      "None\n",
      "log(phi)\n",
      "exp(phi)\n"
     ]
    }
   ],
   "source": [
    "print (phi.abs())\n",
    "print(phi.is_real())\n",
    "print(phi.log())\n",
    "print(phi.exp())"
   ]
  },
  {
   "cell_type": "markdown",
   "id": "009d2a82",
   "metadata": {},
   "source": [
    "## Objective 2: Quantum Circuit\n",
    "\n",
    "View Quantum Circuit Part in section 1.2 "
   ]
  },
  {
   "cell_type": "markdown",
   "id": "4ead6c39",
   "metadata": {},
   "source": [
    "## Objective 3: Parmater Expression\n",
    "\n",
    "enables creating expressions of Parameters"
   ]
  },
  {
   "cell_type": "markdown",
   "id": "c677581b",
   "metadata": {},
   "source": [
    "### Attributes\n",
    "\n",
    "* parameters"
   ]
  },
  {
   "cell_type": "code",
   "execution_count": null,
   "id": "5586b8be",
   "metadata": {},
   "outputs": [],
   "source": []
  },
  {
   "cell_type": "code",
   "execution_count": null,
   "metadata": {},
   "outputs": [],
   "source": []
  },
  {
   "cell_type": "markdown",
   "id": "c26834f0",
   "metadata": {},
   "source": [
    "### Methods\n",
    "\n",
    "* abs\n",
    "* arccos\n",
    "* arcsin\n",
    "* arctan\n",
    "* assign\n",
    "* bind\n",
    "* conjugate\n",
    "* cos\n",
    "* exp\n",
    "* gradient\n",
    "* is_real\n",
    "* log\n",
    "* numeric\n",
    "* sign\n",
    "* sin\n",
    "* subs\n",
    "* sympify\n",
    "* tan"
   ]
  }
 ],
 "metadata": {
  "kernelspec": {
   "display_name": "Python 3 (ipykernel)",
   "language": "python",
   "name": "python3"
  },
  "language_info": {
   "codemirror_mode": {
    "name": "ipython",
    "version": 3
   },
   "file_extension": ".py",
   "mimetype": "text/x-python",
   "name": "python",
   "nbconvert_exporter": "python",
   "pygments_lexer": "ipython3",
   "version": "3.13.7"
  }
 },
 "nbformat": 4,
 "nbformat_minor": 5
}
