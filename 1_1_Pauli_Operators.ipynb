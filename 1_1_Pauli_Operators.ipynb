{
 "cells": [
  {
   "cell_type": "markdown",
   "id": "ca1f530e",
   "metadata": {},
   "source": [
    "# Task 1.1  Pauli Operators\n",
    "\n",
    "## Objective 1:  Define Pauli Operators"
   ]
  },
  {
   "cell_type": "markdown",
   "id": "129de3eb",
   "metadata": {},
   "source": [
    "Pauli operators are fundamental building blocks in quantum computing that represent single-qubit and multi-qubit operations. In Qiskit, the `Pauli` class provides various ways to create and manipulate these operators.\n",
    "\n",
    "You can find more information about Pauli Operators here\n",
    "https://quantum.cloud.ibm.com/docs/en/api/qiskit/qiskit.quantum_info.Pauli "
   ]
  },
  {
   "cell_type": "markdown",
   "id": "d97c501e",
   "metadata": {},
   "source": [
    "### Initialization Methods"
   ]
  },
  {
   "cell_type": "markdown",
   "id": "0d94e651",
   "metadata": {},
   "source": [
    "#### 1. Pauli String Representation\n",
    "\n",
    "Pauli operators can be created from string representations using the Pauli matrices:\n",
    "- `I`: Identity operator\n",
    "- `X`: Pauli-X (bit-flip) operator\n",
    "- `Y`: Pauli-Y operator\n",
    "- `Z`: Pauli-Z (phase-flip) operator\n",
    "\n",
    "Note: Qiskit uses <b>Little Endian Notation</b> where qubit(n-1) is the leftmost and qubit0 is the rightmost in the string representation.\n",
    "\n",
    "The phase can be specified as ` ` (default), `-`, `i`, or `-i`."
   ]
  },
  {
   "cell_type": "code",
   "execution_count": 83,
   "id": "b496675f",
   "metadata": {},
   "outputs": [
    {
     "name": "stdout",
     "output_type": "stream",
     "text": [
      "P:XZ, P2:YY, P3:-iZX\n"
     ]
    }
   ],
   "source": [
    "from qiskit.quantum_info import Pauli\n",
    "\n",
    "# Create Pauli operators from string representations\n",
    "p = Pauli('XZ')      # No phase (default +1)\n",
    "p2 = Pauli('iYY')    # With imaginary phase i\n",
    "p3 = Pauli('-iZX')   # With negative imaginary phase -i\n",
    "\n",
    "print(f\"P:{p}, P2:{p2}, P3:{p3}\")"
   ]
  },
  {
   "cell_type": "markdown",
   "id": "36f97f29",
   "metadata": {},
   "source": [
    "#### 2. Boolean Array Representation\n",
    "\n",
    "Pauli operators can also be created using boolean numpy arrays:\n",
    "- `z` array: Specifies Z components (True = Z operator, False = I operator)\n",
    "- `x` array: Specifies X components (True = X operator, False = I operator)\n",
    "\n",
    "The actual Pauli operator at each qubit position is determined by:\n",
    "- (z=False, x=False) → I (Identity)\n",
    "- (z=False, x=True) → X\n",
    "- (z=True, x=False) → Z\n",
    "- (z=True, x=True) → Y (since Y = iXZ)"
   ]
  },
  {
   "cell_type": "code",
   "execution_count": 84,
   "id": "0977e4e1",
   "metadata": {},
   "outputs": [
    {
     "name": "stdout",
     "output_type": "stream",
     "text": [
      "Pauli Operator from Boolean Array: YZXI\n"
     ]
    }
   ],
   "source": [
    "import numpy as np\n",
    "\n",
    "# Define Z and X components using boolean arrays\n",
    "# I on qubit 0, X on qubit 1, Z on qubit 2, Y on qubit 3\n",
    "z = np.array([False,False,True,True])  \n",
    "x = np.array([False,True,False,True])  \n",
    "\n",
    "pauli_array_rep = Pauli((z, x))\n",
    "\n",
    "print(f\"Pauli Operator from Boolean Array: {pauli_array_rep}\")"
   ]
  },
  {
   "cell_type": "markdown",
   "id": "d238a6a5",
   "metadata": {},
   "source": [
    "#### 3. Quantum Circuit Representation\n",
    "\n",
    "Pauli operators can be extracted from quantum circuits that contain only Pauli gates (I,X, Y, Z). The circuit is analyzed to construct the corresponding Pauli operator."
   ]
  },
  {
   "cell_type": "code",
   "execution_count": 85,
   "id": "3f7f28d9",
   "metadata": {},
   "outputs": [
    {
     "name": "stdout",
     "output_type": "stream",
     "text": [
      "Pauli Operator from quantum circuit : YXZI\n"
     ]
    }
   ],
   "source": [
    "from qiskit import QuantumCircuit\n",
    "\n",
    "# Create a quantum circuit with Pauli gates\n",
    "qc = QuantumCircuit(4)\n",
    "qc.id(0) # I gate on qubit 0 Not Needed just usedfor demonastration\n",
    "qc.z(1)  # Z gate on qubit 1\n",
    "qc.x(2)  # X gate on qubit 2\n",
    "qc.y(3)  # Y gate on qubit 3\n",
    "# No Other Gates should be used , uncommenting the line below will return an error\n",
    "#qc.cx(0,1)\n",
    "\n",
    "\n",
    "# Extract Pauli operator from the circuit\n",
    "pauli_quantum_circuit = Pauli(qc)\n",
    "\n",
    "print(f\"Pauli Operator from quantum circuit : {pauli_quantum_circuit}\")"
   ]
  },
  {
   "cell_type": "markdown",
   "id": "55351af8",
   "metadata": {},
   "source": [
    "#### 4. From ScalarOp\n",
    "\n",
    "Pauli operators can be combined with scalar operations. The `ScalarOp` represents a scalar multiple of the identity operator, which can be composed with a Pauli operator to apply a global phase."
   ]
  },
  {
   "cell_type": "code",
   "execution_count": 90,
   "id": "8c358628",
   "metadata": {},
   "outputs": [
    {
     "name": "stdout",
     "output_type": "stream",
     "text": [
      "Pauli Operator Before applying Scalar : YXZI\n",
      "Pauli Operator from ScalarOp : -iYXZI\n"
     ]
    }
   ],
   "source": [
    "from qiskit.quantum_info import Pauli, ScalarOp\n",
    "\n",
    "# Create a scalar operator (scaled identity)\n",
    "# Pauli can only be multiplied by 1, -1j, -1, 1j\n",
    "scalar_op = ScalarOp(dims=(2,2,2,2), coeff=-1j)  # -1*j\n",
    "\n",
    "# Create a Pauli operator\n",
    "pauli_scalarop = Pauli('YXZI')\n",
    "\n",
    "# Compose the scalar operator with Pauli operator\n",
    "# This applies the scalar coefficient to the Pauli operator\n",
    "p = scalar_op.compose(pauli_scalarop)\n",
    "\n",
    "print(f\"Pauli Operator Before applying Scalar : {pauli_scalarop}\")\n",
    "\n",
    "print(f\"Pauli Operator from ScalarOp : {p}\")"
   ]
  },
  {
   "cell_type": "markdown",
   "id": "273d5256",
   "metadata": {},
   "source": [
    "### Representation Methods"
   ]
  },
  {
   "cell_type": "markdown",
   "id": "525142e6",
   "metadata": {},
   "source": [
    "#### 1. Matrix Representation\n",
    "\n",
    "The `to_matrix()` method converts a Pauli operator to its matrix representation. For multi-qubit Pauli operators, this returns the tensor product of individual Pauli matrices."
   ]
  },
  {
   "cell_type": "code",
   "execution_count": 91,
   "id": "bc33de01",
   "metadata": {},
   "outputs": [
    {
     "name": "stdout",
     "output_type": "stream",
     "text": [
      "[[ 0.+0.j  1.+0.j  0.+0.j  0.+0.j]\n",
      " [ 1.+0.j  0.+0.j  0.+0.j  0.+0.j]\n",
      " [ 0.+0.j  0.+0.j  0.+0.j -1.+0.j]\n",
      " [ 0.+0.j  0.+0.j -1.+0.j  0.+0.j]]\n"
     ]
    }
   ],
   "source": [
    "# Convert Pauli operator to matrix representation\n",
    "p = Pauli('ZX')\n",
    "p_matrix = p.to_matrix()\n",
    "\n",
    "print(f\"Matrix Format: {p_matrix}\")"
   ]
  },
  {
   "cell_type": "markdown",
   "id": "11b26411",
   "metadata": {},
   "source": [
    "#### 2. String Representation\n",
    "\n",
    "Pauli operators can be converted to string labels for easy readability. The `to_label()` method provides a canonical string representation."
   ]
  },
  {
   "cell_type": "code",
   "execution_count": 92,
   "id": "a55d7ebc",
   "metadata": {},
   "outputs": [
    {
     "name": "stdout",
     "output_type": "stream",
     "text": [
      "String format:ZX\n",
      "Label format:ZX\n"
     ]
    }
   ],
   "source": [
    "# String representations\n",
    "print(f\"String format:{str(p)}\")\n",
    "\n",
    "print(f\"Label format:{p.to_label()}\")"
   ]
  },
  {
   "cell_type": "markdown",
   "id": "e75f1f08",
   "metadata": {},
   "source": [
    "### Attributes\n",
    "\n",
    "The Pauli class provides several attributes to access properties of the operator, some of them are:\n",
    "- `dim`: Dimension of the operator\n",
    "- `num_qubits`: Number of qubits\n",
    "- `num_clbits`: Number of classical bits (always 0 for Pauli operators)\n",
    "- `phase`: Phase of the operator (0, 1, 2, 3 representing +1, i, -1, -i)\n",
    "- `x`: X component as boolean array\n",
    "- `z`: Z component as boolean array"
   ]
  },
  {
   "cell_type": "code",
   "execution_count": 93,
   "id": "dddbb987",
   "metadata": {},
   "outputs": [
    {
     "name": "stdout",
     "output_type": "stream",
     "text": [
      "Dimension: (4, 4)\n",
      "Classical bits: 0, Qubits: 2\n",
      "X: [ True False], Z: [False  True], Phase: 0\n"
     ]
    }
   ],
   "source": [
    "# Access Pauli operator attributes\n",
    "print(f\"Dimension: {p.dim}\")  # Dimension of the operator matrix\n",
    "print(f\"Classical bits: {p.num_clbits}, Qubits: {p.num_qubits}\")  # Number of qubits\n",
    "print(f\"X: {p.x}, Z: {p.z}, Phase: {p.phase}\")  # Components and phase"
   ]
  },
  {
   "cell_type": "markdown",
   "id": "d79bbb86",
   "metadata": {},
   "source": [
    "### Methods\n",
    "\n",
    "The Pauli class provides various methods for operator manipulation and analysis. some of them are"
   ]
  },
  {
   "cell_type": "markdown",
   "id": "90638402",
   "metadata": {},
   "source": [
    "#### adjoint\n",
    "\n",
    "Returns the adjoint (conjugate transpose) of the Pauli operator. For Pauli operators, the adjoint is the same as the operator itself (they are Hermitian), but the phase may change."
   ]
  },
  {
   "cell_type": "code",
   "execution_count": 94,
   "id": "47129352",
   "metadata": {},
   "outputs": [
    {
     "name": "stdout",
     "output_type": "stream",
     "text": [
      "pauli operator:-iZX, adjoint: iZX\n"
     ]
    }
   ],
   "source": [
    "# Get the adjoint (conjugate transpose) of the Pauli operator\n",
    "p.adjoint()\n",
    "print(f\"pauli operator:{p3}, adjoint: {p3.adjoint()}\")"
   ]
  },
  {
   "cell_type": "markdown",
   "id": "4d4ad1c0",
   "metadata": {},
   "source": [
    "#### anticommutes\n",
    "\n",
    "Checks if two Pauli operators anticommute. Two operators A and B anticommute if AB = -BA."
   ]
  },
  {
   "cell_type": "code",
   "execution_count": 95,
   "id": "7fcb821b",
   "metadata": {},
   "outputs": [
    {
     "name": "stdout",
     "output_type": "stream",
     "text": [
      "X anticommutes with Y is True\n"
     ]
    }
   ],
   "source": [
    "# Check if two Pauli operators anticommute\n",
    "p = Pauli('X')      # X\n",
    "p2 = Pauli('Y')     # Y\n",
    "print(f\"{p} anticommutes with {p2} is {p.anticommutes(p2)}\")"
   ]
  },
  {
   "cell_type": "markdown",
   "id": "e3ae9675",
   "metadata": {},
   "source": [
    "#### compose\n",
    "\n",
    "Returns the composition (matrix product) of two Pauli operators. The composition of Pauli operators results in another Pauli operator (up to a phase)."
   ]
  },
  {
   "cell_type": "code",
   "execution_count": 96,
   "id": "3310fa19",
   "metadata": {},
   "outputs": [
    {
     "name": "stdout",
     "output_type": "stream",
     "text": [
      "X compose with X is I\n"
     ]
    }
   ],
   "source": [
    "# Compose two Pauli operators (matrix multiplication)\n",
    "\n",
    "print(f\"{p} compose with {p.adjoint()} is {p.compose(p.adjoint())}\")"
   ]
  },
  {
   "cell_type": "markdown",
   "id": "a45d6745",
   "metadata": {},
   "source": [
    "#### conjugate\n",
    "\n",
    "Returns the complex conjugate of the Pauli operator. For real Pauli operators (without imaginary phases), this is the same as the original operator."
   ]
  },
  {
   "cell_type": "code",
   "execution_count": 97,
   "id": "31bba93f",
   "metadata": {},
   "outputs": [
    {
     "name": "stdout",
     "output_type": "stream",
     "text": [
      "Conjugate of ZX is ZX\n",
      "Conjugate of Y is -Y\n"
     ]
    }
   ],
   "source": [
    "# Get the complex conjugate of the Pauli operator\n",
    "p = Pauli('ZX')\n",
    "print(f\"Conjugate of {p} is {p.conjugate()}\")\n",
    "print(f\"Conjugate of {p2} is {p2.conjugate()}\")"
   ]
  },
  {
   "cell_type": "markdown",
   "id": "492ae85f",
   "metadata": {},
   "source": [
    "#### delete\n",
    "\n",
    "Returns a Pauli operator with specified qubits deleted. This reduces the number of qubits in the operator."
   ]
  },
  {
   "cell_type": "code",
   "execution_count": 78,
   "id": "fbf52076",
   "metadata": {},
   "outputs": [
    {
     "name": "stdout",
     "output_type": "stream",
     "text": [
      "ZX after deleting qubit 0 is Z\n"
     ]
    }
   ],
   "source": [
    "# Delete a qubit from the Pauli operator\n",
    "delete_qubit = 0\n",
    "delete_0 = p.delete(delete_qubit)\n",
    "\n",
    "print(f\"{p} after deleting qubit {delete_qubit} is {delete_0}\")"
   ]
  },
  {
   "cell_type": "markdown",
   "id": "4c84297b",
   "metadata": {},
   "source": [
    "#### insert\n",
    "\n",
    "Returns a Pauli operator with additional qubits inserted at specified positions."
   ]
  },
  {
   "cell_type": "code",
   "execution_count": 80,
   "id": "a1dfc545",
   "metadata": {},
   "outputs": [
    {
     "name": "stdout",
     "output_type": "stream",
     "text": [
      "Z after inserting X at qubit 0 is ZX\n"
     ]
    }
   ],
   "source": [
    "# Insert a Pauli operator at a specific qubit position\n",
    "insert_0 = delete_0.insert(delete_qubit, Pauli('X'))\n",
    "\n",
    "print(f\"{delete_0} after inserting X at qubit {delete_qubit} is {insert_0}\")"
   ]
  },
  {
   "cell_type": "markdown",
   "id": "b74ad848",
   "metadata": {},
   "source": [
    "#### to_instruction\n",
    "\n",
    "Converts the Pauli operator to a quantum instruction that can be used in quantum circuits."
   ]
  },
  {
   "cell_type": "code",
   "execution_count": 81,
   "id": "18b7d648",
   "metadata": {},
   "outputs": [
    {
     "data": {
      "text/plain": [
       "Instruction(name='pauli', num_qubits=2, num_clbits=0, params=['ZX'])"
      ]
     },
     "execution_count": 81,
     "metadata": {},
     "output_type": "execute_result"
    }
   ],
   "source": [
    "# Convert Pauli operator to a quantum instruction\n",
    "p.to_instruction()"
   ]
  }
 ],
 "metadata": {
  "kernelspec": {
   "display_name": "Python 3 (ipykernel)",
   "language": "python",
   "name": "python3"
  }
 },
 "nbformat": 4,
 "nbformat_minor": 5
}
