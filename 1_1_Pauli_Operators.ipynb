{
 "cells": [
  {
   "cell_type": "markdown",
   "id": "ca1f530e",
   "metadata": {},
   "source": [
    "# Task 1.1  Pauli Operators\n",
    "\n",
    "## Objective 1:  Define Pauli Operators\n",
    "\n"
   ]
  },
  {
   "cell_type": "markdown",
   "id": "d97c501e",
   "metadata": {},
   "source": [
    "### Initilization"
   ]
  },
  {
   "cell_type": "markdown",
   "id": "0d94e651",
   "metadata": {},
   "source": [
    "1. as a Pauli String , it can be in states [ , i , -i , -]\n",
    "    representation uses Little Endian Notation q(n-1) is the leftmost and qubit0 is the rightmost"
   ]
  },
  {
   "cell_type": "code",
   "execution_count": 1,
   "id": "b496675f",
   "metadata": {},
   "outputs": [
    {
     "name": "stdout",
     "output_type": "stream",
     "text": [
      "P:ZX,P2:iZX,P3:-iZX\n"
     ]
    }
   ],
   "source": [
    "from qiskit.quantum_info import Pauli\n",
    "\n",
    "p=Pauli('ZX')\n",
    "\n",
    "p2=Pauli('iZX')\n",
    "\n",
    "p3=Pauli('-iZX')\n",
    "\n",
    "print(f\"P:{p},P2:{p2},P3:{p3}\")\n"
   ]
  },
  {
   "cell_type": "markdown",
   "id": "36f97f29",
   "metadata": {},
   "source": [
    "2. using boolean numpy ndarrays"
   ]
  },
  {
   "cell_type": "code",
   "execution_count": 2,
   "id": "0977e4e1",
   "metadata": {},
   "outputs": [
    {
     "name": "stdout",
     "output_type": "stream",
     "text": [
      "ZX\n"
     ]
    }
   ],
   "source": [
    "import numpy as np\n",
    "\n",
    "z = np.array([False, True])\n",
    "x = np.array([True, False])\n",
    "\n",
    "Ppg=Pauli((z,x))\n",
    "\n",
    "print(Ppg)"
   ]
  },
  {
   "cell_type": "markdown",
   "id": "d238a6a5",
   "metadata": {},
   "source": [
    "3. as a Quantum Circuit with Pauli Gates Only"
   ]
  },
  {
   "cell_type": "code",
   "execution_count": 3,
   "id": "3f7f28d9",
   "metadata": {},
   "outputs": [
    {
     "name": "stdout",
     "output_type": "stream",
     "text": [
      "ZX\n"
     ]
    }
   ],
   "source": [
    "from qiskit import QuantumCircuit\n",
    "\n",
    "qc = QuantumCircuit(2)\n",
    "qc.x(0)\n",
    "qc.z(1)\n",
    "Pqc=Pauli(qc)\n",
    "\n",
    "print(Pqc)"
   ]
  },
  {
   "cell_type": "markdown",
   "id": "55351af8",
   "metadata": {},
   "source": [
    "4. from a ScalarOp "
   ]
  },
  {
   "cell_type": "code",
   "execution_count": 4,
   "id": "8c358628",
   "metadata": {},
   "outputs": [
    {
     "name": "stdout",
     "output_type": "stream",
     "text": [
      "-ZX\n"
     ]
    }
   ],
   "source": [
    "from qiskit.quantum_info import Pauli, ScalarOp\n",
    "\n",
    "scalar_op = ScalarOp(dims=(2,2), coeff=-1)\n",
    "\n",
    "Ps=Pauli('ZX')\n",
    "\n",
    "p=scalar_op.compose(Ps)\n",
    "\n",
    "print(p)"
   ]
  },
  {
   "cell_type": "markdown",
   "id": "273d5256",
   "metadata": {},
   "source": [
    "### Representation "
   ]
  },
  {
   "cell_type": "markdown",
   "id": "525142e6",
   "metadata": {},
   "source": [
    "1. As a matrix "
   ]
  },
  {
   "cell_type": "code",
   "execution_count": 5,
   "id": "bc33de01",
   "metadata": {},
   "outputs": [
    {
     "name": "stdout",
     "output_type": "stream",
     "text": [
      "[[ 0.+0.j -1.+0.j  0.+0.j  0.+0.j]\n",
      " [-1.+0.j  0.+0.j  0.+0.j  0.+0.j]\n",
      " [ 0.+0.j  0.+0.j  0.+0.j  1.-0.j]\n",
      " [ 0.+0.j  0.+0.j  1.-0.j  0.+0.j]]\n"
     ]
    }
   ],
   "source": [
    "p_matrix  = p.to_matrix()\n",
    "\n",
    "print(p_matrix)"
   ]
  },
  {
   "cell_type": "markdown",
   "id": "11b26411",
   "metadata": {},
   "source": [
    "2. as a string"
   ]
  },
  {
   "cell_type": "code",
   "execution_count": 6,
   "id": "a55d7ebc",
   "metadata": {},
   "outputs": [
    {
     "name": "stdout",
     "output_type": "stream",
     "text": [
      "String format:-ZX\n",
      "label format:-ZX\n"
     ]
    }
   ],
   "source": [
    "print(f\"String format:{str(p)}\")\n",
    "\n",
    "print(f\"label format:{p.to_label()}\")"
   ]
  },
  {
   "cell_type": "markdown",
   "id": "e75f1f08",
   "metadata": {},
   "source": [
    "### Attributes"
   ]
  },
  {
   "cell_type": "markdown",
   "id": "4d0abe46",
   "metadata": {},
   "source": [
    "* Dimension\n",
    "* name\n",
    "* num_clbits\n",
    "* num_qubits\n",
    "* phase\n",
    "* qargs\n",
    "* settings\n",
    "* x\n",
    "* z"
   ]
  },
  {
   "cell_type": "code",
   "execution_count": 7,
   "id": "dddbb987",
   "metadata": {},
   "outputs": [
    {
     "name": "stdout",
     "output_type": "stream",
     "text": [
      "Dimension:(4, 4)\n",
      "Classical bits0, Qubits: 2\n",
      " X:[ True False] , Z: [False  True] , Phase: 2\n"
     ]
    }
   ],
   "source": [
    "# Dimension\n",
    "print (f\"Dimension:{p.dim}\")\n",
    "# Classical bits and Qubits\n",
    "print (f\"Classical bits{p.num_clbits}, Qubits: {p.num_qubits}\")\n",
    "# X,Z and phase\n",
    "print (f\" X:{p.x} , Z: {p.z} , Phase: {p.phase}\")"
   ]
  },
  {
   "cell_type": "markdown",
   "id": "d79bbb86",
   "metadata": {},
   "source": [
    "### Methods"
   ]
  },
  {
   "cell_type": "markdown",
   "id": "90638402",
   "metadata": {},
   "source": [
    "* adjoint\n",
    "* anticommuntes\n",
    "* apply_layout\n",
    "* commutes\n",
    "* compose\n",
    "* conjugate\n",
    "* copy\n",
    "* delete\n",
    "* dot\n",
    "* equiv\n",
    "* evolve\n",
    "* expand\n",
    "* input_dims\n",
    "* insert\n",
    "* inverse\n",
    "* output_dims\n",
    "* power\n",
    "* reshape\n",
    "* set_truncation\n",
    "* tensor\n",
    "* to_instruction\n",
    "* to_label\n",
    "* to_matrix\n",
    "* transpose"
   ]
  },
  {
   "cell_type": "markdown",
   "id": "b2a935a7",
   "metadata": {},
   "source": [
    "#### Examples\n",
    "\n",
    "* adjoint"
   ]
  },
  {
   "cell_type": "code",
   "execution_count": 8,
   "id": "47129352",
   "metadata": {},
   "outputs": [
    {
     "data": {
      "text/plain": [
       "Pauli('-ZX')"
      ]
     },
     "execution_count": 8,
     "metadata": {},
     "output_type": "execute_result"
    }
   ],
   "source": [
    "p.adjoint()"
   ]
  },
  {
   "cell_type": "markdown",
   "id": "4d4ad1c0",
   "metadata": {},
   "source": [
    "* anticommutes"
   ]
  },
  {
   "cell_type": "code",
   "execution_count": 9,
   "id": "7fcb821b",
   "metadata": {},
   "outputs": [
    {
     "name": "stdout",
     "output_type": "stream",
     "text": [
      "-ZX anticommutes with -ZX  is False\n"
     ]
    }
   ],
   "source": [
    "print(f\"{p} anticommutes with {p.adjoint()}  is {p.anticommutes(p.adjoint())}\")"
   ]
  },
  {
   "cell_type": "markdown",
   "id": "e3ae9675",
   "metadata": {},
   "source": [
    "* compose"
   ]
  },
  {
   "cell_type": "code",
   "execution_count": 10,
   "id": "3310fa19",
   "metadata": {},
   "outputs": [
    {
     "name": "stdout",
     "output_type": "stream",
     "text": [
      "-ZX compose with -ZX  is II\n"
     ]
    }
   ],
   "source": [
    "print(f\"{p} compose with {p.adjoint()}  is {p.compose(p.adjoint())}\")"
   ]
  },
  {
   "cell_type": "markdown",
   "id": "a45d6745",
   "metadata": {},
   "source": [
    "* conjugate"
   ]
  },
  {
   "cell_type": "code",
   "execution_count": 11,
   "id": "31bba93f",
   "metadata": {},
   "outputs": [
    {
     "name": "stdout",
     "output_type": "stream",
     "text": [
      "conjugate of -ZX  is -ZX\n"
     ]
    }
   ],
   "source": [
    "print(f\"conjugate of {p}  is {p.conjugate()}\")"
   ]
  },
  {
   "cell_type": "markdown",
   "id": "492ae85f",
   "metadata": {},
   "source": [
    "* delete"
   ]
  },
  {
   "cell_type": "code",
   "execution_count": 12,
   "id": "fbf52076",
   "metadata": {},
   "outputs": [
    {
     "name": "stdout",
     "output_type": "stream",
     "text": [
      "-ZX after deleting qubit 0 is -Z\n"
     ]
    }
   ],
   "source": [
    "delete_qubit=0\n",
    "delete_0 = p.delete(delete_qubit)\n",
    "\n",
    "print (f\"{p} after deleting qubit {delete_qubit} is {delete_0}\")"
   ]
  },
  {
   "cell_type": "markdown",
   "id": "4c84297b",
   "metadata": {},
   "source": [
    "* insert"
   ]
  },
  {
   "cell_type": "code",
   "execution_count": 13,
   "id": "a1dfc545",
   "metadata": {},
   "outputs": [
    {
     "name": "stdout",
     "output_type": "stream",
     "text": [
      "-Z after inserting X at qubit 0 is -ZX\n"
     ]
    }
   ],
   "source": [
    "insert_0= delete_0.insert(delete_qubit,Pauli('X'))\n",
    "\n",
    "print (f\"{delete_0} after inserting X at qubit {delete_qubit} is {insert_0}\")"
   ]
  },
  {
   "cell_type": "markdown",
   "id": "3c8c0a33",
   "metadata": {},
   "source": [
    "* power"
   ]
  },
  {
   "cell_type": "code",
   "execution_count": 14,
   "id": "9d3367d9",
   "metadata": {},
   "outputs": [
    {
     "name": "stdout",
     "output_type": "stream",
     "text": [
      "-ZX power 2 is  II\n"
     ]
    }
   ],
   "source": [
    "power_p=p.power(2)\n",
    "\n",
    "print(f\"{p} power 2 is  {power_p}\")"
   ]
  },
  {
   "cell_type": "markdown",
   "id": "b74ad848",
   "metadata": {},
   "source": [
    "* to_instruction"
   ]
  },
  {
   "cell_type": "code",
   "execution_count": 15,
   "id": "18b7d648",
   "metadata": {},
   "outputs": [
    {
     "data": {
      "text/plain": [
       "Instruction(name='-ZX', num_qubits=2, num_clbits=0, params=[])"
      ]
     },
     "execution_count": 15,
     "metadata": {},
     "output_type": "execute_result"
    }
   ],
   "source": [
    "p.to_instruction()"
   ]
  }
 ],
 "metadata": {
  "kernelspec": {
   "display_name": "Python 3 (ipykernel)",
   "language": "python",
   "name": "python3"
  },
  "language_info": {
   "codemirror_mode": {
    "name": "ipython",
    "version": 3
   },
   "file_extension": ".py",
   "mimetype": "text/x-python",
   "name": "python",
   "nbconvert_exporter": "python",
   "pygments_lexer": "ipython3",
   "version": "3.13.7"
  }
 },
 "nbformat": 4,
 "nbformat_minor": 5
}
