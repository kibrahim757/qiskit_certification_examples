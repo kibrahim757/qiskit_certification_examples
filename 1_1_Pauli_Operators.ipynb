{
 "cells": [
  {
   "cell_type": "markdown",
   "id": "ca1f530e",
   "metadata": {},
   "source": [
    "#Task 1.1  Pauli Operators\n",
    "\n",
    "* Define Pauli Operators\n",
    "\n",
    "* Reference Qiskit Doc\n",
    "\n",
    "    ##Initilization\n",
    "\n",
    "1. as a Pauli String , it can be in states [ , i , -i , -]\n",
    "    Represtnation uses Little Endian Notation q(n-1) is the leftmost and qubit0 is teh rightmost"
   ]
  },
  {
   "cell_type": "code",
   "execution_count": 25,
   "id": "b496675f",
   "metadata": {},
   "outputs": [
    {
     "name": "stdout",
     "output_type": "stream",
     "text": [
      "P:ZX,P2:iZX,P3:-iZX\n"
     ]
    }
   ],
   "source": [
    "from qiskit.quantum_info import Pauli\n",
    "\n",
    "p=Pauli('ZX')\n",
    "\n",
    "p2=Pauli('iZX')\n",
    "\n",
    "p3=Pauli('-iZX')\n",
    "\n",
    "print(f\"P:{p},P2:{p2},P3:{p3}\")\n"
   ]
  },
  {
   "cell_type": "markdown",
   "id": "36f97f29",
   "metadata": {},
   "source": [
    "2. using boolean numpy ndarrays"
   ]
  },
  {
   "cell_type": "code",
   "execution_count": 22,
   "id": "0977e4e1",
   "metadata": {},
   "outputs": [
    {
     "name": "stdout",
     "output_type": "stream",
     "text": [
      "ZX\n"
     ]
    }
   ],
   "source": [
    "import numpy as np\n",
    "\n",
    "z = np.array([False, True])\n",
    "x = np.array([True, False])\n",
    "\n",
    "Ppg=Pauli((z,x))\n",
    "\n",
    "print(Ppg)"
   ]
  },
  {
   "cell_type": "markdown",
   "id": "d238a6a5",
   "metadata": {},
   "source": [
    "3. as a Quantum Circuit with Pauli Gates Only"
   ]
  },
  {
   "cell_type": "code",
   "execution_count": 26,
   "id": "3f7f28d9",
   "metadata": {},
   "outputs": [
    {
     "name": "stdout",
     "output_type": "stream",
     "text": [
      "ZX\n"
     ]
    }
   ],
   "source": [
    "from qiskit import QuantumCircuit\n",
    "\n",
    "qc = QuantumCircuit(2)\n",
    "qc.x(0)\n",
    "qc.z(1)\n",
    "Pqc=Pauli(qc)\n",
    "\n",
    "print(Pqc)"
   ]
  },
  {
   "cell_type": "markdown",
   "id": "55351af8",
   "metadata": {},
   "source": [
    "4. from a ScalarOp "
   ]
  },
  {
   "cell_type": "code",
   "execution_count": 40,
   "id": "8c358628",
   "metadata": {},
   "outputs": [
    {
     "name": "stdout",
     "output_type": "stream",
     "text": [
      "-ZX\n"
     ]
    }
   ],
   "source": [
    "from qiskit.quantum_info import Pauli, ScalarOp\n",
    "\n",
    "scalar_op = ScalarOp(dims=(2,2), coeff=-1)\n",
    "\n",
    "Ps=Pauli('ZX')\n",
    "\n",
    "p=scalar_op.compose(Ps)\n",
    "\n",
    "print(p)"
   ]
  },
  {
   "cell_type": "markdown",
   "id": "273d5256",
   "metadata": {},
   "source": [
    "##Representation\n",
    "\n",
    "1. As a matrix  "
   ]
  },
  {
   "cell_type": "code",
   "execution_count": 44,
   "id": "bc33de01",
   "metadata": {},
   "outputs": [
    {
     "name": "stdout",
     "output_type": "stream",
     "text": [
      "[[ 0.+0.j -1.+0.j  0.+0.j  0.+0.j]\n",
      " [-1.+0.j  0.+0.j  0.+0.j  0.+0.j]\n",
      " [ 0.+0.j  0.+0.j  0.+0.j  1.-0.j]\n",
      " [ 0.+0.j  0.+0.j  1.-0.j  0.+0.j]]\n"
     ]
    }
   ],
   "source": [
    "p_matrix  = p.to_matrix()\n",
    "\n",
    "print(p_matrix)"
   ]
  },
  {
   "cell_type": "markdown",
   "id": "11b26411",
   "metadata": {},
   "source": [
    "2. as a string"
   ]
  },
  {
   "cell_type": "code",
   "execution_count": 49,
   "id": "a55d7ebc",
   "metadata": {},
   "outputs": [
    {
     "name": "stdout",
     "output_type": "stream",
     "text": [
      "String format:-ZX\n",
      "label format:-ZX\n"
     ]
    }
   ],
   "source": [
    "print(f\"String format:{str(p)}\")\n",
    "\n",
    "print(f\"label format:{p.to_label()}\")"
   ]
  },
  {
   "cell_type": "markdown",
   "id": "e75f1f08",
   "metadata": {},
   "source": [
    "##Attributes\n",
    "\n",
    "1. Dimension"
   ]
  },
  {
   "cell_type": "code",
   "execution_count": 52,
   "id": "dddbb987",
   "metadata": {},
   "outputs": [
    {
     "data": {
      "text/plain": [
       "(4, 4)"
      ]
     },
     "execution_count": 52,
     "metadata": {},
     "output_type": "execute_result"
    }
   ],
   "source": [
    "p.dim\n"
   ]
  },
  {
   "cell_type": "markdown",
   "id": "dabdba04",
   "metadata": {},
   "source": [
    "Classical Bits and Qubits"
   ]
  },
  {
   "cell_type": "code",
   "execution_count": null,
   "id": "feac64e8",
   "metadata": {},
   "outputs": [
    {
     "data": {
      "text/plain": [
       "2"
      ]
     },
     "execution_count": 54,
     "metadata": {},
     "output_type": "execute_result"
    }
   ],
   "source": [
    "p.num_clbits\n",
    "p.num_qubits"
   ]
  },
  {
   "cell_type": "markdown",
   "id": "349aafe9",
   "metadata": {},
   "source": [
    "X, Z and Phase"
   ]
  },
  {
   "cell_type": "code",
   "execution_count": 58,
   "id": "1547ea74",
   "metadata": {},
   "outputs": [
    {
     "data": {
      "text/plain": [
       "np.int64(2)"
      ]
     },
     "execution_count": 58,
     "metadata": {},
     "output_type": "execute_result"
    }
   ],
   "source": [
    "p.x\n",
    "p.z\n",
    "p.phase"
   ]
  },
  {
   "cell_type": "markdown",
   "id": "d79bbb86",
   "metadata": {},
   "source": [
    "##Methods\n",
    "\n",
    "adjoint"
   ]
  },
  {
   "cell_type": "code",
   "execution_count": 59,
   "id": "47129352",
   "metadata": {},
   "outputs": [
    {
     "data": {
      "text/plain": [
       "Pauli('-ZX')"
      ]
     },
     "execution_count": 59,
     "metadata": {},
     "output_type": "execute_result"
    }
   ],
   "source": [
    "p.adjoint()"
   ]
  },
  {
   "cell_type": "markdown",
   "id": "4d4ad1c0",
   "metadata": {},
   "source": [
    "anticommutes"
   ]
  },
  {
   "cell_type": "code",
   "execution_count": 60,
   "id": "7fcb821b",
   "metadata": {},
   "outputs": [
    {
     "data": {
      "text/plain": [
       "np.False_"
      ]
     },
     "execution_count": 60,
     "metadata": {},
     "output_type": "execute_result"
    }
   ],
   "source": [
    "p.anticommutes(p.adjoint())"
   ]
  }
 ],
 "metadata": {
  "kernelspec": {
   "display_name": "Python 3 (ipykernel)",
   "language": "python",
   "name": "python3"
  },
  "language_info": {
   "codemirror_mode": {
    "name": "ipython",
    "version": 3
   },
   "file_extension": ".py",
   "mimetype": "text/x-python",
   "name": "python",
   "nbconvert_exporter": "python",
   "pygments_lexer": "ipython3",
   "version": "3.13.7"
  }
 },
 "nbformat": 4,
 "nbformat_minor": 5
}
