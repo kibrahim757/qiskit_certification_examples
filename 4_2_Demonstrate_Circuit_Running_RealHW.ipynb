{
 "cells": [
  {
   "cell_type": "markdown",
   "id": "f06b0ae4",
   "metadata": {},
   "source": [
    "# Taask 4.2 Demonstrate running Circuits on Real Hardware\n",
    "\n",
    "## Objective 1 : Execute on Target Hardware\n",
    "\n",
    "Check Task 4.1 Objective 1"
   ]
  },
  {
   "cell_type": "markdown",
   "id": "d81b9199",
   "metadata": {},
   "source": [
    "## Objective 2: Primitives\n",
    "\n",
    "* Abstraction\n",
    "* Estimator: expectation value of observable\n",
    "* Sampler: samples the output register\n",
    "\n",
    "### Implmentations\n",
    "* EstimatorV2\n",
    "* SamplerV2\n",
    "* StateVectorEstimator\n",
    "* StateVectorSampler\n",
    "* BackendEstimatorV2\n",
    "* BackendSamplerV2"
   ]
  },
  {
   "cell_type": "markdown",
   "id": "310c91a1",
   "metadata": {},
   "source": [
    "### Estimator\n",
    "\n",
    "Output is in PubResult : expectation value and their standard error"
   ]
  },
  {
   "cell_type": "code",
   "execution_count": null,
   "id": "1407b0e5",
   "metadata": {},
   "outputs": [
    {
     "name": "stdout",
     "output_type": "stream",
     "text": [
      "Using backend: ibm_torino\n"
     ]
    }
   ],
   "source": [
    "from qiskit import QuantumCircuit\n",
    "from qiskit.visualization import plot_histogram\n",
    "from qiskit_ibm_runtime import QiskitRuntimeService\n",
    "from qiskit.transpiler.preset_passmanagers import generate_preset_pass_manager\n",
    "from qiskit_ibm_runtime import EstimatorV2 as Estimator\n",
    "from qiskit.transpiler.preset_passmanagers import generate_preset_pass_manager\n",
    "from test_utils import read_account_file\n",
    "account = read_account_file('account_info.conf')  # Use the updated account file name\n",
    "service = QiskitRuntimeService(channel=\"ibm_cloud\", instance=account['instance'], token=account['token'])\n",
    "backend = service.least_busy()\n",
    "print(f\"Using backend: {backend.name}\")\n",
    "\n",
    "# Create a quantum circuit for entanglement and measurement then draw it\n",
    "qc = QuantumCircuit(2, 2)\n",
    "qc.h(0)  # Apply Hadamard gate to qubit 0\n",
    "qc.cx(0, 1)  # Apply CNOT gate to entangle qubit 0 and qubit 1\n",
    "qc.measure([0, 1], [0, 1])  # Measure both qubits\n",
    "qc.draw(\"mpl\")\n",
    "from qiskit.quantum_info import SparsePauliOp\n",
    "ZZ = SparsePauliOp.from_list([(\"ZZ\", 1)])  # Define the observable for ZZ measurement\n",
    "\n",
    "pm = generate_preset_pass_manager(backend=backend, optimization_level=3)\n",
    "# Transpile the circuit\n",
    "transpiled_circuit = pm.run(qc)\n",
    "\n",
    "estimator = Estimator(mode=backend)\n",
    "# map observables to the circuit\n",
    "observables = [ZZ.apply_layout(transpiled_circuit.layout)]\n",
    "# run estimator to get the expectation value\n",
    "job = estimator.run([(transpiled_circuit, observables)])\n",
    "print(f\"Job ID: {job.job_id()}\")"
   ]
  },
  {
   "cell_type": "markdown",
   "id": "811a25cf",
   "metadata": {},
   "source": [
    "### Sampler\n",
    "\n",
    "Output is weighted samples such as counts"
   ]
  },
  {
   "cell_type": "code",
   "execution_count": 3,
   "id": "ceddb412",
   "metadata": {},
   "outputs": [
    {
     "name": "stdout",
     "output_type": "stream",
     "text": [
      "Job ID: d31etp1mc66s738e7sig\n"
     ]
    }
   ],
   "source": [
    "from qiskit_ibm_runtime import SamplerV2 as Sampler\n",
    "\n",
    "sampler = Sampler(mode=backend)\n",
    "# Sample the transpiled circuit\n",
    "job = sampler.run([transpiled_circuit], shots=1024)\n",
    "print(f\"Job ID: {job.job_id()}\")"
   ]
  }
 ],
 "metadata": {
  "kernelspec": {
   "display_name": "Python 3 (ipykernel)",
   "language": "python",
   "name": "python3"
  },
  "language_info": {
   "codemirror_mode": {
    "name": "ipython",
    "version": 3
   },
   "file_extension": ".py",
   "mimetype": "text/x-python",
   "name": "python",
   "nbconvert_exporter": "python",
   "pygments_lexer": "ipython3",
   "version": "3.13.7"
  }
 },
 "nbformat": 4,
 "nbformat_minor": 5
}
