{
 "cells": [
  {
   "cell_type": "markdown",
   "id": "f06b0ae4",
   "metadata": {},
   "source": [
    "# Taask 4.2 Demonstrate running Circuits on Real Hardware\n",
    "\n",
    "## Objective 1 : Execute on Target Hardware\n",
    "\n",
    "Check Task 4.1 Objective 1"
   ]
  },
  {
   "cell_type": "markdown",
   "id": "d81b9199",
   "metadata": {},
   "source": [
    "## Objective 2: Primitives\n",
    "\n",
    "* Abstraction\n",
    "* Estimator: expectation value of observable\n",
    "* Sampler: samples the output register\n",
    "\n",
    "### Implmentations\n",
    "* EstimatorV2\n",
    "* SamplerV2\n",
    "* StateVectorEstimator\n",
    "* StateVectorSampler\n",
    "* BackendEstimatorV2\n",
    "* BackendSamplerV2"
   ]
  },
  {
   "cell_type": "markdown",
   "id": "310c91a1",
   "metadata": {},
   "source": [
    "### Estimator\n",
    "\n",
    "Output is in PubResult : expectation value and their standard error"
   ]
  },
  {
   "cell_type": "code",
   "execution_count": null,
   "id": "1407b0e5",
   "metadata": {},
   "outputs": [
    {
     "name": "stdout",
     "output_type": "stream",
     "text": [
      "Using backend: ibm_torino\n"
     ]
    }
   ],
   "source": [
    "from qiskit import QuantumCircuit\n",
    "from qiskit.visualization import plot_histogram\n",
    "from qiskit_ibm_runtime import QiskitRuntimeService\n",
    "from qiskit.transpiler.preset_passmanagers import generate_preset_pass_manager\n",
    "from qiskit_ibm_runtime import EstimatorV2 as Estimator\n",
    "from qiskit.transpiler.preset_passmanagers import generate_preset_pass_manager\n",
    "from test_utils import read_account_file\n",
    "account = read_account_file('account_info.conf')  # Use the updated account file name\n",
    "service = QiskitRuntimeService(channel=\"ibm_cloud\", instance=account['instance'], token=account['token'])\n",
    "backend = service.least_busy()\n",
    "print(f\"Using backend: {backend.name}\")\n",
    "\n",
    "# Create a quantum circuit for entanglement and measurement then draw it\n",
    "qc = QuantumCircuit(2, 2)\n",
    "qc.h(0)  # Apply Hadamard gate to qubit 0\n",
    "qc.cx(0, 1)  # Apply CNOT gate to entangle qubit 0 and qubit 1\n",
    "qc.measure([0, 1], [0, 1])  # Measure both qubits\n",
    "qc.draw(\"mpl\")\n",
    "from qiskit.quantum_info import SparsePauliOp\n",
    "ZZ = SparsePauliOp.from_list([(\"ZZ\", 1)])  # Define the observable for ZZ measurement\n",
    "\n",
    "pm = generate_preset_pass_manager(backend=backend, optimization_level=3)\n",
    "# Transpile the circuit\n",
    "transpiled_circuit = pm.run(qc)\n",
    "\n",
    "estimator = Estimator(mode=backend)\n",
    "# map observables to the circuit\n",
    "observables = [ZZ.apply_layout(transpiled_circuit.layout)]\n",
    "# run estimator to get the expectation value\n",
    "job = estimator.run([(transpiled_circuit, observables)])\n",
    "print(f\"Job ID: {job.job_id()}\")"
   ]
  },
  {
   "cell_type": "markdown",
   "id": "811a25cf",
   "metadata": {},
   "source": [
    "### Sampler\n",
    "\n",
    "Output is weighted samples such as counts"
   ]
  },
  {
   "cell_type": "code",
   "execution_count": 3,
   "id": "ceddb412",
   "metadata": {},
   "outputs": [
    {
     "name": "stdout",
     "output_type": "stream",
     "text": [
      "Job ID: d31etp1mc66s738e7sig\n"
     ]
    }
   ],
   "source": [
    "from qiskit_ibm_runtime import SamplerV2 as Sampler\n",
    "\n",
    "sampler = Sampler(mode=backend)\n",
    "# Sample the transpiled circuit\n",
    "job = sampler.run([transpiled_circuit], shots=1024)\n",
    "print(f\"Job ID: {job.job_id()}\")"
   ]
  },
  {
   "cell_type": "markdown",
   "id": "b5537f55",
   "metadata": {},
   "source": [
    "## Objective 3 : Primitives inputs and ouputs"
   ]
  },
  {
   "cell_type": "markdown",
   "id": "809a16f9",
   "metadata": {},
   "source": [
    "### Inputs\n",
    "\n",
    "Estimator Pub\n",
    "\n",
    "* Quantum Circuit\n",
    "* list of one or more Observables\n",
    "* collection of paramter values\n",
    "* Optional target precision\n",
    "\n",
    "Sampler Pub\n",
    "\n",
    "* Quantum Circuit\n",
    "* collection of parameter values\n",
    "* Optional number of shots"
   ]
  },
  {
   "cell_type": "code",
   "execution_count": 2,
   "id": "8f3d0e74",
   "metadata": {},
   "outputs": [],
   "source": [
    "from qiskit.circuit import (\n",
    "    Parameter,\n",
    "    QuantumCircuit,\n",
    "    ClassicalRegister,\n",
    "    QuantumRegister,\n",
    ")\n",
    "from qiskit.transpiler import generate_preset_pass_manager\n",
    "from qiskit.quantum_info import SparsePauliOp\n",
    "from qiskit.primitives.containers import BitArray\n",
    " \n",
    "from qiskit_ibm_runtime import (\n",
    "    QiskitRuntimeService,\n",
    "    EstimatorV2 as Estimator,\n",
    "    SamplerV2 as Sampler,\n",
    ")\n",
    " \n",
    "import numpy as np\n",
    " \n",
    "# Instantiate runtime service and get\n",
    "# the least busy backend\n",
    "service = QiskitRuntimeService()\n",
    "backend = service.least_busy(operational=True, simulator=False)\n",
    " \n",
    "# Define a circuit with two parameters.\n",
    "circuit = QuantumCircuit(2)\n",
    "circuit.h(0)\n",
    "circuit.cx(0, 1)\n",
    "circuit.ry(Parameter(\"a\"), 0)\n",
    "circuit.rz(Parameter(\"b\"), 0)\n",
    "circuit.cx(0, 1)\n",
    "circuit.h(0)\n",
    " \n",
    "# Transpile the circuit\n",
    "pm = generate_preset_pass_manager(optimization_level=1, backend=backend)\n",
    "transpiled_circuit = pm.run(circuit)\n",
    "layout = transpiled_circuit.layout\n",
    " \n",
    "# Now define a sweep over parameter values, the last axis of dimension 2 is\n",
    "# for the two parameters \"a\" and \"b\"\n",
    "params = np.vstack(\n",
    "    [\n",
    "        np.linspace(-np.pi, np.pi, 100),\n",
    "        np.linspace(-4 * np.pi, 4 * np.pi, 100),\n",
    "    ]\n",
    ").T\n",
    " \n",
    "# Define three observables. The inner length-1 lists cause this array of\n",
    "# observables to have shape (3, 1), rather than shape (3,) if they were\n",
    "# omitted.\n",
    "observables = [\n",
    "    [SparsePauliOp([\"XX\", \"IY\"], [0.5, 0.5])],\n",
    "    [SparsePauliOp(\"XX\")],\n",
    "    [SparsePauliOp(\"IY\")],\n",
    "]\n",
    "# Apply the same layout as the transpiled circuit.\n",
    "observables = [\n",
    "    [observable.apply_layout(layout) for observable in observable_set]\n",
    "    for observable_set in observables\n",
    "]\n",
    " \n",
    "# Estimate the expectation value for all 300 combinations of observables\n",
    "# and parameter values, where the pub result will have shape (3, 100).\n",
    "#\n",
    "# This shape is due to our array of parameter bindings having shape\n",
    "# (100, 2), combined with our array of observables having shape (3, 1).\n",
    "estimator_pub = (transpiled_circuit, observables, params)\n",
    " \n",
    "# Instantiate the new estimator object, then run the transpiled circuit\n",
    "# using the set of parameters and observables.\n",
    "estimator = Estimator(mode=backend)\n",
    "job = estimator.run([estimator_pub])\n",
    "result = job.result()"
   ]
  },
  {
   "cell_type": "markdown",
   "id": "e5abe916",
   "metadata": {
    "vscode": {
     "languageId": "raw"
    }
   },
   "source": [
    "### Outputs\n",
    "\n",
    "Estimator Output"
   ]
  },
  {
   "cell_type": "raw",
   "id": "fc0499b6",
   "metadata": {
    "vscode": {
     "languageId": "raw"
    }
   },
   "source": [
    "\n",
    "\n",
    "└── PrimitiveResult\n",
    "    ├── PubResult[0]\n",
    "    │   ├── metadata\n",
    "    │   └── data  ## In the form of a DataBin object\n",
    "    │       ├── evs\n",
    "    │       │   └── List of estimated expectation values in the shape\n",
    "    |       |         specified by the first pub\n",
    "    │       └── stds\n",
    "    │           └── List of calculated standard deviations in the\n",
    "    |                 same shape as above\n",
    "    ├── PubResult[1]\n",
    "    |   ├── metadata\n",
    "    |   └── data  ## In the form of a DataBin object\n",
    "    |       ├── evs\n",
    "    |       │   └── List of estimated expectation values in the shape\n",
    "    |       |        specified by the second pub\n",
    "    |       └── stds\n",
    "    |           └── List of calculated standard deviations in the\n",
    "    |                same shape as above\n",
    "    ├── ...\n",
    "    ├── ...\n",
    "    └── ...\n"
   ]
  },
  {
   "cell_type": "markdown",
   "id": "63b9e015",
   "metadata": {},
   "source": [
    "Sampler Output"
   ]
  },
  {
   "cell_type": "raw",
   "id": "c3052339",
   "metadata": {
    "vscode": {
     "languageId": "raw"
    }
   },
   "source": [
    "└── PrimitiveResult\n",
    "    ├── PubResult[0]\n",
    "    │   ├── metadata\n",
    "    │   └── data  ## In the form of a DataBin object\n",
    "    │       ├── NAME_OF_CLASSICAL_REGISTER\n",
    "    │       │   └── BitArray of count data (default is 'meas')\n",
    "    |       |\n",
    "    │       └── NAME_OF_ANOTHER_CLASSICAL_REGISTER\n",
    "    │           └── BitArray of count data (exists only if more than one\n",
    "    |                 ClassicalRegister was specified in the circuit)\n",
    "    ├── PubResult[1]\n",
    "    |   ├── metadata\n",
    "    |   └── data  ## In the form of a DataBin object\n",
    "    |       └── NAME_OF_CLASSICAL_REGISTER\n",
    "    |           └── BitArray of count data for second pub\n",
    "    ├── ...\n",
    "    ├── ...\n",
    "    └── ..."
   ]
  },
  {
   "cell_type": "code",
   "execution_count": 3,
   "id": "2ac9cfeb",
   "metadata": {},
   "outputs": [
    {
     "name": "stdout",
     "output_type": "stream",
     "text": [
      "The result of the submitted job had 1 PUB and has a value:\n",
      " PrimitiveResult([PubResult(data=DataBin(evs=np.ndarray(<shape=(3, 100), dtype=float64>), stds=np.ndarray(<shape=(3, 100), dtype=float64>), ensemble_standard_error=np.ndarray(<shape=(3, 100), dtype=float64>), shape=(3, 100)), metadata={'shots': 4096, 'target_precision': 0.015625, 'circuit_metadata': {}, 'resilience': {}, 'num_randomizations': 32})], metadata={'dynamical_decoupling': {'enable': False, 'sequence_type': 'XX', 'extra_slack_distribution': 'middle', 'scheduling_method': 'alap'}, 'twirling': {'enable_gates': False, 'enable_measure': True, 'num_randomizations': 'auto', 'shots_per_randomization': 'auto', 'interleave_randomizations': True, 'strategy': 'active-accum'}, 'resilience': {'measure_mitigation': True, 'zne_mitigation': False, 'pec_mitigation': False}, 'version': 2})\n",
      "\n",
      "The associated PubResult of this job has the following data bins:\n",
      " DataBin(evs=np.ndarray(<shape=(3, 100), dtype=float64>), stds=np.ndarray(<shape=(3, 100), dtype=float64>), ensemble_standard_error=np.ndarray(<shape=(3, 100), dtype=float64>), shape=(3, 100))\n",
      "\n",
      "And this DataBin has attributes: dict_keys(['evs', 'stds', 'ensemble_standard_error'])\n",
      "Recall that this shape is due to our array of parameter binding sets having shape (100, 2) -- where 2 is the\n",
      "         number of parameters in the circuit -- combined with our array of observables having shape (3, 1). \n",
      "\n",
      "The expectation values measured from this PUB are: \n",
      "[[-0.01685321  0.14572736  0.28526386  0.38303209  0.50782212  0.52481068\n",
      "   0.59692362  0.58910983  0.57204547  0.54597542  0.48697371  0.43344605\n",
      "   0.3409836   0.31043969  0.29088993  0.24119435  0.24921572  0.25894218\n",
      "   0.27123619  0.34237156  0.39801153  0.42790214  0.47049676  0.52536436\n",
      "   0.53135796  0.54876286  0.53635772  0.48353734  0.46215549  0.40673859\n",
      "   0.36143392  0.29499309  0.29004652  0.26982441  0.25910094  0.28163936\n",
      "   0.29588572  0.35679614  0.3779454   0.45587096  0.5044576   0.55751651\n",
      "   0.58248238  0.60958     0.57830103  0.50812734  0.43939203  0.33651211\n",
      "   0.21158594  0.07417564 -0.07160808 -0.21252659 -0.35281204 -0.44151902\n",
      "  -0.5166619  -0.58288761 -0.58714636 -0.55919262 -0.54381549 -0.47359815\n",
      "  -0.44849376 -0.40601503 -0.33082452 -0.26928185 -0.29426756 -0.2447613\n",
      "  -0.25131454 -0.28490744 -0.32234354 -0.3806348  -0.41259605 -0.47152196\n",
      "  -0.50193608 -0.51765535 -0.54953602 -0.54393059 -0.52113617 -0.46378477\n",
      "  -0.45516964 -0.3799688  -0.33670818 -0.287756   -0.28101503 -0.23385089\n",
      "  -0.25578285 -0.2775481  -0.31746166 -0.36482981 -0.42827721 -0.4956202\n",
      "  -0.57362871 -0.60058225 -0.60134986 -0.60286404 -0.54406871 -0.46555058\n",
      "  -0.38938488 -0.27620499 -0.13420572 -0.00594121]\n",
      " [-0.02155172  0.08261494  0.13793103  0.19037356  0.29022989  0.28663793\n",
      "   0.40876437  0.44396552  0.51149425  0.57758621  0.61206897  0.68678161\n",
      "   0.65158046  0.72916667  0.80387931  0.80890805  0.90229885  0.92672414\n",
      "   0.9375      0.96264368  1.00431034  1.01436782  0.99568966  1.04741379\n",
      "   1.03951149  1.05387931  1.03735632  1.01293103  1.00718391  0.9841954\n",
      "   0.97701149  0.9375      0.92097701  0.91091954  0.86350575  0.8362069\n",
      "   0.7658046   0.75502874  0.6558908   0.63218391  0.59123563  0.52442529\n",
      "   0.46551724  0.44899425  0.37428161  0.30244253  0.24784483  0.18462644\n",
      "   0.10272989  0.03951149 -0.05316092 -0.11566092 -0.19899425 -0.24712644\n",
      "  -0.29022989 -0.3829023  -0.42456897 -0.44324713 -0.53017241 -0.56321839\n",
      "  -0.61853448 -0.68606322 -0.71192529 -0.75071839 -0.87140805 -0.83979885\n",
      "  -0.89655172 -0.91235632 -0.95905172 -0.99497126 -0.99425287 -1.0237069\n",
      "  -1.02155172 -1.0308908  -1.05100575 -1.07183908 -1.03232759 -1.00215517\n",
      "  -1.03520115 -0.96767241 -0.95905172 -0.94181034 -0.93606322 -0.85057471\n",
      "  -0.83477011 -0.81034483 -0.77801724 -0.70977011 -0.65876437 -0.61278736\n",
      "  -0.58979885 -0.51939655 -0.46623563 -0.41954023 -0.32183908 -0.23275862\n",
      "  -0.18318966 -0.15517241 -0.06178161 -0.01795977]\n",
      " [-0.0121547   0.20883978  0.43259669  0.57569061  0.72541436  0.76298343\n",
      "   0.78508287  0.73425414  0.63259669  0.51436464  0.36187845  0.1801105\n",
      "   0.03038674 -0.10828729 -0.22209945 -0.32651934 -0.4038674  -0.40883978\n",
      "  -0.39502762 -0.27790055 -0.20828729 -0.15856354 -0.05469613  0.00331492\n",
      "   0.02320442  0.04364641  0.03535912 -0.04585635 -0.08287293 -0.17071823\n",
      "  -0.25414365 -0.34751381 -0.34088398 -0.37127072 -0.34530387 -0.27292818\n",
      "  -0.17403315 -0.04143646  0.1         0.27955801  0.41767956  0.59060773\n",
      "   0.69944751  0.77016575  0.78232044  0.71381215  0.63093923  0.48839779\n",
      "   0.32044199  0.10883978 -0.09005525 -0.30939227 -0.50662983 -0.6359116\n",
      "  -0.74309392 -0.78287293 -0.74972376 -0.67513812 -0.55745856 -0.3839779\n",
      "  -0.27845304 -0.12596685  0.05027624  0.2121547   0.28287293  0.35027624\n",
      "   0.39392265  0.34254144  0.31436464  0.23370166  0.16906077  0.08066298\n",
      "   0.01767956 -0.00441989 -0.0480663  -0.0160221  -0.00994475  0.07458564\n",
      "   0.12486188  0.20773481  0.28563536  0.36629834  0.37403315  0.38287293\n",
      "   0.32320442  0.25524862  0.14309392 -0.0198895  -0.19779006 -0.37845304\n",
      "  -0.55745856 -0.68176796 -0.73646409 -0.78618785 -0.76629834 -0.69834254\n",
      "  -0.59558011 -0.39723757 -0.20662983  0.00607735]]\n"
     ]
    }
   ],
   "source": [
    "print(\n",
    "    f\"The result of the submitted job had {len(result)} PUB and has a value:\\n {result}\\n\"\n",
    ")\n",
    "print(\n",
    "    f\"The associated PubResult of this job has the following data bins:\\n {result[0].data}\\n\"\n",
    ")\n",
    "print(f\"And this DataBin has attributes: {result[0].data.keys()}\")\n",
    "print(\n",
    "    \"Recall that this shape is due to our array of parameter binding sets having shape (100, 2) -- where 2 is the\\n\\\n",
    "         number of parameters in the circuit -- combined with our array of observables having shape (3, 1). \\n\"\n",
    ")\n",
    "print(\n",
    "    f\"The expectation values measured from this PUB are: \\n{result[0].data.evs}\"\n",
    ")"
   ]
  },
  {
   "cell_type": "code",
   "execution_count": 4,
   "id": "ad2aa1a3",
   "metadata": {},
   "outputs": [
    {
     "name": "stdout",
     "output_type": "stream",
     "text": [
      "Databin: DataBin(meas=BitArray(<shape=(), num_shots=4096, num_bits=10>))\n",
      "\n",
      "BitArray: BitArray(<shape=(), num_shots=4096, num_bits=10>)\n",
      "\n",
      "The shape of register `meas` is (4096, 2).\n",
      "\n",
      "The bytes in register `alpha`, shot by shot:\n",
      "[[  0   0]\n",
      " [  3 255]\n",
      " [  3 250]\n",
      " ...\n",
      " [  0  31]\n",
      " [  3 255]\n",
      " [  1 250]]\n",
      "\n"
     ]
    }
   ],
   "source": [
    "# generate a ten-qubit GHZ circuit\n",
    "circuit = QuantumCircuit(10)\n",
    "circuit.h(0)\n",
    "circuit.cx(range(0, 9), range(1, 10))\n",
    " \n",
    "# append measurements with the `measure_all` method\n",
    "circuit.measure_all()\n",
    " \n",
    "# transpile the circuit\n",
    "transpiled_circuit = pm.run(circuit)\n",
    " \n",
    "# run the Sampler job and retrieve the results\n",
    "sampler = Sampler(mode=backend)\n",
    "job = sampler.run([transpiled_circuit])\n",
    "result = job.result()\n",
    " \n",
    "# the data bin contains one BitArray\n",
    "data = result[0].data\n",
    "print(f\"Databin: {data}\\n\")\n",
    " \n",
    "# to access the BitArray, use the key \"meas\", which is the default name of\n",
    "# the classical register when this is added by the `measure_all` method\n",
    "array = data.meas\n",
    "print(f\"BitArray: {array}\\n\")\n",
    "print(f\"The shape of register `meas` is {data.meas.array.shape}.\\n\")\n",
    "print(f\"The bytes in register `alpha`, shot by shot:\\n{data.meas.array}\\n\")"
   ]
  },
  {
   "cell_type": "code",
   "execution_count": 1,
   "id": "ccfe9687",
   "metadata": {},
   "outputs": [
    {
     "ename": "NameError",
     "evalue": "name 'data' is not defined",
     "output_type": "error",
     "traceback": [
      "\u001b[31m---------------------------------------------------------------------------\u001b[39m",
      "\u001b[31mNameError\u001b[39m                                 Traceback (most recent call last)",
      "\u001b[36mCell\u001b[39m\u001b[36m \u001b[39m\u001b[32mIn[1]\u001b[39m\u001b[32m, line 2\u001b[39m\n\u001b[32m      1\u001b[39m \u001b[38;5;66;03m# optionally, convert away from the native BitArray format to a dictionary format\u001b[39;00m\n\u001b[32m----> \u001b[39m\u001b[32m2\u001b[39m counts = \u001b[43mdata\u001b[49m.meas.get_counts()\n\u001b[32m      3\u001b[39m \u001b[38;5;28mprint\u001b[39m(\u001b[33mf\u001b[39m\u001b[33m\"\u001b[39m\u001b[33mCounts: \u001b[39m\u001b[38;5;132;01m{\u001b[39;00mcounts\u001b[38;5;132;01m}\u001b[39;00m\u001b[33m\"\u001b[39m)\n",
      "\u001b[31mNameError\u001b[39m: name 'data' is not defined"
     ]
    }
   ],
   "source": [
    "# optionally, convert away from the native BitArray format to a dictionary format\n",
    "counts = data.meas.get_counts()\n",
    "print(f\"Counts: {counts}\")"
   ]
  },
  {
   "cell_type": "markdown",
   "id": "a2ccfc71",
   "metadata": {},
   "source": [
    "## Objective 4 : Run Job sessions\n",
    "\n",
    "### Open a session"
   ]
  },
  {
   "cell_type": "code",
   "execution_count": 6,
   "id": "3b69c1df",
   "metadata": {},
   "outputs": [
    {
     "ename": "RequestsApiError",
     "evalue": "'400 Client Error: Bad Request for url: https://us-east.quantum-computing.cloud.ibm.com/sessions. {\"errors\":[{\"code\":1352,\"message\":\"You are not authorized to run a session when using the open plan.\",\"solution\":\"Create an instance of a different plan type or use a different [execution mode](https://quantum.cloud.ibm.com/docs/guides/execution-modes).\",\"more_info\":\"https://cloud.ibm.com/apidocs/quantum-computing#error-handling\"}],\"trace\":\"cc46186b-9792-4e4f-961e-9dd6389b3de1\"}\\n'",
     "output_type": "error",
     "traceback": [
      "\u001b[31m---------------------------------------------------------------------------\u001b[39m",
      "\u001b[31mHTTPError\u001b[39m                                 Traceback (most recent call last)",
      "\u001b[36mFile \u001b[39m\u001b[32mC:\\QC\\venvs\\sandbox\\.venv\\Lib\\site-packages\\qiskit_ibm_runtime\\api\\session.py:328\u001b[39m, in \u001b[36mRetrySession.request\u001b[39m\u001b[34m(self, method, url, bare, **kwargs)\u001b[39m\n\u001b[32m    327\u001b[39m     response = \u001b[38;5;28msuper\u001b[39m().request(method, final_url, headers=headers, **kwargs)\n\u001b[32m--> \u001b[39m\u001b[32m328\u001b[39m     \u001b[43mresponse\u001b[49m\u001b[43m.\u001b[49m\u001b[43mraise_for_status\u001b[49m\u001b[43m(\u001b[49m\u001b[43m)\u001b[49m\n\u001b[32m    329\u001b[39m \u001b[38;5;28;01mexcept\u001b[39;00m RequestException \u001b[38;5;28;01mas\u001b[39;00m ex:\n\u001b[32m    330\u001b[39m     \u001b[38;5;66;03m# Wrap the requests exceptions into a IBM Q custom one, for\u001b[39;00m\n\u001b[32m    331\u001b[39m     \u001b[38;5;66;03m# compatibility.\u001b[39;00m\n",
      "\u001b[36mFile \u001b[39m\u001b[32mC:\\QC\\venvs\\sandbox\\.venv\\Lib\\site-packages\\requests\\models.py:1024\u001b[39m, in \u001b[36mResponse.raise_for_status\u001b[39m\u001b[34m(self)\u001b[39m\n\u001b[32m   1023\u001b[39m \u001b[38;5;28;01mif\u001b[39;00m http_error_msg:\n\u001b[32m-> \u001b[39m\u001b[32m1024\u001b[39m     \u001b[38;5;28;01mraise\u001b[39;00m HTTPError(http_error_msg, response=\u001b[38;5;28mself\u001b[39m)\n",
      "\u001b[31mHTTPError\u001b[39m: 400 Client Error: Bad Request for url: https://us-east.quantum-computing.cloud.ibm.com/sessions",
      "\nThe above exception was the direct cause of the following exception:\n",
      "\u001b[31mRequestsApiError\u001b[39m                          Traceback (most recent call last)",
      "\u001b[36mCell\u001b[39m\u001b[36m \u001b[39m\u001b[32mIn[6]\u001b[39m\u001b[32m, line 11\u001b[39m\n\u001b[32m      8\u001b[39m service = QiskitRuntimeService()\n\u001b[32m     10\u001b[39m backend = service.least_busy(operational=\u001b[38;5;28;01mTrue\u001b[39;00m, simulator=\u001b[38;5;28;01mFalse\u001b[39;00m)\n\u001b[32m---> \u001b[39m\u001b[32m11\u001b[39m session = \u001b[43mSession\u001b[49m\u001b[43m(\u001b[49m\u001b[43mbackend\u001b[49m\u001b[43m=\u001b[49m\u001b[43mbackend\u001b[49m\u001b[43m)\u001b[49m\n\u001b[32m     12\u001b[39m estimator = Estimator(mode=session)\n\u001b[32m     13\u001b[39m sampler = Sampler(mode=session)\n",
      "\u001b[36mFile \u001b[39m\u001b[32mC:\\QC\\venvs\\sandbox\\.venv\\Lib\\site-packages\\qiskit_ibm_runtime\\session.py:131\u001b[39m, in \u001b[36mSession.__init__\u001b[39m\u001b[34m(self, backend, max_time, create_new)\u001b[39m\n\u001b[32m    129\u001b[39m \u001b[38;5;28mself\u001b[39m._instance = \u001b[38;5;28mself\u001b[39m._backend._instance\n\u001b[32m    130\u001b[39m \u001b[38;5;28;01mif\u001b[39;00m \u001b[38;5;129;01mnot\u001b[39;00m \u001b[38;5;28mself\u001b[39m._backend.configuration().simulator:\n\u001b[32m--> \u001b[39m\u001b[32m131\u001b[39m     \u001b[38;5;28mself\u001b[39m._session_id = \u001b[38;5;28;43mself\u001b[39;49m\u001b[43m.\u001b[49m\u001b[43m_create_session\u001b[49m\u001b[43m(\u001b[49m\u001b[43mcreate_new\u001b[49m\u001b[43m=\u001b[49m\u001b[43mcreate_new\u001b[49m\u001b[43m)\u001b[49m\n",
      "\u001b[36mFile \u001b[39m\u001b[32mC:\\QC\\venvs\\sandbox\\.venv\\Lib\\site-packages\\qiskit_ibm_runtime\\session.py:136\u001b[39m, in \u001b[36mSession._create_session\u001b[39m\u001b[34m(self, create_new)\u001b[39m\n\u001b[32m    134\u001b[39m \u001b[38;5;250m\u001b[39m\u001b[33;03m\"\"\"Create a session.\"\"\"\u001b[39;00m\n\u001b[32m    135\u001b[39m \u001b[38;5;28;01mif\u001b[39;00m \u001b[38;5;28misinstance\u001b[39m(\u001b[38;5;28mself\u001b[39m._service, QiskitRuntimeService) \u001b[38;5;129;01mand\u001b[39;00m create_new:\n\u001b[32m--> \u001b[39m\u001b[32m136\u001b[39m     session = \u001b[38;5;28;43mself\u001b[39;49m\u001b[43m.\u001b[49m\u001b[43m_service\u001b[49m\u001b[43m.\u001b[49m\u001b[43m_api_client\u001b[49m\u001b[43m.\u001b[49m\u001b[43mcreate_session\u001b[49m\u001b[43m(\u001b[49m\n\u001b[32m    137\u001b[39m \u001b[43m        \u001b[49m\u001b[38;5;28;43mself\u001b[39;49m\u001b[43m.\u001b[49m\u001b[43mbackend\u001b[49m\u001b[43m(\u001b[49m\u001b[43m)\u001b[49m\u001b[43m,\u001b[49m\u001b[43m \u001b[49m\u001b[38;5;28;43mself\u001b[39;49m\u001b[43m.\u001b[49m\u001b[43m_instance\u001b[49m\u001b[43m,\u001b[49m\u001b[43m \u001b[49m\u001b[38;5;28;43mself\u001b[39;49m\u001b[43m.\u001b[49m\u001b[43m_max_time\u001b[49m\u001b[43m,\u001b[49m\u001b[43m \u001b[49m\u001b[38;5;28;43mself\u001b[39;49m\u001b[43m.\u001b[49m\u001b[43m_service\u001b[49m\u001b[43m.\u001b[49m\u001b[43mchannel\u001b[49m\u001b[43m,\u001b[49m\u001b[43m \u001b[49m\u001b[33;43m\"\u001b[39;49m\u001b[33;43mdedicated\u001b[39;49m\u001b[33;43m\"\u001b[39;49m\n\u001b[32m    138\u001b[39m \u001b[43m    \u001b[49m\u001b[43m)\u001b[49m\n\u001b[32m    139\u001b[39m     \u001b[38;5;28;01mreturn\u001b[39;00m session.get(\u001b[33m\"\u001b[39m\u001b[33mid\u001b[39m\u001b[33m\"\u001b[39m)\n\u001b[32m    140\u001b[39m \u001b[38;5;28;01mreturn\u001b[39;00m \u001b[38;5;28;01mNone\u001b[39;00m\n",
      "\u001b[36mFile \u001b[39m\u001b[32mC:\\QC\\venvs\\sandbox\\.venv\\Lib\\site-packages\\qiskit_ibm_runtime\\api\\clients\\runtime.py:236\u001b[39m, in \u001b[36mRuntimeClient.create_session\u001b[39m\u001b[34m(self, backend, instance, max_time, channel, mode)\u001b[39m\n\u001b[32m    223\u001b[39m \u001b[38;5;28;01mdef\u001b[39;00m\u001b[38;5;250m \u001b[39m\u001b[34mcreate_session\u001b[39m(\n\u001b[32m    224\u001b[39m     \u001b[38;5;28mself\u001b[39m,\n\u001b[32m    225\u001b[39m     backend: Optional[\u001b[38;5;28mstr\u001b[39m] = \u001b[38;5;28;01mNone\u001b[39;00m,\n\u001b[32m   (...)\u001b[39m\u001b[32m    229\u001b[39m     mode: Optional[\u001b[38;5;28mstr\u001b[39m] = \u001b[38;5;28;01mNone\u001b[39;00m,\n\u001b[32m    230\u001b[39m ) -> Dict[\u001b[38;5;28mstr\u001b[39m, Any]:\n\u001b[32m    231\u001b[39m \u001b[38;5;250m    \u001b[39m\u001b[33;03m\"\"\"Create a session.\u001b[39;00m\n\u001b[32m    232\u001b[39m \n\u001b[32m    233\u001b[39m \u001b[33;03m    Args:\u001b[39;00m\n\u001b[32m    234\u001b[39m \u001b[33;03m        mode: Execution mode.\u001b[39;00m\n\u001b[32m    235\u001b[39m \u001b[33;03m    \"\"\"\u001b[39;00m\n\u001b[32m--> \u001b[39m\u001b[32m236\u001b[39m     \u001b[38;5;28;01mreturn\u001b[39;00m \u001b[38;5;28;43mself\u001b[39;49m\u001b[43m.\u001b[49m\u001b[43m_api\u001b[49m\u001b[43m.\u001b[49m\u001b[43mruntime_session\u001b[49m\u001b[43m(\u001b[49m\u001b[43msession_id\u001b[49m\u001b[43m=\u001b[49m\u001b[38;5;28;43;01mNone\u001b[39;49;00m\u001b[43m)\u001b[49m\u001b[43m.\u001b[49m\u001b[43mcreate\u001b[49m\u001b[43m(\u001b[49m\n\u001b[32m    237\u001b[39m \u001b[43m        \u001b[49m\u001b[43mbackend\u001b[49m\u001b[43m,\u001b[49m\u001b[43m \u001b[49m\u001b[43minstance\u001b[49m\u001b[43m,\u001b[49m\u001b[43m \u001b[49m\u001b[43mmax_time\u001b[49m\u001b[43m,\u001b[49m\u001b[43m \u001b[49m\u001b[43mchannel\u001b[49m\u001b[43m,\u001b[49m\u001b[43m \u001b[49m\u001b[43mmode\u001b[49m\n\u001b[32m    238\u001b[39m \u001b[43m    \u001b[49m\u001b[43m)\u001b[49m\n",
      "\u001b[36mFile \u001b[39m\u001b[32mC:\\QC\\venvs\\sandbox\\.venv\\Lib\\site-packages\\qiskit_ibm_runtime\\api\\rest\\runtime_session.py:65\u001b[39m, in \u001b[36mRuntimeSession.create\u001b[39m\u001b[34m(self, backend, instance, max_time, channel, mode)\u001b[39m\n\u001b[32m     63\u001b[39m     \u001b[38;5;28;01melse\u001b[39;00m:\n\u001b[32m     64\u001b[39m         payload[\u001b[33m\"\u001b[39m\u001b[33mmax_ttl\u001b[39m\u001b[33m\"\u001b[39m] = max_time  \u001b[38;5;66;03m# type: ignore[assignment]\u001b[39;00m\n\u001b[32m---> \u001b[39m\u001b[32m65\u001b[39m \u001b[38;5;28;01mreturn\u001b[39;00m \u001b[38;5;28;43mself\u001b[39;49m\u001b[43m.\u001b[49m\u001b[43msession\u001b[49m\u001b[43m.\u001b[49m\u001b[43mpost\u001b[49m\u001b[43m(\u001b[49m\u001b[43murl\u001b[49m\u001b[43m,\u001b[49m\u001b[43m \u001b[49m\u001b[43mjson\u001b[49m\u001b[43m=\u001b[49m\u001b[43mpayload\u001b[49m\u001b[43m,\u001b[49m\u001b[43m \u001b[49m\u001b[43mheaders\u001b[49m\u001b[43m=\u001b[49m\u001b[38;5;28;43mself\u001b[39;49m\u001b[43m.\u001b[49m\u001b[43m_HEADER_JSON_CONTENT\u001b[49m\u001b[43m)\u001b[49m.json()\n",
      "\u001b[36mFile \u001b[39m\u001b[32mC:\\QC\\venvs\\sandbox\\.venv\\Lib\\site-packages\\requests\\sessions.py:637\u001b[39m, in \u001b[36mSession.post\u001b[39m\u001b[34m(self, url, data, json, **kwargs)\u001b[39m\n\u001b[32m    626\u001b[39m \u001b[38;5;28;01mdef\u001b[39;00m\u001b[38;5;250m \u001b[39m\u001b[34mpost\u001b[39m(\u001b[38;5;28mself\u001b[39m, url, data=\u001b[38;5;28;01mNone\u001b[39;00m, json=\u001b[38;5;28;01mNone\u001b[39;00m, **kwargs):\n\u001b[32m    627\u001b[39m \u001b[38;5;250m    \u001b[39m\u001b[33mr\u001b[39m\u001b[33;03m\"\"\"Sends a POST request. Returns :class:`Response` object.\u001b[39;00m\n\u001b[32m    628\u001b[39m \n\u001b[32m    629\u001b[39m \u001b[33;03m    :param url: URL for the new :class:`Request` object.\u001b[39;00m\n\u001b[32m   (...)\u001b[39m\u001b[32m    634\u001b[39m \u001b[33;03m    :rtype: requests.Response\u001b[39;00m\n\u001b[32m    635\u001b[39m \u001b[33;03m    \"\"\"\u001b[39;00m\n\u001b[32m--> \u001b[39m\u001b[32m637\u001b[39m     \u001b[38;5;28;01mreturn\u001b[39;00m \u001b[38;5;28;43mself\u001b[39;49m\u001b[43m.\u001b[49m\u001b[43mrequest\u001b[49m\u001b[43m(\u001b[49m\u001b[33;43m\"\u001b[39;49m\u001b[33;43mPOST\u001b[39;49m\u001b[33;43m\"\u001b[39;49m\u001b[43m,\u001b[49m\u001b[43m \u001b[49m\u001b[43murl\u001b[49m\u001b[43m,\u001b[49m\u001b[43m \u001b[49m\u001b[43mdata\u001b[49m\u001b[43m=\u001b[49m\u001b[43mdata\u001b[49m\u001b[43m,\u001b[49m\u001b[43m \u001b[49m\u001b[43mjson\u001b[49m\u001b[43m=\u001b[49m\u001b[43mjson\u001b[49m\u001b[43m,\u001b[49m\u001b[43m \u001b[49m\u001b[43m*\u001b[49m\u001b[43m*\u001b[49m\u001b[43mkwargs\u001b[49m\u001b[43m)\u001b[49m\n",
      "\u001b[36mFile \u001b[39m\u001b[32mC:\\QC\\venvs\\sandbox\\.venv\\Lib\\site-packages\\qiskit_ibm_runtime\\api\\session.py:356\u001b[39m, in \u001b[36mRetrySession.request\u001b[39m\u001b[34m(self, method, url, bare, **kwargs)\u001b[39m\n\u001b[32m    350\u001b[39m     \u001b[38;5;28;01mif\u001b[39;00m status_code == \u001b[32m503\u001b[39m:  \u001b[38;5;66;03m# Planned maintenance outage\u001b[39;00m\n\u001b[32m    351\u001b[39m         \u001b[38;5;28;01mraise\u001b[39;00m RequestsApiError(\n\u001b[32m    352\u001b[39m             \u001b[33m\"\u001b[39m\u001b[33mUnexpected response received from server. Please check if the service \u001b[39m\u001b[33m\"\u001b[39m\n\u001b[32m    353\u001b[39m             \u001b[33m\"\u001b[39m\u001b[33mis in maintenance mode \u001b[39m\u001b[33m\"\u001b[39m\n\u001b[32m    354\u001b[39m             \u001b[33mf\u001b[39m\u001b[33m\"\u001b[39m\u001b[33mhttps://docs.quantum.ibm.com/announcements/service-alerts \u001b[39m\u001b[38;5;132;01m{\u001b[39;00mmessage\u001b[38;5;132;01m}\u001b[39;00m\u001b[33m\"\u001b[39m\n\u001b[32m    355\u001b[39m         )\n\u001b[32m--> \u001b[39m\u001b[32m356\u001b[39m     \u001b[38;5;28;01mraise\u001b[39;00m RequestsApiError(message, status_code) \u001b[38;5;28;01mfrom\u001b[39;00m\u001b[38;5;250m \u001b[39m\u001b[34;01mex\u001b[39;00m\n\u001b[32m    358\u001b[39m \u001b[38;5;28;01mreturn\u001b[39;00m response\n",
      "\u001b[31mRequestsApiError\u001b[39m: '400 Client Error: Bad Request for url: https://us-east.quantum-computing.cloud.ibm.com/sessions. {\"errors\":[{\"code\":1352,\"message\":\"You are not authorized to run a session when using the open plan.\",\"solution\":\"Create an instance of a different plan type or use a different [execution mode](https://quantum.cloud.ibm.com/docs/guides/execution-modes).\",\"more_info\":\"https://cloud.ibm.com/apidocs/quantum-computing#error-handling\"}],\"trace\":\"cc46186b-9792-4e4f-961e-9dd6389b3de1\"}\\n'"
     ]
    }
   ],
   "source": [
    "from qiskit_ibm_runtime import (\n",
    "    QiskitRuntimeService,\n",
    "    Session,\n",
    "    SamplerV2 as Sampler,\n",
    "    EstimatorV2 as Estimator,\n",
    ")\n",
    " \n",
    "service = QiskitRuntimeService()\n",
    "\n",
    "backend = service.least_busy(operational=True, simulator=False)\n",
    "session = Session(backend=backend)\n",
    "estimator = Estimator(mode=session)\n",
    "sampler = Sampler(mode=session)\n",
    "# Close the session because no context manager was used.\n",
    "session.close()"
   ]
  },
  {
   "cell_type": "markdown",
   "id": "92640936",
   "metadata": {},
   "source": [
    "### Session Length\n"
   ]
  },
  {
   "cell_type": "code",
   "execution_count": null,
   "id": "6439b92a",
   "metadata": {},
   "outputs": [],
   "source": [
    "backend = service.least_busy(operational=True, simulator=False)\n",
    "session = Session(backend=backend)\n",
    "estimator = Estimator(mode=session)\n",
    "sampler = Sampler(mode=session)\n",
    "# Close the session because no context manager was used.\n",
    "session.close()"
   ]
  },
  {
   "cell_type": "markdown",
   "id": "fdc019c3",
   "metadata": {},
   "source": [
    "### End a session\n",
    "\n",
    "* TTL is reached\n",
    "* session is manually canceled or closed\n",
    "* session is used in a context manager , automatically closed when the context ends\n"
   ]
  },
  {
   "cell_type": "code",
   "execution_count": null,
   "id": "3e38e1ff",
   "metadata": {},
   "outputs": [],
   "source": [
    "session = Session(backend=backend)\n",
    " \n",
    "# If using qiskit-ibm-runtime earlier than 0.24.0, change `mode=` to `session=`\n",
    "estimator = Estimator(mode=session)\n",
    "estimator = Sampler(mode=session)\n",
    "job1 = estimator.run([estimator_pub])\n",
    "job2 = sampler.run([sampler_pub])\n",
    "print(f\"Result1: {job1.result()}\")\n",
    "print(f\"Result2: {job2.result()}\")\n",
    " \n",
    "# Manually close the session. Running and queued jobs will run to completion.\n",
    "session.close()"
   ]
  },
  {
   "cell_type": "markdown",
   "id": "5729c1dd",
   "metadata": {},
   "source": [
    "### Check Session status\n",
    "\n",
    "Use <code>session.status()</code>\n",
    "* Pending\n",
    "* In Progress, accepting new jobs\n",
    "* In Progress, not accepting new jobs\n",
    "* Closed"
   ]
  },
  {
   "cell_type": "markdown",
   "id": "014f29ca",
   "metadata": {},
   "source": [
    "### Determine Session details"
   ]
  },
  {
   "cell_type": "code",
   "execution_count": null,
   "id": "95ac01e6",
   "metadata": {},
   "outputs": [],
   "source": [
    "from qiskit_ibm_runtime import (\n",
    "    QiskitRuntimeService,\n",
    "    Session,\n",
    "    EstimatorV2 as Estimator,\n",
    ")\n",
    " \n",
    "service = QiskitRuntimeService()\n",
    "backend = service.least_busy(operational=True, simulator=False)\n",
    " \n",
    "with Session(backend=backend) as session:\n",
    "    print(session.details())"
   ]
  },
  {
   "cell_type": "markdown",
   "id": "91391d52",
   "metadata": {},
   "source": [
    "### Usage Patterns\n",
    "\n",
    "* Run iterative workload that uses SCiPy to minimize cost function\n",
    "* RUn VQE algorithms in sessions"
   ]
  }
 ],
 "metadata": {
  "kernelspec": {
   "display_name": "Python 3 (ipykernel)",
   "language": "python",
   "name": "python3"
  },
  "language_info": {
   "codemirror_mode": {
    "name": "ipython",
    "version": 3
   },
   "file_extension": ".py",
   "mimetype": "text/x-python",
   "name": "python",
   "nbconvert_exporter": "python",
   "pygments_lexer": "ipython3",
   "version": "3.13.7"
  }
 },
 "nbformat": 4,
 "nbformat_minor": 5
}
