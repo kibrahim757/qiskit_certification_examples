{
 "cells": [
  {
   "cell_type": "markdown",
   "id": "f06b0ae4",
   "metadata": {},
   "source": [
    "# Taask 4.2 Demonstrate running Circuits on Real Hardware\n",
    "\n",
    "## Objective 1 : Execute on Target Hardware\n",
    "\n",
    "Check Task 4.1 Objective 1"
   ]
  },
  {
   "cell_type": "markdown",
   "id": "d81b9199",
   "metadata": {},
   "source": [
    "## Objective 2: Primitives\n",
    "\n",
    "* Abstraction"
   ]
  }
 ],
 "metadata": {
  "kernelspec": {
   "display_name": "Python 3 (ipykernel)",
   "language": "python",
   "name": "python3"
  }
 },
 "nbformat": 4,
 "nbformat_minor": 5
}
