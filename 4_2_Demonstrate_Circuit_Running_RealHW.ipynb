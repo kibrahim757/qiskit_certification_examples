{
 "cells": [
  {
   "cell_type": "markdown",
   "id": "f06b0ae4",
   "metadata": {},
   "source": [
    "# Taask 4.2 Demonstrate running Circuits on Real Hardware\n",
    "\n",
    "## Objective 1 : Execute on Target Hardware\n",
    "\n",
    "Check Task 4.1 Objective 1"
   ]
  }
 ],
 "metadata": {
  "language_info": {
   "name": "python"
  }
 },
 "nbformat": 4,
 "nbformat_minor": 5
}
