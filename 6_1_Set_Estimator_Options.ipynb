{
 "cells": [
  {
   "cell_type": "markdown",
   "id": "48909273",
   "metadata": {},
   "source": [
    "# Task 6.1 Set Estimator Options"
   ]
  },
  {
   "cell_type": "markdown",
   "id": "17545150",
   "metadata": {},
   "source": [
    "## Objective 1: Estimator Options"
   ]
  },
  {
   "cell_type": "markdown",
   "id": "691d2cd4",
   "metadata": {},
   "source": [
    "### Attributes\n",
    "\n",
    "\n",
    "* _VERSION\n",
    "* max_execution_time\n",
    "* environment\n",
    "* simulator\n",
    "* default_precision\n",
    "* default_shots\n",
    "* resilience_level\n",
    "* seed_estimator\n",
    "* dynamical_decoupling\n",
    "* resilience\n",
    "* execution\n",
    "* twirling\n",
    "* experimental"
   ]
  },
  {
   "cell_type": "markdown",
   "id": "172911a4",
   "metadata": {},
   "source": [
    "### Methods\n",
    "\n",
    "* update"
   ]
  },
  {
   "cell_type": "markdown",
   "id": "c5262d67",
   "metadata": {},
   "source": [
    "## Objective 2: Twirling Options"
   ]
  },
  {
   "cell_type": "markdown",
   "id": "d7f08166",
   "metadata": {},
   "source": [
    "Check objective 3 in Task 5.1"
   ]
  },
  {
   "cell_type": "markdown",
   "id": "9d10e361",
   "metadata": {},
   "source": [
    "## Objective 3: Resilience Options"
   ]
  },
  {
   "cell_type": "markdown",
   "id": "8c2cb1cb",
   "metadata": {},
   "source": [
    "### Attributes\n",
    "\n",
    "* measure_mitigation\n",
    "* measure_noise_learning\n",
    "* zne_mitigation\n",
    "* zne\n",
    "* pec_mitigation\n",
    "* pec\n",
    "* layer_noise_learning\n",
    "* layer_noise_model\n"
   ]
  },
  {
   "cell_type": "markdown",
   "id": "8571f4e7",
   "metadata": {},
   "source": [
    "## Objective 4: ZNE Options"
   ]
  },
  {
   "cell_type": "markdown",
   "id": "263c7c2a",
   "metadata": {},
   "source": [
    "### Attributes\n",
    "\n",
    "* ampllifier --> gate_folding , gate_folding_front, gate_folding_back, pea\n",
    "* noise_factors\n",
    "* extrapolator\n",
    "* extrapolated_noise_factors"
   ]
  }
 ],
 "metadata": {
  "language_info": {
   "name": "python"
  }
 },
 "nbformat": 4,
 "nbformat_minor": 5
}
