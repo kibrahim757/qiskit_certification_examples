{
 "cells": [
  {
   "cell_type": "markdown",
   "id": "48909273",
   "metadata": {},
   "source": [
    "# Task 6.1 Set Estimator Options\n",
    "\n",
    "## Objective 1: Estimator Options"
   ]
  },
  {
   "cell_type": "markdown",
   "id": "691d2cd4",
   "metadata": {},
   "source": [
    "### Attributes\n",
    "\n",
    "\n",
    "* _VERSION\n",
    "* max_execution_time\n",
    "* environment\n",
    "* simulator\n",
    "* default_precision\n",
    "* default_shots\n",
    "* resilience_level\n",
    "* seed_estimator\n",
    "* dynamical_decoupling\n",
    "* resilience\n",
    "* execution\n",
    "* twirling\n",
    "* experimental"
   ]
  },
  {
   "cell_type": "markdown",
   "id": "172911a4",
   "metadata": {},
   "source": [
    "### Methods\n",
    "\n",
    "* update"
   ]
  },
  {
   "cell_type": "markdown",
   "id": "c5262d67",
   "metadata": {},
   "source": [
    "## Objective 2: Twirling Options\n",
    "\n",
    "Check objective 3 in Task 5.1"
   ]
  }
 ],
 "metadata": {
  "language_info": {
   "name": "python"
  }
 },
 "nbformat": 4,
 "nbformat_minor": 5
}
