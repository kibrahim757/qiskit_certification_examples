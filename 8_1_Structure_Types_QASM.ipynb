{
 "cells": [
  {
   "cell_type": "markdown",
   "id": "ce369072",
   "metadata": {},
   "source": [
    "# Task 8.1\n",
    "\n",
    "## QASM 3 Types"
   ]
  },
  {
   "cell_type": "markdown",
   "id": "4e4abee3",
   "metadata": {},
   "source": [
    "### Identifiers\n",
    "\n",
    "* Start with [A-Za-z], an underscore or an element from the Unicode character categories Lu/Ll/Lt/Lm/Lo/Nl\n",
    "* set of permissible continuation characters consists of all members of the aforementioned character sets with the addition of decimal numerals [0-9]\n",
    "* may not override a reserved identifier"
   ]
  },
  {
   "cell_type": "markdown",
   "id": "76c01fb0",
   "metadata": {},
   "source": [
    "### Variables\n",
    "\n",
    "* named according to the rules for identifiers\n",
    "* may be assigned values within a program\n",
    "* can be initialized on declaration if they represent a classical type\n",
    "* Declaration and initialization must be done one variable at a time\n",
    "\n",
    "```\n",
    "qubit q0;\n",
    "qubit q1\n",
    "qubit q2;\n",
    "```\n",
    "\n",
    "```\n",
    "int[32] a;\n",
    "float[32] b = 5.5;\n",
    "bit[3] c;\n",
    "bool my_bool = false;\n",
    "```"
   ]
  },
  {
   "cell_type": "markdown",
   "id": "90594fc3",
   "metadata": {},
   "source": [
    "### Quantum Types\n",
    "\n",
    "* qubit\n",
    "* qubit[size]\n",
    "* qreg will be removed in teh future\n",
    "* Global Variables\n",
    "\n",
    "```\n",
    "include \"stdgates.inc\";\n",
    "\n",
    "qubit[5] q1;\n",
    "const uint SIZE = 4;\n",
    "uint runtime_u = 2;\n",
    "qubit[SIZE] q2;  \n",
    "x q1[0];\n",
    "z q2[SIZE - 2];  \n",
    "x q1[runtime_u];\n",
    "```"
   ]
  },
  {
   "cell_type": "markdown",
   "id": "c7b2bc33",
   "metadata": {},
   "source": [
    "### Physical Qubits\n",
    "\n",
    "* can  be referenced by syntax $0,$1, ... \n",
    "* can not be declared\n",
    "* global\n",
    "\n",
    "```\n",
    "qubit gamma;\n",
    "qubit γ;\n",
    "qubit[20] qubit_array;\n",
    "CX $0, $1;\n",
    "```"
   ]
  }
 ],
 "metadata": {
  "kernelspec": {
   "display_name": "Python 3 (ipykernel)",
   "language": "python",
   "name": "python3"
  }
 },
 "nbformat": 4,
 "nbformat_minor": 5
}
