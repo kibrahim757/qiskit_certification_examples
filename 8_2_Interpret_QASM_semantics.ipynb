{
 "cells": [
  {
   "cell_type": "markdown",
   "id": "a6501d38",
   "metadata": {},
   "source": [
    "# Task 8.2 Open QASM3"
   ]
  },
  {
   "cell_type": "markdown",
   "id": "d2d11bd7",
   "metadata": {},
   "source": [
    "\n",
    "## Exporting to QASM 3\n",
    "\n",
    "* use ```dump()``` to export to a file\n",
    "* use ```dumps()``` to export to a Open QASM3 string\n",
    "\n",
    "### Exporter\n",
    "\n",
    "* Exporter main class\n",
    "* includes --> stdgates.inc\n",
    "* basis_gate --> gates defined in the backend\n",
    "* disable_constants\n",
    "* alias_classic_registers\n",
    "* allow_aliasing\n",
    "* indent\n",
    "* experimental\n",
    "* annotation_handlers\n",
    "\n",
    "### dump\n",
    "\n",
    "* export circuit to stream\n",
    "\n",
    "### dumps\n",
    "\n",
    "* export circuit to string\n",
    "\n",
    "### QASM3ExporterError\n",
    "\n",
    "* raise error during running QASM3 Exporter\n",
    "\n",
    "### ExeperimentalFeatures\n",
    "\n"
   ]
  },
  {
   "cell_type": "markdown",
   "id": "791a382a",
   "metadata": {},
   "source": [
    "## Importing from QASM 3\n",
    "\n",
    "* use ```load``` to import from file\n",
    "* use ```loads``` to import from stream\n",
    "\n",
    "### QASM3ImoporterError\n",
    "\n",
    "### ExperimentalImportInterface\n",
    "\n",
    "* in Rust\n",
    "* load_experimental\n",
    "* loads_experimental"
   ]
  }
 ],
 "metadata": {
  "language_info": {
   "name": "python"
  }
 },
 "nbformat": 4,
 "nbformat_minor": 5
}
